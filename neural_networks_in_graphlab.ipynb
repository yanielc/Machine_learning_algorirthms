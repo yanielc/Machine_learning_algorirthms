{
 "cells": [
  {
   "cell_type": "markdown",
   "metadata": {},
   "source": [
    "# Neural networks in GraphLab\n",
    "\n",
    "An example of building a neural network in GraphLab for image recognition. "
   ]
  },
  {
   "cell_type": "code",
   "execution_count": 2,
   "metadata": {},
   "outputs": [],
   "source": [
    "import graphlab as gl"
   ]
  },
  {
   "cell_type": "code",
   "execution_count": 4,
   "metadata": {},
   "outputs": [],
   "source": [
    "#Load training and testing data\n",
    "data = graphlab.SFrame('https://static.turi.com/datasets/mnist/sframe/train')\n",
    "test_data = graphlab.SFrame('https://static.turi.com/datasets/mnist/sframe/test')"
   ]
  },
  {
   "cell_type": "code",
   "execution_count": 5,
   "metadata": {},
   "outputs": [],
   "source": [
    "#Peele off a validation set from the training data\n",
    "training_data, validation_data = data.random_split(0.8)"
   ]
  },
  {
   "cell_type": "code",
   "execution_count": 19,
   "metadata": {},
   "outputs": [
    {
     "data": {
      "application/javascript": [
       "$(\"head\").append($(\"<link/>\").attr({\n",
       "  rel:  \"stylesheet\",\n",
       "  type: \"text/css\",\n",
       "  href: \"//cdnjs.cloudflare.com/ajax/libs/font-awesome/4.1.0/css/font-awesome.min.css\"\n",
       "}));\n",
       "$(\"head\").append($(\"<link/>\").attr({\n",
       "  rel:  \"stylesheet\",\n",
       "  type: \"text/css\",\n",
       "  href: \"https://static.turi.com/products/graphlab-create/2.1/canvas/css/canvas.css\"\n",
       "}));\n",
       "\n",
       "            (function(){\n",
       "\n",
       "                var e = null;\n",
       "                if (typeof element == 'undefined') {\n",
       "                    var scripts = document.getElementsByTagName('script');\n",
       "                    var thisScriptTag = scripts[scripts.length-1];\n",
       "                    var parentDiv = thisScriptTag.parentNode;\n",
       "                    e = document.createElement('div');\n",
       "                    parentDiv.appendChild(e);\n",
       "                } else {\n",
       "                    e = element[0];\n",
       "                }\n",
       "\n",
       "                if (typeof requirejs !== 'undefined') {\n",
       "                    // disable load timeout; ipython_app.js is large and can take a while to load.\n",
       "                    requirejs.config({waitSeconds: 0});\n",
       "                }\n",
       "\n",
       "                require(['https://static.turi.com/products/graphlab-create/2.1/canvas/js/ipython_app.js'], function(IPythonApp){\n",
       "                    var app = new IPythonApp();\n",
       "                    app.attachView('sarray','Images', {\"ipython\": true, \"rows\": [{\"format\": \"jpeg\", \"value\": \"image/jpeg;base64,/9j/4AAQSkZJRgABAQAAAQABAAD/2wBDAAgGBgcGBQgHBwcJCQgKDBQNDAsLDBkSEw8UHRofHh0aHBwgJC4nICIsIxwcKDcpLDAxNDQ0Hyc5PTgyPC4zNDL/wAALCAAcABwBAREA/8QAHwAAAQUBAQEBAQEAAAAAAAAAAAECAwQFBgcICQoL/8QAtRAAAgEDAwIEAwUFBAQAAAF9AQIDAAQRBRIhMUEGE1FhByJxFDKBkaEII0KxwRVS0fAkM2JyggkKFhcYGRolJicoKSo0NTY3ODk6Q0RFRkdISUpTVFVWV1hZWmNkZWZnaGlqc3R1dnd4eXqDhIWGh4iJipKTlJWWl5iZmqKjpKWmp6ipqrKztLW2t7i5usLDxMXGx8jJytLT1NXW19jZ2uHi4+Tl5ufo6erx8vP09fb3+Pn6/9oACAEBAAA/APn+pLe3muriO3t4ZJppGCpHGpZmJ6AAck0kkMsMzwyxuksZKujKQykdQR2IplFesfBqfTrJ7+7sbeK+8XIpNjaXJKI0QGX8thn94Rkc44+prGvfjB4qllkbTzYaOJCxkGn2aIXYnJJZtzZP1ridQ1G81a/mvtQuZbm6mO6SaVtzMcY5P0AFWvDupW2j+IbHUL3T4dQtYJQ0trMAVkXoRg8fTPfFel6VF4E8KeKj4zsfEkdxp8Iaax0mNG+0iRgR5b7hwq5+8Tzgfj5Ncztc3Us7ABpXLkDoCTmoqKKKK//Z\\n\", \"height\": 28, \"channels\": 1, \"width\": 28, \"type\": \"image\", \"id\": 43569910672}, {\"format\": \"jpeg\", \"value\": \"image/jpeg;base64,/9j/4AAQSkZJRgABAQAAAQABAAD/2wBDAAgGBgcGBQgHBwcJCQgKDBQNDAsLDBkSEw8UHRofHh0aHBwgJC4nICIsIxwcKDcpLDAxNDQ0Hyc5PTgyPC4zNDL/wAALCAAcABwBAREA/8QAHwAAAQUBAQEBAQEAAAAAAAAAAAECAwQFBgcICQoL/8QAtRAAAgEDAwIEAwUFBAQAAAF9AQIDAAQRBRIhMUEGE1FhByJxFDKBkaEII0KxwRVS0fAkM2JyggkKFhcYGRolJicoKSo0NTY3ODk6Q0RFRkdISUpTVFVWV1hZWmNkZWZnaGlqc3R1dnd4eXqDhIWGh4iJipKTlJWWl5iZmqKjpKWmp6ipqrKztLW2t7i5usLDxMXGx8jJytLT1NXW19jZ2uHi4+Tl5ufo6erx8vP09fb3+Pn6/9oACAEBAAA/APn+tfS/Cuv63k6Zo19dKGVGaKBiqknAycYH41Frnh/VfDd+LHWLKSzuWjEojkxkqc4PH0P5Vm0V9AWI1T4p/wBmz6H4nutO0mygig1ew80xNBhSCyFRhg43jJ9Dnjged/EfxlYa/fmy0e2mSygba11c3LzzXW3OCWckheWIUHGWJ6muDor3P4QHWT8PLyLRLfzLiTXrZZXBHEJ2eZvHUptGCPRjjvXk3i+0tLDxlrVnYY+yQXs0cIVsgKHIAzWLRWxoXivXvDX2gaNqlxZi4XbKIzww9cHofccishmLMWYkknJJ70lf/9k=\\n\", \"height\": 28, \"channels\": 1, \"width\": 28, \"type\": \"image\", \"id\": 43569910864}, {\"format\": \"jpeg\", \"value\": \"image/jpeg;base64,/9j/4AAQSkZJRgABAQAAAQABAAD/2wBDAAgGBgcGBQgHBwcJCQgKDBQNDAsLDBkSEw8UHRofHh0aHBwgJC4nICIsIxwcKDcpLDAxNDQ0Hyc5PTgyPC4zNDL/wAALCAAcABwBAREA/8QAHwAAAQUBAQEBAQEAAAAAAAAAAAECAwQFBgcICQoL/8QAtRAAAgEDAwIEAwUFBAQAAAF9AQIDAAQRBRIhMUEGE1FhByJxFDKBkaEII0KxwRVS0fAkM2JyggkKFhcYGRolJicoKSo0NTY3ODk6Q0RFRkdISUpTVFVWV1hZWmNkZWZnaGlqc3R1dnd4eXqDhIWGh4iJipKTlJWWl5iZmqKjpKWmp6ipqrKztLW2t7i5usLDxMXGx8jJytLT1NXW19jZ2uHi4+Tl5ufo6erx8vP09fb3+Pn6/9oACAEBAAA/APn+itrxL4efw1eWllNcCS6ks4ri4iC4Nu7jcIzyckLtOePvVi0Vv+CtHi1zxdp9pdFRZLJ594zttC28fzyEnt8qmq/inWD4g8U6nqu0KtzOzoqjAVOij8AAKyKK7/wpZzWXwx8Wa9bPbm4k8vTsM6h44n5kIyQfmGFAHJ+b0rgKKKKKK//Z\\n\", \"height\": 28, \"channels\": 1, \"width\": 28, \"type\": \"image\", \"id\": 43569910928}, {\"format\": \"jpeg\", \"value\": \"image/jpeg;base64,/9j/4AAQSkZJRgABAQAAAQABAAD/2wBDAAgGBgcGBQgHBwcJCQgKDBQNDAsLDBkSEw8UHRofHh0aHBwgJC4nICIsIxwcKDcpLDAxNDQ0Hyc5PTgyPC4zNDL/wAALCAAcABwBAREA/8QAHwAAAQUBAQEBAQEAAAAAAAAAAAECAwQFBgcICQoL/8QAtRAAAgEDAwIEAwUFBAQAAAF9AQIDAAQRBRIhMUEGE1FhByJxFDKBkaEII0KxwRVS0fAkM2JyggkKFhcYGRolJicoKSo0NTY3ODk6Q0RFRkdISUpTVFVWV1hZWmNkZWZnaGlqc3R1dnd4eXqDhIWGh4iJipKTlJWWl5iZmqKjpKWmp6ipqrKztLW2t7i5usLDxMXGx8jJytLT1NXW19jZ2uHi4+Tl5ufo6erx8vP09fb3+Pn6/9oACAEBAAA/APn+pjaXItBdm3lFsX2CbYdm7k43dM8Hj2NTyaPqcNobuXTrxLYDJmaBggGQPvYx1YfmPWqVdV4A8D3vjzxEmm2zeTbxjzLq5wD5KeuMjJJwAB6+gNex+J/i54Y8EafD4Z8JadbamtqAjMxzboQfXrI2QCSOPcnIBpfi3XtU+EHifX/Gd3ALK9t3g0yERJGXfay/Ljk5fswP3SelfOVXNP1bUdKMx06+ubQzxmKUwSlC6E5KkjqOK7b4W/D7/hLdUbUdUZbbw/p5D3c0rbBJ1IRWIx1HzegPqRUfxP8AH6eMdTgtdLSS30KwQR2kBBUHAxuK7iOnA4BAOK4GiujHjbVo/BA8JW4t7fTWmM07QxlZLhiQf3jZ5AwOw4UZziucor//2Q==\\n\", \"height\": 28, \"channels\": 1, \"width\": 28, \"type\": \"image\", \"id\": 43569910992}, {\"format\": \"jpeg\", \"value\": \"image/jpeg;base64,/9j/4AAQSkZJRgABAQAAAQABAAD/2wBDAAgGBgcGBQgHBwcJCQgKDBQNDAsLDBkSEw8UHRofHh0aHBwgJC4nICIsIxwcKDcpLDAxNDQ0Hyc5PTgyPC4zNDL/wAALCAAcABwBAREA/8QAHwAAAQUBAQEBAQEAAAAAAAAAAAECAwQFBgcICQoL/8QAtRAAAgEDAwIEAwUFBAQAAAF9AQIDAAQRBRIhMUEGE1FhByJxFDKBkaEII0KxwRVS0fAkM2JyggkKFhcYGRolJicoKSo0NTY3ODk6Q0RFRkdISUpTVFVWV1hZWmNkZWZnaGlqc3R1dnd4eXqDhIWGh4iJipKTlJWWl5iZmqKjpKWmp6ipqrKztLW2t7i5usLDxMXGx8jJytLT1NXW19jZ2uHi4+Tl5ufo6erx8vP09fb3+Pn6/9oACAEBAAA/APn+pbe2nu51gtoZJpn+7HGpZm+gFI9vNGGLwyKEbYxKkbW9D71HWhomi3/iHWLfStMgM93cNtRAcfUk9gByTXtyan4b+BuiyWdr5Gq+M5gn2pTu2wgjON2OFHpwxyCeMYfY/EK4+Ivw18cRa1ZWdv8AYrQTRG3jJyxB25DE87lHPbPtmvn6vUfhj4i0fw34U8TTHUYbPxHcxiCxeUMNgIPzBgCBgnP/AAEVzdr4OS+vXa98XaBBETua4kvC5cdchQN2fZgDW/4m8R+GdB8FSeDfB9xNfJdzCbUdRmi2+bjBVUB5wCPTjHU5NeZ0UUUV/9k=\\n\", \"height\": 28, \"channels\": 1, \"width\": 28, \"type\": \"image\", \"id\": 43569911056}, {\"format\": \"jpeg\", \"value\": \"image/jpeg;base64,/9j/4AAQSkZJRgABAQAAAQABAAD/2wBDAAgGBgcGBQgHBwcJCQgKDBQNDAsLDBkSEw8UHRofHh0aHBwgJC4nICIsIxwcKDcpLDAxNDQ0Hyc5PTgyPC4zNDL/wAALCAAcABwBAREA/8QAHwAAAQUBAQEBAQEAAAAAAAAAAAECAwQFBgcICQoL/8QAtRAAAgEDAwIEAwUFBAQAAAF9AQIDAAQRBRIhMUEGE1FhByJxFDKBkaEII0KxwRVS0fAkM2JyggkKFhcYGRolJicoKSo0NTY3ODk6Q0RFRkdISUpTVFVWV1hZWmNkZWZnaGlqc3R1dnd4eXqDhIWGh4iJipKTlJWWl5iZmqKjpKWmp6ipqrKztLW2t7i5usLDxMXGx8jJytLT1NXW19jZ2uHi4+Tl5ufo6erx8vP09fb3+Pn6/9oACAEBAAA/APn+nOjxttdWVvRhg02iuj8Ea1o3h/xCNS1vSn1OKGImCAMABNkbWbPUAZ/HB7V6d4S8Y+J/ib46EF7pdnceH3BW+tjbKYooscEufm3ZAxz17Y6eReI4NNtvEupQaNKZdNjuHW2kLbtyA8HPce9ZdFer+E/i1pHh3wOPDdx4VNwkqut1NFd+UbjcT94hc9Djr0FZkHjvwbYsy2vw3sZI8AA3d68rH65GPyrgbuWKe8nmhgW3ikkZkhViwjUnIUE8nA45qGiiiv/Z\\n\", \"height\": 28, \"channels\": 1, \"width\": 28, \"type\": \"image\", \"id\": 43569911120}, {\"format\": \"jpeg\", \"value\": \"image/jpeg;base64,/9j/4AAQSkZJRgABAQAAAQABAAD/2wBDAAgGBgcGBQgHBwcJCQgKDBQNDAsLDBkSEw8UHRofHh0aHBwgJC4nICIsIxwcKDcpLDAxNDQ0Hyc5PTgyPC4zNDL/wAALCAAcABwBAREA/8QAHwAAAQUBAQEBAQEAAAAAAAAAAAECAwQFBgcICQoL/8QAtRAAAgEDAwIEAwUFBAQAAAF9AQIDAAQRBRIhMUEGE1FhByJxFDKBkaEII0KxwRVS0fAkM2JyggkKFhcYGRolJicoKSo0NTY3ODk6Q0RFRkdISUpTVFVWV1hZWmNkZWZnaGlqc3R1dnd4eXqDhIWGh4iJipKTlJWWl5iZmqKjpKWmp6ipqrKztLW2t7i5usLDxMXGx8jJytLT1NXW19jZ2uHi4+Tl5ufo6erx8vP09fb3+Pn6/9oACAEBAAA/APn+tzQPB3iHxQsjaLpVxeJGdrugAVT6EkgZ5pfEvg3X/B81vFr1h9ke4UtEPNSTcBweUY+orCorofB2m6zr+v2uh6Vc3MIu5QJfKkKqqjJZm5A4UMf0rW+KfiBNa8XNa2m8aZpca2VmjZ+4nBbn1P6YriKK9g8Ga3d/Dz4O6n4htnUX+sXq2tiGjBCbAdznPUY3Y6jIHrXnHiLxZrniu4in1u/e7khXbGSiqFHGeFA9BWNRWpeeI9W1DRLHRrq9eTTrAsbaDaoCFjk8gZPfqTisuiv/2Q==\\n\", \"height\": 28, \"channels\": 1, \"width\": 28, \"type\": \"image\", \"id\": 43569911184}, {\"format\": \"jpeg\", \"value\": \"image/jpeg;base64,/9j/4AAQSkZJRgABAQAAAQABAAD/2wBDAAgGBgcGBQgHBwcJCQgKDBQNDAsLDBkSEw8UHRofHh0aHBwgJC4nICIsIxwcKDcpLDAxNDQ0Hyc5PTgyPC4zNDL/wAALCAAcABwBAREA/8QAHwAAAQUBAQEBAQEAAAAAAAAAAAECAwQFBgcICQoL/8QAtRAAAgEDAwIEAwUFBAQAAAF9AQIDAAQRBRIhMUEGE1FhByJxFDKBkaEII0KxwRVS0fAkM2JyggkKFhcYGRolJicoKSo0NTY3ODk6Q0RFRkdISUpTVFVWV1hZWmNkZWZnaGlqc3R1dnd4eXqDhIWGh4iJipKTlJWWl5iZmqKjpKWmp6ipqrKztLW2t7i5usLDxMXGx8jJytLT1NXW19jZ2uHi4+Tl5ufo6erx8vP09fb3+Pn6/9oACAEBAAA/APBbS1nvryC0tozJcTyLFEgPLMxwB+ZqzeaNqGn63Jo1zb7NQjm8hoQ6th84xkEg8+9V76yudNv7ixvIjFc28jRSxt1VlOCOPeoKtabfS6XqlpqEAUzWsyTxhhkblYMM/iK9aPhKz8YeMbHxX4S1awkW5vI7u8024mWOe1kLhnG0/eXdnB754z1rg/iQ0TfErxGYlKr9vlBB/vBiGP4nJrl6Ks6dcmy1O0ulGTDMkgGM5wwP9K7P4yaf/Z/xR1fCBY7kpcp770BJ/wC+t1cHRRnByK0db17U/Ed+t9q1211ciNYvMZVBKqMDOAM/U8ms6v/Z\\n\", \"height\": 28, \"channels\": 1, \"width\": 28, \"type\": \"image\", \"id\": 43569911248}, {\"format\": \"jpeg\", \"value\": \"image/jpeg;base64,/9j/4AAQSkZJRgABAQAAAQABAAD/2wBDAAgGBgcGBQgHBwcJCQgKDBQNDAsLDBkSEw8UHRofHh0aHBwgJC4nICIsIxwcKDcpLDAxNDQ0Hyc5PTgyPC4zNDL/wAALCAAcABwBAREA/8QAHwAAAQUBAQEBAQEAAAAAAAAAAAECAwQFBgcICQoL/8QAtRAAAgEDAwIEAwUFBAQAAAF9AQIDAAQRBRIhMUEGE1FhByJxFDKBkaEII0KxwRVS0fAkM2JyggkKFhcYGRolJicoKSo0NTY3ODk6Q0RFRkdISUpTVFVWV1hZWmNkZWZnaGlqc3R1dnd4eXqDhIWGh4iJipKTlJWWl5iZmqKjpKWmp6ipqrKztLW2t7i5usLDxMXGx8jJytLT1NXW19jZ2uHi4+Tl5ufo6erx8vP09fb3+Pn6/9oACAEBAAA/APn+lAJIA6mtDXdGuvD2t3Wk3pjNzbNsk8skrnAPBIHrWdRXqvi3wVr2pv4WTR9Cur23t9ItYWurdN0Urnc5Icdvmxk+lZfxn0i5034lapPMIxFeSCaHEyOxG1ckqDlec43AZxxnGa8+ord0bxHrVrc2VnFrd9b2YnTMQuXESjcOSoOMVufGIMvxY14MFB8yM/L6eUmK4aiipbm6uL24a4up5Z5mxuklcsxwMDJPPQAfhUVf/9k=\\n\", \"height\": 28, \"channels\": 1, \"width\": 28, \"type\": \"image\", \"id\": 43569911312}, {\"format\": \"jpeg\", \"value\": \"image/jpeg;base64,/9j/4AAQSkZJRgABAQAAAQABAAD/2wBDAAgGBgcGBQgHBwcJCQgKDBQNDAsLDBkSEw8UHRofHh0aHBwgJC4nICIsIxwcKDcpLDAxNDQ0Hyc5PTgyPC4zNDL/wAALCAAcABwBAREA/8QAHwAAAQUBAQEBAQEAAAAAAAAAAAECAwQFBgcICQoL/8QAtRAAAgEDAwIEAwUFBAQAAAF9AQIDAAQRBRIhMUEGE1FhByJxFDKBkaEII0KxwRVS0fAkM2JyggkKFhcYGRolJicoKSo0NTY3ODk6Q0RFRkdISUpTVFVWV1hZWmNkZWZnaGlqc3R1dnd4eXqDhIWGh4iJipKTlJWWl5iZmqKjpKWmp6ipqrKztLW2t7i5usLDxMXGx8jJytLT1NXW19jZ2uHi4+Tl5ufo6erx8vP09fb3+Pn6/9oACAEBAAA/APn+tbw14evvFXiC10bTvL+03JIVpCQigAkliASAAPSqWoWUumaldWFxt862meGTacjcpIOD6ZFVqK9K+BETv8UrSRR8kNvM8hz91dhXP5kfnXD+IrtL/wATateRcR3F5NKvPZnJH86zaK9W+Gc3/CPfDzxt4mZBv8hLG3foQ75Bwe33kP4CvKaKKnW9uksnsluZltHcSPAJCEZh0Yr0J96gor//2Q==\\n\", \"height\": 28, \"channels\": 1, \"width\": 28, \"type\": \"image\", \"id\": 43569911376}, {\"format\": \"jpeg\", \"value\": \"image/jpeg;base64,/9j/4AAQSkZJRgABAQAAAQABAAD/2wBDAAgGBgcGBQgHBwcJCQgKDBQNDAsLDBkSEw8UHRofHh0aHBwgJC4nICIsIxwcKDcpLDAxNDQ0Hyc5PTgyPC4zNDL/wAALCAAcABwBAREA/8QAHwAAAQUBAQEBAQEAAAAAAAAAAAECAwQFBgcICQoL/8QAtRAAAgEDAwIEAwUFBAQAAAF9AQIDAAQRBRIhMUEGE1FhByJxFDKBkaEII0KxwRVS0fAkM2JyggkKFhcYGRolJicoKSo0NTY3ODk6Q0RFRkdISUpTVFVWV1hZWmNkZWZnaGlqc3R1dnd4eXqDhIWGh4iJipKTlJWWl5iZmqKjpKWmp6ipqrKztLW2t7i5usLDxMXGx8jJytLT1NXW19jZ2uHi4+Tl5ufo6erx8vP09fb3+Pn6/9oACAEBAAA/APn+tjQfC2ueJ53i0bTJ7sp991ACJ/vOcKv4mn+IvCOueFHtl1qx+zfaVLQsJUkVwDg4ZGI49KxKK9m02fwh4l8F6D4Wg8Q39hNtQT6Za2ZL3V0zYLM5+VhkjAzwB7YHL/FKHTdD1mLwpodzNJp+mqGlSUlsXLACQgnnkBMgYAOcCuBor0r4SWkOlzat45vone00C3LRIOPNncFVXP4/hkGvPtQvp9U1K5v7py9xcytLIxOcsxyf51WorUi8R6vb+HZtAhvpI9Lnm8+W3QAB3wBycZI4HGcZAOM1l0V//9k=\\n\", \"height\": 28, \"channels\": 1, \"width\": 28, \"type\": \"image\", \"id\": 43569911440}, {\"format\": \"jpeg\", \"value\": \"image/jpeg;base64,/9j/4AAQSkZJRgABAQAAAQABAAD/2wBDAAgGBgcGBQgHBwcJCQgKDBQNDAsLDBkSEw8UHRofHh0aHBwgJC4nICIsIxwcKDcpLDAxNDQ0Hyc5PTgyPC4zNDL/wAALCAAcABwBAREA/8QAHwAAAQUBAQEBAQEAAAAAAAAAAAECAwQFBgcICQoL/8QAtRAAAgEDAwIEAwUFBAQAAAF9AQIDAAQRBRIhMUEGE1FhByJxFDKBkaEII0KxwRVS0fAkM2JyggkKFhcYGRolJicoKSo0NTY3ODk6Q0RFRkdISUpTVFVWV1hZWmNkZWZnaGlqc3R1dnd4eXqDhIWGh4iJipKTlJWWl5iZmqKjpKWmp6ipqrKztLW2t7i5usLDxMXGx8jJytLT1NXW19jZ2uHi4+Tl5ufo6erx8vP09fb3+Pn6/9oACAEBAAA/APn8AkgAZJ7V3sXwj18adFd6he6NpTToHhttRvRDLJnoApHB9iR1rl/EXhzU/C2qtpurQLFcBRIu1w6uh6MCOoOKyqltpvs91DPt3eW6vjOM4Oa9duPBtr8XNXbxD4b1SOO4ndG1PTruQ+ZbE/eZGx8ydccf4Vy3xT1CKXxLBotvbTRW+g2y6bE9x/rJghPzngde3tXDUV6NpNprA+FsP/CLWt/PeX2ouNQlsI3LokYXyo2K8gEuW44J+lO+Kzyw2nhfTtUumuvEFrYE6jLJgupdgUjZh94qMjn69683oq7p2sappDSNpmpXlk0q7ZDbTtHvHodpGRVSSR5ZGkkdndjlmY5JPqTTa//Z\\n\", \"height\": 28, \"channels\": 1, \"width\": 28, \"type\": \"image\", \"id\": 43569911504}, {\"format\": \"jpeg\", \"value\": \"image/jpeg;base64,/9j/4AAQSkZJRgABAQAAAQABAAD/2wBDAAgGBgcGBQgHBwcJCQgKDBQNDAsLDBkSEw8UHRofHh0aHBwgJC4nICIsIxwcKDcpLDAxNDQ0Hyc5PTgyPC4zNDL/wAALCAAcABwBAREA/8QAHwAAAQUBAQEBAQEAAAAAAAAAAAECAwQFBgcICQoL/8QAtRAAAgEDAwIEAwUFBAQAAAF9AQIDAAQRBRIhMUEGE1FhByJxFDKBkaEII0KxwRVS0fAkM2JyggkKFhcYGRolJicoKSo0NTY3ODk6Q0RFRkdISUpTVFVWV1hZWmNkZWZnaGlqc3R1dnd4eXqDhIWGh4iJipKTlJWWl5iZmqKjpKWmp6ipqrKztLW2t7i5usLDxMXGx8jJytLT1NXW19jZ2uHi4+Tl5ufo6erx8vP09fb3+Pn6/9oACAEBAAA/APn+th/DOop4Si8TFYzp0l2bMEP84kC7unpjPPtSa54X1rw2LQ6xp8tn9ri82HzMfMv4dCOMg4Iz0rIor6D17Qbq9+D3gvw3oWlS3n9oyQzS3cMbvHbMQNzsRnZkyHk4GA1SftIQXI0fQGSEtaQyyK87OCQ5Vdq8/MchWOfbntXzxRXtn7PGo67L4gudNhum/sSGFpp4WAI8xsBSO4JwenHH0rgvid4ibxL4/wBVu1dzbRzGGBWPAVMLkDtnbn8a5Cipra7ubKbzrW4lglwV3xOVbB4IyKhor//Z\\n\", \"height\": 28, \"channels\": 1, \"width\": 28, \"type\": \"image\", \"id\": 43569911568}, {\"format\": \"jpeg\", \"value\": \"image/jpeg;base64,/9j/4AAQSkZJRgABAQAAAQABAAD/2wBDAAgGBgcGBQgHBwcJCQgKDBQNDAsLDBkSEw8UHRofHh0aHBwgJC4nICIsIxwcKDcpLDAxNDQ0Hyc5PTgyPC4zNDL/wAALCAAcABwBAREA/8QAHwAAAQUBAQEBAQEAAAAAAAAAAAECAwQFBgcICQoL/8QAtRAAAgEDAwIEAwUFBAQAAAF9AQIDAAQRBRIhMUEGE1FhByJxFDKBkaEII0KxwRVS0fAkM2JyggkKFhcYGRolJicoKSo0NTY3ODk6Q0RFRkdISUpTVFVWV1hZWmNkZWZnaGlqc3R1dnd4eXqDhIWGh4iJipKTlJWWl5iZmqKjpKWmp6ipqrKztLW2t7i5usLDxMXGx8jJytLT1NXW19jZ2uHi4+Tl5ufo6erx8vP09fb3+Pn6/9oACAEBAAA/APn+rmn6TqWrzeTpun3d7LjOy2haRvyUGq89vNazvBcQyQzRna8cilWU+hB5FR06Py/NTzd3l7hu29cd8e9e96jc3mtW9hYfDfxno2laQVjii00T/ZLoP3LEjc7Fs9DzxweTWd8T7zQtO8KLpGsJZ6j49aCCK7vYVJMYRtwJYj75X5T3IPPAFeJ0V6j4As4vB3ha8+ImpRwvKoa20WFzzJOcqXx3C8/k3oK80u7u4vrua7upnmuJnLySOclmPUmoaK3tX8XalrPh7SNDnS3isdKRlhSBCu8nqz8nLe4x1PrWDRX/2Q==\\n\", \"height\": 28, \"channels\": 1, \"width\": 28, \"type\": \"image\", \"id\": 43569911632}, {\"format\": \"jpeg\", \"value\": \"image/jpeg;base64,/9j/4AAQSkZJRgABAQAAAQABAAD/2wBDAAgGBgcGBQgHBwcJCQgKDBQNDAsLDBkSEw8UHRofHh0aHBwgJC4nICIsIxwcKDcpLDAxNDQ0Hyc5PTgyPC4zNDL/wAALCAAcABwBAREA/8QAHwAAAQUBAQEBAQEAAAAAAAAAAAECAwQFBgcICQoL/8QAtRAAAgEDAwIEAwUFBAQAAAF9AQIDAAQRBRIhMUEGE1FhByJxFDKBkaEII0KxwRVS0fAkM2JyggkKFhcYGRolJicoKSo0NTY3ODk6Q0RFRkdISUpTVFVWV1hZWmNkZWZnaGlqc3R1dnd4eXqDhIWGh4iJipKTlJWWl5iZmqKjpKWmp6ipqrKztLW2t7i5usLDxMXGx8jJytLT1NXW19jZ2uHi4+Tl5ufo6erx8vP09fb3+Pn6/9oACAEBAAA/APn+ul8B+EZ/Gvi210eMukLZkuZVH+riH3j069AM9yKxNSt4rPVby2hkMkUM7xo5/iUMQDVWivW/gz4rlsNWs9B0+xhheaSe6vbtmy9wiQsUi6fKoIz15PpznyZ3MkjO2NzEk4GOabRXqnw7sPCWmyf2rP42tYNQk06aMW0trJH9nlkQp988NjPbrXnuvaQuh6q9iupWGoqqqwuLGbzImyM4Bx1HcVm0UUUV/9k=\\n\", \"height\": 28, \"channels\": 1, \"width\": 28, \"type\": \"image\", \"id\": 43569911696}, {\"format\": \"jpeg\", \"value\": \"image/jpeg;base64,/9j/4AAQSkZJRgABAQAAAQABAAD/2wBDAAgGBgcGBQgHBwcJCQgKDBQNDAsLDBkSEw8UHRofHh0aHBwgJC4nICIsIxwcKDcpLDAxNDQ0Hyc5PTgyPC4zNDL/wAALCAAcABwBAREA/8QAHwAAAQUBAQEBAQEAAAAAAAAAAAECAwQFBgcICQoL/8QAtRAAAgEDAwIEAwUFBAQAAAF9AQIDAAQRBRIhMUEGE1FhByJxFDKBkaEII0KxwRVS0fAkM2JyggkKFhcYGRolJicoKSo0NTY3ODk6Q0RFRkdISUpTVFVWV1hZWmNkZWZnaGlqc3R1dnd4eXqDhIWGh4iJipKTlJWWl5iZmqKjpKWmp6ipqrKztLW2t7i5usLDxMXGx8jJytLT1NXW19jZ2uHi4+Tl5ufo6erx8vP09fb3+Pn6/9oACAEBAAA/APn+prW0ub66jtbO3luLiU7Y4oULu59AByaff6fe6XdtaahZ3FpcqAWhuImjcZ5GVIBqtRXq/h3w9ew6RoWn+HYmGo+IYGlvtYOQLWDzCpiRh9z7vzHqSQB1rE+MFzbSfEK4sbMH7NplvDYR5OTiNBn8iSPwrg6K734Y3d0ut+bd392ug6RG2p3VsszeUxjwUGzIBJfYBXFX97NqWo3V9cHM9zK80h9WYkn9TVeitKy1y80/RtT0q3KC31LyhOcHcRGxYAHPQk8+uBWbRX//2Q==\\n\", \"height\": 28, \"channels\": 1, \"width\": 28, \"type\": \"image\", \"id\": 43569911760}, {\"format\": \"jpeg\", \"value\": \"image/jpeg;base64,/9j/4AAQSkZJRgABAQAAAQABAAD/2wBDAAgGBgcGBQgHBwcJCQgKDBQNDAsLDBkSEw8UHRofHh0aHBwgJC4nICIsIxwcKDcpLDAxNDQ0Hyc5PTgyPC4zNDL/wAALCAAcABwBAREA/8QAHwAAAQUBAQEBAQEAAAAAAAAAAAECAwQFBgcICQoL/8QAtRAAAgEDAwIEAwUFBAQAAAF9AQIDAAQRBRIhMUEGE1FhByJxFDKBkaEII0KxwRVS0fAkM2JyggkKFhcYGRolJicoKSo0NTY3ODk6Q0RFRkdISUpTVFVWV1hZWmNkZWZnaGlqc3R1dnd4eXqDhIWGh4iJipKTlJWWl5iZmqKjpKWmp6ipqrKztLW2t7i5usLDxMXGx8jJytLT1NXW19jZ2uHi4+Tl5ufo6erx8vP09fb3+Pn6/9oACAEBAAA/APn+r+saLqGgag1hqcAgulRXaMSK+AwyMlSQDgjjrTYtI1CfSbjVYrOZrC3dY5bgL8iM3QE+v+I9apUqjLAcde9eg/FjRdTPxE1C4TT7l4LhIZIZY4yyOvlIMgjg8g1D46WTQ/C3hXws0JikS1OpXXUbpZicAjplUUD8SPWuDortvBXjHxdBruj6Tp2t3/kPcRQJbeYXQKXHAU8AY9McVV+JmpSan8SNfmeV5BHeSQJvbOFRioA9uOK5OirNhf3Wl6hBf2M7QXVu4kikXqrDoajubia7uprm4cyTTOZJHPVmJyT+dRV//9k=\\n\", \"height\": 28, \"channels\": 1, \"width\": 28, \"type\": \"image\", \"id\": 43569911824}, {\"format\": \"jpeg\", \"value\": \"image/jpeg;base64,/9j/4AAQSkZJRgABAQAAAQABAAD/2wBDAAgGBgcGBQgHBwcJCQgKDBQNDAsLDBkSEw8UHRofHh0aHBwgJC4nICIsIxwcKDcpLDAxNDQ0Hyc5PTgyPC4zNDL/wAALCAAcABwBAREA/8QAHwAAAQUBAQEBAQEAAAAAAAAAAAECAwQFBgcICQoL/8QAtRAAAgEDAwIEAwUFBAQAAAF9AQIDAAQRBRIhMUEGE1FhByJxFDKBkaEII0KxwRVS0fAkM2JyggkKFhcYGRolJicoKSo0NTY3ODk6Q0RFRkdISUpTVFVWV1hZWmNkZWZnaGlqc3R1dnd4eXqDhIWGh4iJipKTlJWWl5iZmqKjpKWmp6ipqrKztLW2t7i5usLDxMXGx8jJytLT1NXW19jZ2uHi4+Tl5ufo6erx8vP09fb3+Pn6/9oACAEBAAA/APAY43mlSKNSzuwVVHUk9BXrEPwRjtGSDxD400bSr11ytruEj5PQEFl9+mfbNefeKvDV74R8RXWi35RpoCPnTO11IyGGR05rGpQSrBlJBByCO1ei/DrXvB9jqN9rvjZry+1WKSOWz3Bpd7DOWJzgsDt+8fTFWvizDp/iKKy+IGj3Fw9nqb/Zp4bhcPBMi8DjjBUdM9s9+PL6UEg5GOmORmva7T4CW19bwavH4qtotCkt45zOyBmX5cvk5CgA55zx3HHOR8TvEXhm28Nab4I8ISNPY2U5nubkHKyyYIHzfxnkknGOFx7eVUUUUV//2Q==\\n\", \"height\": 28, \"channels\": 1, \"width\": 28, \"type\": \"image\", \"id\": 43569911888}, {\"format\": \"jpeg\", \"value\": \"image/jpeg;base64,/9j/4AAQSkZJRgABAQAAAQABAAD/2wBDAAgGBgcGBQgHBwcJCQgKDBQNDAsLDBkSEw8UHRofHh0aHBwgJC4nICIsIxwcKDcpLDAxNDQ0Hyc5PTgyPC4zNDL/wAALCAAcABwBAREA/8QAHwAAAQUBAQEBAQEAAAAAAAAAAAECAwQFBgcICQoL/8QAtRAAAgEDAwIEAwUFBAQAAAF9AQIDAAQRBRIhMUEGE1FhByJxFDKBkaEII0KxwRVS0fAkM2JyggkKFhcYGRolJicoKSo0NTY3ODk6Q0RFRkdISUpTVFVWV1hZWmNkZWZnaGlqc3R1dnd4eXqDhIWGh4iJipKTlJWWl5iZmqKjpKWmp6ipqrKztLW2t7i5usLDxMXGx8jJytLT1NXW19jZ2uHi4+Tl5ufo6erx8vP09fb3+Pn6/9oACAEBAAA/APn+u3l8N6bYfB+HxBcp5mqajqPk2rB2HlRIG3ZHQ5I/ljvniKKK9V+KNo1p4M+HenW6nY2nGURJk5d9jEjvkk024+BmtWPhG81i+1G0hvbe2+1DTlBZygGW3NxtIGegYZ715ZRXtPgb4j+E5tG0PTvGUM0d3oU4ksL5Iy6hQeAwXJ447H7oPUVS8cfEHw4L/Vbrwot5dalq0DwXOo3hOIomIzHEhHAwMdOM8V5HRRRRX//Z\\n\", \"height\": 28, \"channels\": 1, \"width\": 28, \"type\": \"image\", \"id\": 43569911952}, {\"format\": \"jpeg\", \"value\": \"image/jpeg;base64,/9j/4AAQSkZJRgABAQAAAQABAAD/2wBDAAgGBgcGBQgHBwcJCQgKDBQNDAsLDBkSEw8UHRofHh0aHBwgJC4nICIsIxwcKDcpLDAxNDQ0Hyc5PTgyPC4zNDL/wAALCAAcABwBAREA/8QAHwAAAQUBAQEBAQEAAAAAAAAAAAECAwQFBgcICQoL/8QAtRAAAgEDAwIEAwUFBAQAAAF9AQIDAAQRBRIhMUEGE1FhByJxFDKBkaEII0KxwRVS0fAkM2JyggkKFhcYGRolJicoKSo0NTY3ODk6Q0RFRkdISUpTVFVWV1hZWmNkZWZnaGlqc3R1dnd4eXqDhIWGh4iJipKTlJWWl5iZmqKjpKWmp6ipqrKztLW2t7i5usLDxMXGx8jJytLT1NXW19jZ2uHi4+Tl5ufo6erx8vP09fb3+Pn6/9oACAEBAAA/APn+lAJIAGSegFemD4ManZ+Cr/xFrWoRWEltbG4SxWLzZWH8IfBGzJx6479MV5lV3SNIv9d1S303TbZ7i7nbbHGn8z6AdST0r0q51Hw/8KYjZ6KLfWPF2xo7nUG+eGyYjBWIdCwzjPsc91p/w0h1bUv+Er8Wa1PcT6cmkXEVxNcMW89mX7oz97AB+nA715LXp3whDSQ+JLfS5bOPxNc2qQaa11KY8IxYTFCP4wNhHfj61ftfhXo3hib7b8Q/EllbohLf2fayl5puh/3sH2HccisTx98Sf+EitItB0G0Gl+GrbAjtkUAy4PDNjp64/MmvPaKKKK//2Q==\\n\", \"height\": 28, \"channels\": 1, \"width\": 28, \"type\": \"image\", \"id\": 43569912016}], \"selected_variable\": {\"name\": [\"<SArray>\"], \"dtype\": \"Image\", \"view_component\": \"Images\", \"view_file\": \"sarray\", \"descriptives\": {\"rows\": 48205}, \"type\": \"SArray\", \"view_components\": [\"Images\"]}}, e);\n",
       "                });\n",
       "            })();\n",
       "        "
      ]
     },
     "metadata": {},
     "output_type": "display_data"
    }
   ],
   "source": [
    "gl.canvas.set_target('ipynb')\n",
    "training_data['image'].show()"
   ]
  },
  {
   "cell_type": "code",
   "execution_count": 21,
   "metadata": {},
   "outputs": [],
   "source": [
    "# Have all of the images are the same size, since neural nets have fixed input size.\n",
    "training_data['image'] = graphlab.image_analysis.resize(training_data['image'], 28, 28, 1, decode=True)\n",
    "validation_data['image'] = graphlab.image_analysis.resize(validation_data['image'], 28, 28, 1, decode=True)\n",
    "test_data['image'] = graphlab.image_analysis.resize(test_data['image'], 28, 28, 1, decode=True)"
   ]
  },
  {
   "cell_type": "markdown",
   "metadata": {},
   "source": [
    "1. Create an instance of the neural net for the given data\n",
    "\n",
    "Specify the type of network to create in `network_type`. Default ‘auto’ will create a ConvolutionNet for image input, and a MultiLayerPerceptrons for regular numerical input."
   ]
  },
  {
   "cell_type": "code",
   "execution_count": 35,
   "metadata": {},
   "outputs": [],
   "source": [
    "#Create neural net\n",
    "net = gl.deeplearning.create(training_data, network_type='auto', target='label')"
   ]
  },
  {
   "cell_type": "code",
   "execution_count": 23,
   "metadata": {},
   "outputs": [
    {
     "data": {
      "text/plain": [
       "layer[0]: ConvolutionLayer\n",
       "  init_random = gaussian\n",
       "  padding = 0\n",
       "  stride = 2\n",
       "  num_channels = 10\n",
       "  num_groups = 1\n",
       "  kernel_size = 3\n",
       "layer[1]: MaxPoolingLayer\n",
       "  padding = 0\n",
       "  stride = 2\n",
       "  kernel_size = 3\n",
       "layer[2]: FlattenLayer\n",
       "layer[3]: FullConnectionLayer\n",
       "  init_sigma = 0.01\n",
       "  init_random = gaussian\n",
       "  init_bias = 0\n",
       "  num_hidden_units = 100\n",
       "layer[4]: RectifiedLinearLayer\n",
       "layer[5]: DropoutLayer\n",
       "  threshold = 0.5\n",
       "layer[6]: FullConnectionLayer\n",
       "  init_sigma = 0.01\n",
       "  init_random = gaussian\n",
       "  init_bias = 0\n",
       "  num_hidden_units = 10\n",
       "layer[7]: SoftmaxLayer"
      ]
     },
     "execution_count": 23,
     "metadata": {},
     "output_type": "execute_result"
    }
   ],
   "source": [
    "#inital layer set up\n",
    "net.layers"
   ]
  },
  {
   "cell_type": "markdown",
   "metadata": {},
   "source": [
    "### Convolutional neural network (CNN)\n",
    "\n",
    "Note thath the 0th layer is a convolutional layer which makes this network in a _convolutional network_. The name “convolutional neural network” indicates that the network employs convolution in place of general matrix multiplication in at least one of their layers. CNNs are most commonly applied to analyzing visual imagery, but also other areas such as natural language processing."
   ]
  },
  {
   "cell_type": "markdown",
   "metadata": {},
   "source": [
    "### Learning rate\n",
    "\n",
    "The amount of change to the model during each step of this search process, or the step size, is called the _learning rate_ . It is a positive scalar (usually in (0,1), measuring the amount that the weights are updated during the iterations within training.\n",
    "\n",
    "### Momentum\n",
    "\n",
    "An exponentially decaying weighted average of the prior updates to the weight can be included when the weights are updated. This change to stochastic gradient descent is called _momentum_ and adds inertia to the update procedure, causing many past updates in one direction to continue in that direction in the future."
   ]
  },
  {
   "cell_type": "code",
   "execution_count": 24,
   "metadata": {},
   "outputs": [
    {
     "data": {
      "text/plain": [
       "{'learning_rate': 0.001, 'momentum': 0.9}"
      ]
     },
     "execution_count": 24,
     "metadata": {},
     "output_type": "execute_result"
    }
   ],
   "source": [
    "#neural net parameters\n",
    "net.params"
   ]
  },
  {
   "cell_type": "code",
   "execution_count": 25,
   "metadata": {},
   "outputs": [],
   "source": [
    "#If you need to change hyperparamters\n",
    "net.layers[4].num_hidden_units = 10"
   ]
  },
  {
   "cell_type": "markdown",
   "metadata": {},
   "source": [
    "2. Build classifier on the neural network"
   ]
  },
  {
   "cell_type": "code",
   "execution_count": 26,
   "metadata": {},
   "outputs": [
    {
     "name": "stdout",
     "output_type": "stream",
     "text": [
      "Using network:\n",
      "\n",
      "### network layers ###\n",
      "layer[0]: ConvolutionLayer\n",
      "  init_random = gaussian\n",
      "  padding = 0\n",
      "  stride = 2\n",
      "  num_channels = 10\n",
      "  num_groups = 1\n",
      "  kernel_size = 3\n",
      "layer[1]: MaxPoolingLayer\n",
      "  padding = 0\n",
      "  stride = 2\n",
      "  kernel_size = 3\n",
      "layer[2]: FlattenLayer\n",
      "layer[3]: FullConnectionLayer\n",
      "  init_sigma = 0.01\n",
      "  init_random = gaussian\n",
      "  init_bias = 0\n",
      "  num_hidden_units = 100\n",
      "layer[4]: RectifiedLinearLayer\n",
      "  num_hidden_units = 10\n",
      "layer[5]: DropoutLayer\n",
      "  threshold = 0.5\n",
      "layer[6]: FullConnectionLayer\n",
      "  init_sigma = 0.01\n",
      "  init_random = gaussian\n",
      "  init_bias = 0\n",
      "  num_hidden_units = 10\n",
      "layer[7]: SoftmaxLayer\n",
      "### end network layers ###\n",
      "\n",
      "### network parameters ###\n",
      "learning_rate = 0.001\n",
      "metric = accuracy,recall@2\n",
      "momentum = 0.9\n",
      "### end network parameters ###\n",
      "\n"
     ]
    },
    {
     "data": {
      "text/html": [
       "<pre>Computing mean image...</pre>"
      ],
      "text/plain": [
       "Computing mean image..."
      ]
     },
     "metadata": {},
     "output_type": "display_data"
    },
    {
     "data": {
      "text/html": [
       "<pre>Done computing mean image.</pre>"
      ],
      "text/plain": [
       "Done computing mean image."
      ]
     },
     "metadata": {},
     "output_type": "display_data"
    },
    {
     "data": {
      "text/html": [
       "<pre>Creating neuralnet using cpu</pre>"
      ],
      "text/plain": [
       "Creating neuralnet using cpu"
      ]
     },
     "metadata": {},
     "output_type": "display_data"
    },
    {
     "data": {
      "text/html": [
       "<pre>Training with batch size = 100</pre>"
      ],
      "text/plain": [
       "Training with batch size = 100"
      ]
     },
     "metadata": {},
     "output_type": "display_data"
    },
    {
     "data": {
      "text/html": [
       "<pre>+-----------+----------+--------------+-------------------+---------------------+-------------------+---------------------+-----------------+</pre>"
      ],
      "text/plain": [
       "+-----------+----------+--------------+-------------------+---------------------+-------------------+---------------------+-----------------+"
      ]
     },
     "metadata": {},
     "output_type": "display_data"
    },
    {
     "data": {
      "text/html": [
       "<pre>| Iteration | Examples | Elapsed Time | Training-accuracy | Validation-accuracy | Training-recall@2 | Validation-recall@2 | Examples/second |</pre>"
      ],
      "text/plain": [
       "| Iteration | Examples | Elapsed Time | Training-accuracy | Validation-accuracy | Training-recall@2 | Validation-recall@2 | Examples/second |"
      ]
     },
     "metadata": {},
     "output_type": "display_data"
    },
    {
     "data": {
      "text/html": [
       "<pre>+-----------+----------+--------------+-------------------+---------------------+-------------------+---------------------+-----------------+</pre>"
      ],
      "text/plain": [
       "+-----------+----------+--------------+-------------------+---------------------+-------------------+---------------------+-----------------+"
      ]
     },
     "metadata": {},
     "output_type": "display_data"
    },
    {
     "data": {
      "text/html": [
       "<pre>| 1         | 48300    | 11.023263    | 0.790021          | 0.947774            | 0.886687          | 0.983891            | 4381.643066     |</pre>"
      ],
      "text/plain": [
       "| 1         | 48300    | 11.023263    | 0.790021          | 0.947774            | 0.886687          | 0.983891            | 4381.643066     |"
      ]
     },
     "metadata": {},
     "output_type": "display_data"
    },
    {
     "data": {
      "text/html": [
       "<pre>| 2         | 48300    | 21.936527    | 0.928551          | 0.962357            | 0.975714          | 0.989063            | 4425.838867     |</pre>"
      ],
      "text/plain": [
       "| 2         | 48300    | 21.936527    | 0.928551          | 0.962357            | 0.975714          | 0.989063            | 4425.838867     |"
      ]
     },
     "metadata": {},
     "output_type": "display_data"
    },
    {
     "data": {
      "text/html": [
       "<pre>| 3         | 48300    | 32.882980    | 0.942629          | 0.967189            | 0.982899          | 0.990674            | 4412.412109     |</pre>"
      ],
      "text/plain": [
       "| 3         | 48300    | 32.882980    | 0.942629          | 0.967189            | 0.982899          | 0.990674            | 4412.412109     |"
      ]
     },
     "metadata": {},
     "output_type": "display_data"
    },
    {
     "data": {
      "text/html": [
       "<pre>+-----------+----------+--------------+-------------------+---------------------+-------------------+---------------------+-----------------+</pre>"
      ],
      "text/plain": [
       "+-----------+----------+--------------+-------------------+---------------------+-------------------+---------------------+-----------------+"
      ]
     },
     "metadata": {},
     "output_type": "display_data"
    }
   ],
   "source": [
    "# Train a NeuralNetClassifier using the specified network.\n",
    "clsf = graphlab.neuralnet_classifier.create(training_data, target='label', network = net, validation_set=validation_data,\n",
    "                                         metric=['accuracy', 'recall@2'],\n",
    "                                         max_iterations=3)"
   ]
  },
  {
   "cell_type": "markdown",
   "metadata": {},
   "source": [
    "3. Classify the test data"
   ]
  },
  {
   "cell_type": "code",
   "execution_count": 29,
   "metadata": {},
   "outputs": [],
   "source": [
    "y_pred = clsf.classify(test_data)"
   ]
  },
  {
   "cell_type": "code",
   "execution_count": 30,
   "metadata": {},
   "outputs": [
    {
     "data": {
      "text/html": [
       "<div style=\"max-height:1000px;max-width:1500px;overflow:auto;\"><table frame=\"box\" rules=\"cols\">\n",
       "    <tr>\n",
       "        <th style=\"padding-left: 1em; padding-right: 1em; text-align: center\">row_id</th>\n",
       "        <th style=\"padding-left: 1em; padding-right: 1em; text-align: center\">class</th>\n",
       "        <th style=\"padding-left: 1em; padding-right: 1em; text-align: center\">probability</th>\n",
       "    </tr>\n",
       "    <tr>\n",
       "        <td style=\"padding-left: 1em; padding-right: 1em; text-align: center; vertical-align: top\">0</td>\n",
       "        <td style=\"padding-left: 1em; padding-right: 1em; text-align: center; vertical-align: top\">0</td>\n",
       "        <td style=\"padding-left: 1em; padding-right: 1em; text-align: center; vertical-align: top\">0.998546123505</td>\n",
       "    </tr>\n",
       "    <tr>\n",
       "        <td style=\"padding-left: 1em; padding-right: 1em; text-align: center; vertical-align: top\">1</td>\n",
       "        <td style=\"padding-left: 1em; padding-right: 1em; text-align: center; vertical-align: top\">0</td>\n",
       "        <td style=\"padding-left: 1em; padding-right: 1em; text-align: center; vertical-align: top\">0.999997854233</td>\n",
       "    </tr>\n",
       "    <tr>\n",
       "        <td style=\"padding-left: 1em; padding-right: 1em; text-align: center; vertical-align: top\">2</td>\n",
       "        <td style=\"padding-left: 1em; padding-right: 1em; text-align: center; vertical-align: top\">0</td>\n",
       "        <td style=\"padding-left: 1em; padding-right: 1em; text-align: center; vertical-align: top\">0.999761760235</td>\n",
       "    </tr>\n",
       "    <tr>\n",
       "        <td style=\"padding-left: 1em; padding-right: 1em; text-align: center; vertical-align: top\">3</td>\n",
       "        <td style=\"padding-left: 1em; padding-right: 1em; text-align: center; vertical-align: top\">0</td>\n",
       "        <td style=\"padding-left: 1em; padding-right: 1em; text-align: center; vertical-align: top\">0.999990224838</td>\n",
       "    </tr>\n",
       "    <tr>\n",
       "        <td style=\"padding-left: 1em; padding-right: 1em; text-align: center; vertical-align: top\">4</td>\n",
       "        <td style=\"padding-left: 1em; padding-right: 1em; text-align: center; vertical-align: top\">0</td>\n",
       "        <td style=\"padding-left: 1em; padding-right: 1em; text-align: center; vertical-align: top\">0.999931454659</td>\n",
       "    </tr>\n",
       "    <tr>\n",
       "        <td style=\"padding-left: 1em; padding-right: 1em; text-align: center; vertical-align: top\">5</td>\n",
       "        <td style=\"padding-left: 1em; padding-right: 1em; text-align: center; vertical-align: top\">0</td>\n",
       "        <td style=\"padding-left: 1em; padding-right: 1em; text-align: center; vertical-align: top\">0.998657941818</td>\n",
       "    </tr>\n",
       "    <tr>\n",
       "        <td style=\"padding-left: 1em; padding-right: 1em; text-align: center; vertical-align: top\">6</td>\n",
       "        <td style=\"padding-left: 1em; padding-right: 1em; text-align: center; vertical-align: top\">0</td>\n",
       "        <td style=\"padding-left: 1em; padding-right: 1em; text-align: center; vertical-align: top\">0.999450981617</td>\n",
       "    </tr>\n",
       "    <tr>\n",
       "        <td style=\"padding-left: 1em; padding-right: 1em; text-align: center; vertical-align: top\">7</td>\n",
       "        <td style=\"padding-left: 1em; padding-right: 1em; text-align: center; vertical-align: top\">0</td>\n",
       "        <td style=\"padding-left: 1em; padding-right: 1em; text-align: center; vertical-align: top\">0.999890685081</td>\n",
       "    </tr>\n",
       "    <tr>\n",
       "        <td style=\"padding-left: 1em; padding-right: 1em; text-align: center; vertical-align: top\">8</td>\n",
       "        <td style=\"padding-left: 1em; padding-right: 1em; text-align: center; vertical-align: top\">0</td>\n",
       "        <td style=\"padding-left: 1em; padding-right: 1em; text-align: center; vertical-align: top\">0.981650710106</td>\n",
       "    </tr>\n",
       "    <tr>\n",
       "        <td style=\"padding-left: 1em; padding-right: 1em; text-align: center; vertical-align: top\">9</td>\n",
       "        <td style=\"padding-left: 1em; padding-right: 1em; text-align: center; vertical-align: top\">0</td>\n",
       "        <td style=\"padding-left: 1em; padding-right: 1em; text-align: center; vertical-align: top\">0.999965548515</td>\n",
       "    </tr>\n",
       "</table>\n",
       "[10000 rows x 3 columns]<br/>Note: Only the head of the SFrame is printed.<br/>You can use print_rows(num_rows=m, num_columns=n) to print more rows and columns.\n",
       "</div>"
      ],
      "text/plain": [
       "Columns:\n",
       "\trow_id\tint\n",
       "\tclass\tint\n",
       "\tprobability\tfloat\n",
       "\n",
       "Rows: 10000\n",
       "\n",
       "Data:\n",
       "+--------+-------+----------------+\n",
       "| row_id | class |  probability   |\n",
       "+--------+-------+----------------+\n",
       "|   0    |   0   | 0.998546123505 |\n",
       "|   1    |   0   | 0.999997854233 |\n",
       "|   2    |   0   | 0.999761760235 |\n",
       "|   3    |   0   | 0.999990224838 |\n",
       "|   4    |   0   | 0.999931454659 |\n",
       "|   5    |   0   | 0.998657941818 |\n",
       "|   6    |   0   | 0.999450981617 |\n",
       "|   7    |   0   | 0.999890685081 |\n",
       "|   8    |   0   | 0.981650710106 |\n",
       "|   9    |   0   | 0.999965548515 |\n",
       "+--------+-------+----------------+\n",
       "[10000 rows x 3 columns]\n",
       "Note: Only the head of the SFrame is printed.\n",
       "You can use print_rows(num_rows=m, num_columns=n) to print more rows and columns."
      ]
     },
     "execution_count": 30,
     "metadata": {},
     "output_type": "execute_result"
    }
   ],
   "source": [
    "y_pred"
   ]
  },
  {
   "cell_type": "code",
   "execution_count": 32,
   "metadata": {},
   "outputs": [
    {
     "data": {
      "text/html": [
       "<div style=\"max-height:1000px;max-width:1500px;overflow:auto;\"><table frame=\"box\" rules=\"cols\">\n",
       "    <tr>\n",
       "        <th style=\"padding-left: 1em; padding-right: 1em; text-align: center\">row_id</th>\n",
       "        <th style=\"padding-left: 1em; padding-right: 1em; text-align: center\">class</th>\n",
       "        <th style=\"padding-left: 1em; padding-right: 1em; text-align: center\">probability</th>\n",
       "    </tr>\n",
       "    <tr>\n",
       "        <td style=\"padding-left: 1em; padding-right: 1em; text-align: center; vertical-align: top\">0</td>\n",
       "        <td style=\"padding-left: 1em; padding-right: 1em; text-align: center; vertical-align: top\">0</td>\n",
       "        <td style=\"padding-left: 1em; padding-right: 1em; text-align: center; vertical-align: top\">0.998546123505</td>\n",
       "    </tr>\n",
       "    <tr>\n",
       "        <td style=\"padding-left: 1em; padding-right: 1em; text-align: center; vertical-align: top\">0</td>\n",
       "        <td style=\"padding-left: 1em; padding-right: 1em; text-align: center; vertical-align: top\">6</td>\n",
       "        <td style=\"padding-left: 1em; padding-right: 1em; text-align: center; vertical-align: top\">0.00126831082162</td>\n",
       "    </tr>\n",
       "    <tr>\n",
       "        <td style=\"padding-left: 1em; padding-right: 1em; text-align: center; vertical-align: top\">1</td>\n",
       "        <td style=\"padding-left: 1em; padding-right: 1em; text-align: center; vertical-align: top\">0</td>\n",
       "        <td style=\"padding-left: 1em; padding-right: 1em; text-align: center; vertical-align: top\">0.999997854233</td>\n",
       "    </tr>\n",
       "    <tr>\n",
       "        <td style=\"padding-left: 1em; padding-right: 1em; text-align: center; vertical-align: top\">1</td>\n",
       "        <td style=\"padding-left: 1em; padding-right: 1em; text-align: center; vertical-align: top\">5</td>\n",
       "        <td style=\"padding-left: 1em; padding-right: 1em; text-align: center; vertical-align: top\">9.31468491672e-07</td>\n",
       "    </tr>\n",
       "    <tr>\n",
       "        <td style=\"padding-left: 1em; padding-right: 1em; text-align: center; vertical-align: top\">2</td>\n",
       "        <td style=\"padding-left: 1em; padding-right: 1em; text-align: center; vertical-align: top\">0</td>\n",
       "        <td style=\"padding-left: 1em; padding-right: 1em; text-align: center; vertical-align: top\">0.999761760235</td>\n",
       "    </tr>\n",
       "    <tr>\n",
       "        <td style=\"padding-left: 1em; padding-right: 1em; text-align: center; vertical-align: top\">2</td>\n",
       "        <td style=\"padding-left: 1em; padding-right: 1em; text-align: center; vertical-align: top\">6</td>\n",
       "        <td style=\"padding-left: 1em; padding-right: 1em; text-align: center; vertical-align: top\">0.000135054666316</td>\n",
       "    </tr>\n",
       "    <tr>\n",
       "        <td style=\"padding-left: 1em; padding-right: 1em; text-align: center; vertical-align: top\">3</td>\n",
       "        <td style=\"padding-left: 1em; padding-right: 1em; text-align: center; vertical-align: top\">0</td>\n",
       "        <td style=\"padding-left: 1em; padding-right: 1em; text-align: center; vertical-align: top\">0.999990224838</td>\n",
       "    </tr>\n",
       "    <tr>\n",
       "        <td style=\"padding-left: 1em; padding-right: 1em; text-align: center; vertical-align: top\">3</td>\n",
       "        <td style=\"padding-left: 1em; padding-right: 1em; text-align: center; vertical-align: top\">6</td>\n",
       "        <td style=\"padding-left: 1em; padding-right: 1em; text-align: center; vertical-align: top\">2.98468717119e-06</td>\n",
       "    </tr>\n",
       "    <tr>\n",
       "        <td style=\"padding-left: 1em; padding-right: 1em; text-align: center; vertical-align: top\">4</td>\n",
       "        <td style=\"padding-left: 1em; padding-right: 1em; text-align: center; vertical-align: top\">0</td>\n",
       "        <td style=\"padding-left: 1em; padding-right: 1em; text-align: center; vertical-align: top\">0.999931454659</td>\n",
       "    </tr>\n",
       "    <tr>\n",
       "        <td style=\"padding-left: 1em; padding-right: 1em; text-align: center; vertical-align: top\">4</td>\n",
       "        <td style=\"padding-left: 1em; padding-right: 1em; text-align: center; vertical-align: top\">2</td>\n",
       "        <td style=\"padding-left: 1em; padding-right: 1em; text-align: center; vertical-align: top\">3.03510823869e-05</td>\n",
       "    </tr>\n",
       "</table>\n",
       "[20000 rows x 3 columns]<br/>Note: Only the head of the SFrame is printed.<br/>You can use print_rows(num_rows=m, num_columns=n) to print more rows and columns.\n",
       "</div>"
      ],
      "text/plain": [
       "Columns:\n",
       "\trow_id\tint\n",
       "\tclass\tint\n",
       "\tprobability\tfloat\n",
       "\n",
       "Rows: 20000\n",
       "\n",
       "Data:\n",
       "+--------+-------+-------------------+\n",
       "| row_id | class |    probability    |\n",
       "+--------+-------+-------------------+\n",
       "|   0    |   0   |   0.998546123505  |\n",
       "|   0    |   6   |  0.00126831082162 |\n",
       "|   1    |   0   |   0.999997854233  |\n",
       "|   1    |   5   | 9.31468491672e-07 |\n",
       "|   2    |   0   |   0.999761760235  |\n",
       "|   2    |   6   | 0.000135054666316 |\n",
       "|   3    |   0   |   0.999990224838  |\n",
       "|   3    |   6   | 2.98468717119e-06 |\n",
       "|   4    |   0   |   0.999931454659  |\n",
       "|   4    |   2   | 3.03510823869e-05 |\n",
       "+--------+-------+-------------------+\n",
       "[20000 rows x 3 columns]\n",
       "Note: Only the head of the SFrame is printed.\n",
       "You can use print_rows(num_rows=m, num_columns=n) to print more rows and columns."
      ]
     },
     "execution_count": 32,
     "metadata": {},
     "output_type": "execute_result"
    }
   ],
   "source": [
    "#predict the top 5 \n",
    "y_pred_top2 = clsf.predict_topk(test_data, k=2)\n",
    "y_pred_top2"
   ]
  },
  {
   "cell_type": "markdown",
   "metadata": {},
   "source": [
    "4. Evaluate the classifier on the test data. Default metrics are accuracy, and confusion matrix."
   ]
  },
  {
   "cell_type": "code",
   "execution_count": 34,
   "metadata": {},
   "outputs": [
    {
     "data": {
      "text/plain": [
       "{'accuracy': 0.9714999794960022, 'confusion_matrix': Columns:\n",
       " \ttarget_label\tint\n",
       " \tpredicted_label\tint\n",
       " \tcount\tint\n",
       " \n",
       " Rows: 70\n",
       " \n",
       " Data:\n",
       " +--------------+-----------------+-------+\n",
       " | target_label | predicted_label | count |\n",
       " +--------------+-----------------+-------+\n",
       " |      0       |        0        |  960  |\n",
       " |      2       |        0        |   2   |\n",
       " |      5       |        0        |   1   |\n",
       " |      6       |        0        |   2   |\n",
       " |      7       |        0        |   1   |\n",
       " |      8       |        0        |   1   |\n",
       " |      9       |        0        |   6   |\n",
       " |      1       |        1        |  1122 |\n",
       " |      4       |        1        |   1   |\n",
       " |      6       |        1        |   2   |\n",
       " +--------------+-----------------+-------+\n",
       " [70 rows x 3 columns]\n",
       " Note: Only the head of the SFrame is printed.\n",
       " You can use print_rows(num_rows=m, num_columns=n) to print more rows and columns.}"
      ]
     },
     "execution_count": 34,
     "metadata": {},
     "output_type": "execute_result"
    }
   ],
   "source": [
    "metrics = clsf.evaluate(test_data)\n",
    "metrics"
   ]
  },
  {
   "cell_type": "code",
   "execution_count": null,
   "metadata": {},
   "outputs": [],
   "source": []
  }
 ],
 "metadata": {
  "kernelspec": {
   "display_name": "Python 2",
   "language": "python",
   "name": "python2"
  },
  "language_info": {
   "codemirror_mode": {
    "name": "ipython",
    "version": 2
   },
   "file_extension": ".py",
   "mimetype": "text/x-python",
   "name": "python",
   "nbconvert_exporter": "python",
   "pygments_lexer": "ipython2",
   "version": "2.7.16"
  }
 },
 "nbformat": 4,
 "nbformat_minor": 2
}
