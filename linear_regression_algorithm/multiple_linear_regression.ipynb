{
 "cells": [
  {
   "cell_type": "markdown",
   "metadata": {},
   "source": [
    "# Multiple linear regression & gradient descent"
   ]
  },
  {
   "cell_type": "code",
   "execution_count": 1,
   "metadata": {},
   "outputs": [
    {
     "data": {
      "application/javascript": [
       "MathJax.Hub.Config({\n",
       "    TeX: { equationNumbers: { autoNumber: \"AMS\" } }\n",
       "});"
      ],
      "text/plain": [
       "<IPython.core.display.Javascript object>"
      ]
     },
     "metadata": {},
     "output_type": "display_data"
    }
   ],
   "source": [
    "%%javascript\n",
    "MathJax.Hub.Config({\n",
    "    TeX: { equationNumbers: { autoNumber: \"AMS\" } }\n",
    "});"
   ]
  },
  {
   "cell_type": "markdown",
   "metadata": {},
   "source": [
    "# As a solution to ordinary least squares minimization\n",
    "\n",
    "\n",
    "The simple linear regression model\n",
    "\\begin{align}\n",
    "y = w_0 + \\sum_{i>0} w_ih_i(\\underline x) + \\epsilon\n",
    "\\end{align}\n",
    "\n",
    "can be upgraded to a vector-valued case:\n",
    "\n",
    "\\begin{align}\n",
    "y_j = w_0 + \\sum_{i>0}^p w_ih_i(\\underline x_j) + \\epsilon_j \\ , \\ j =1,\\dots,n \\ .\n",
    "\\end{align}\n",
    "\n",
    "The above can be written in matrix notation as\n",
    "\n",
    "\\begin{align}\n",
    "\\underline y = H(\\underline x) \\underline w + \\underline\\epsilon \\ ,\n",
    "\\end{align}\n",
    "\n",
    "where $H_{ji} = h_i(x_j)$, and $H_{j0} = \\underline 1$. We will drop the underlines from now on.\n",
    "\n",
    "The linear regression model can be obtained as a solution to the ordinary least squares functional (also called residual sum of squares):\n",
    "\n",
    "\\begin{align}\n",
    "RSS(w) = (y - Hw)^t (y -Hw) \\ ,\n",
    "\\end{align}\n",
    "\n",
    "and its gradient is\n",
    "\\begin{align}\\label{rss1}\n",
    "\\nabla RSS(w) = -2H^t (y - Hw) .\n",
    "\\end{align}\n",
    "\n",
    "To obtain (\\ref{rss1}),\n",
    "\n",
    "\\begin{align}\n",
    "\\partial_{w^m}RSS(w) & = \\partial_{w^m}(y - Hw)^t (y -Hw)\\\\\n",
    " & = \\partial_{w^m}(y^i - (Hw)^i)\\delta_{ij} (y^j - (Hw)^j) \\\\\n",
    " & = \\partial_{w^m}(y^i - H^i_{\\ k}w^k)\\delta_{ij} (y^j - H^j_{\\ l}w^l) \\\\\n",
    "  & = - 2 H_{im} (y^i - H^i_{\\ l}w^l) \\\\\n",
    "    & = - 2 H^t_{mi} (y^i - H^i_{\\ l}w^l) \\\\\n",
    "        & = - 2 H^t (y - Hw).\n",
    "\\end{align}\n",
    "\n",
    "The solution to $\\nabla RSS(w) = 0$ is then,\n",
    "\\begin{align}\n",
    "\\hat w = \\left( H^tH \\right)^{-1} H^ty \\ .\n",
    "\\end{align}\n",
    "\n",
    "The above solution exists $\\iff$ $H$ is invertible $\\iff$ $n \\geq p + 1 $ ($H$ is an $x \\times (p+1)$ matirx.  \n",
    "\n",
    "\n",
    "# Assumptions on linear regression model\n",
    "\n",
    "- Linearity: The mean of the response variable is a linear combination of the parameters (regression coefficients) and the predictor variables.\n",
    "\n",
    "- Independence of errors: The errors of the response variables are uncorrelated with each other.\n",
    "\n",
    "- Homoscedasticity (constant variance) of the errors: The variance of the errors is constant with respect to the predicting   variables or the response.\n",
    "\n",
    "- No linear dependence between the predicting variables.\n",
    "\n",
    "- This assumption may not be met, that is, one can perform linear regression without it: the errors are drawn from a normal distribution.\n",
    "\n",
    "Related to the last point: if there are outliers in the distribution of the residuals, it might help to go back and model the problem after excluding such outliers."
   ]
  },
  {
   "cell_type": "code",
   "execution_count": 35,
   "metadata": {},
   "outputs": [],
   "source": [
    "import graphlab\n",
    "import matplotlib.pyplot as plt\n",
    "graphlab.canvas.set_target('ipynb')"
   ]
  },
  {
   "cell_type": "markdown",
   "metadata": {},
   "source": [
    "### Example using housing data\n",
    "\n",
    "Dataset is from house sales in King County, the region where the city of Seattle, WA is located."
   ]
  },
  {
   "cell_type": "code",
   "execution_count": 4,
   "metadata": {
    "scrolled": true
   },
   "outputs": [],
   "source": [
    "sales = graphlab.SFrame('/Users/cabrera/Documents/10_python_coding/206_regression/kc_house_data.gl/') "
   ]
  },
  {
   "cell_type": "code",
   "execution_count": 5,
   "metadata": {},
   "outputs": [],
   "source": [
    "train_data,test_data = sales.random_split(.8,seed=0)"
   ]
  },
  {
   "cell_type": "markdown",
   "metadata": {},
   "source": [
    "Fuction to compute residual sum of squares"
   ]
  },
  {
   "cell_type": "code",
   "execution_count": 6,
   "metadata": {},
   "outputs": [],
   "source": [
    "def get_residual_sum_of_squares(model, data, outcome):\n",
    "# returns (y - y_pred)*(y - y_pred)\n",
    "\n",
    "    predictions = model.predict(data)\n",
    "    RSS = ((outcome - predictions)**2).sum()\n",
    "\n",
    "    return(RSS)    "
   ]
  },
  {
   "cell_type": "markdown",
   "metadata": {},
   "source": [
    "## Creating some new features"
   ]
  },
  {
   "cell_type": "markdown",
   "metadata": {},
   "source": [
    "We often think of multiple regression as including multiple different features (e.g. # of bedrooms, squarefeet, and # of bathrooms) but we can also consider transformations of existing features e.g. the log of the squarefeet or even \"interaction\" features such as the product of bedrooms and bathrooms."
   ]
  },
  {
   "cell_type": "markdown",
   "metadata": {},
   "source": [
    "Here we use the logarithm function to create a new feature. so first you should import it from the math library."
   ]
  },
  {
   "cell_type": "code",
   "execution_count": 7,
   "metadata": {},
   "outputs": [],
   "source": [
    "from math import log"
   ]
  },
  {
   "cell_type": "markdown",
   "metadata": {},
   "source": [
    "Next we create the following 4 new features as column in both TEST and TRAIN data:\n",
    "* bedrooms_squared = bedrooms\\*bedrooms\n",
    "* bed_bath_rooms = bedrooms\\*bathrooms\n",
    "* log_sqft_living = log(sqft_living)\n",
    "* lat_plus_long = lat + long \n",
    "As an example here's the first one:"
   ]
  },
  {
   "cell_type": "code",
   "execution_count": 8,
   "metadata": {},
   "outputs": [
    {
     "data": {
      "text/html": [
       "<div style=\"max-height:1000px;max-width:1500px;overflow:auto;\"><table frame=\"box\" rules=\"cols\">\n",
       "    <tr>\n",
       "        <th style=\"padding-left: 1em; padding-right: 1em; text-align: center\">id</th>\n",
       "        <th style=\"padding-left: 1em; padding-right: 1em; text-align: center\">date</th>\n",
       "        <th style=\"padding-left: 1em; padding-right: 1em; text-align: center\">price</th>\n",
       "        <th style=\"padding-left: 1em; padding-right: 1em; text-align: center\">bedrooms</th>\n",
       "        <th style=\"padding-left: 1em; padding-right: 1em; text-align: center\">bathrooms</th>\n",
       "        <th style=\"padding-left: 1em; padding-right: 1em; text-align: center\">sqft_living</th>\n",
       "        <th style=\"padding-left: 1em; padding-right: 1em; text-align: center\">sqft_lot</th>\n",
       "        <th style=\"padding-left: 1em; padding-right: 1em; text-align: center\">floors</th>\n",
       "        <th style=\"padding-left: 1em; padding-right: 1em; text-align: center\">waterfront</th>\n",
       "    </tr>\n",
       "    <tr>\n",
       "        <td style=\"padding-left: 1em; padding-right: 1em; text-align: center; vertical-align: top\">7129300520</td>\n",
       "        <td style=\"padding-left: 1em; padding-right: 1em; text-align: center; vertical-align: top\">2014-10-13 00:00:00+00:00</td>\n",
       "        <td style=\"padding-left: 1em; padding-right: 1em; text-align: center; vertical-align: top\">221900.0</td>\n",
       "        <td style=\"padding-left: 1em; padding-right: 1em; text-align: center; vertical-align: top\">3.0</td>\n",
       "        <td style=\"padding-left: 1em; padding-right: 1em; text-align: center; vertical-align: top\">1.0</td>\n",
       "        <td style=\"padding-left: 1em; padding-right: 1em; text-align: center; vertical-align: top\">1180.0</td>\n",
       "        <td style=\"padding-left: 1em; padding-right: 1em; text-align: center; vertical-align: top\">5650</td>\n",
       "        <td style=\"padding-left: 1em; padding-right: 1em; text-align: center; vertical-align: top\">1</td>\n",
       "        <td style=\"padding-left: 1em; padding-right: 1em; text-align: center; vertical-align: top\">0</td>\n",
       "    </tr>\n",
       "    <tr>\n",
       "        <td style=\"padding-left: 1em; padding-right: 1em; text-align: center; vertical-align: top\">6414100192</td>\n",
       "        <td style=\"padding-left: 1em; padding-right: 1em; text-align: center; vertical-align: top\">2014-12-09 00:00:00+00:00</td>\n",
       "        <td style=\"padding-left: 1em; padding-right: 1em; text-align: center; vertical-align: top\">538000.0</td>\n",
       "        <td style=\"padding-left: 1em; padding-right: 1em; text-align: center; vertical-align: top\">3.0</td>\n",
       "        <td style=\"padding-left: 1em; padding-right: 1em; text-align: center; vertical-align: top\">2.25</td>\n",
       "        <td style=\"padding-left: 1em; padding-right: 1em; text-align: center; vertical-align: top\">2570.0</td>\n",
       "        <td style=\"padding-left: 1em; padding-right: 1em; text-align: center; vertical-align: top\">7242</td>\n",
       "        <td style=\"padding-left: 1em; padding-right: 1em; text-align: center; vertical-align: top\">2</td>\n",
       "        <td style=\"padding-left: 1em; padding-right: 1em; text-align: center; vertical-align: top\">0</td>\n",
       "    </tr>\n",
       "    <tr>\n",
       "        <td style=\"padding-left: 1em; padding-right: 1em; text-align: center; vertical-align: top\">5631500400</td>\n",
       "        <td style=\"padding-left: 1em; padding-right: 1em; text-align: center; vertical-align: top\">2015-02-25 00:00:00+00:00</td>\n",
       "        <td style=\"padding-left: 1em; padding-right: 1em; text-align: center; vertical-align: top\">180000.0</td>\n",
       "        <td style=\"padding-left: 1em; padding-right: 1em; text-align: center; vertical-align: top\">2.0</td>\n",
       "        <td style=\"padding-left: 1em; padding-right: 1em; text-align: center; vertical-align: top\">1.0</td>\n",
       "        <td style=\"padding-left: 1em; padding-right: 1em; text-align: center; vertical-align: top\">770.0</td>\n",
       "        <td style=\"padding-left: 1em; padding-right: 1em; text-align: center; vertical-align: top\">10000</td>\n",
       "        <td style=\"padding-left: 1em; padding-right: 1em; text-align: center; vertical-align: top\">1</td>\n",
       "        <td style=\"padding-left: 1em; padding-right: 1em; text-align: center; vertical-align: top\">0</td>\n",
       "    </tr>\n",
       "</table>\n",
       "<table frame=\"box\" rules=\"cols\">\n",
       "    <tr>\n",
       "        <th style=\"padding-left: 1em; padding-right: 1em; text-align: center\">view</th>\n",
       "        <th style=\"padding-left: 1em; padding-right: 1em; text-align: center\">condition</th>\n",
       "        <th style=\"padding-left: 1em; padding-right: 1em; text-align: center\">grade</th>\n",
       "        <th style=\"padding-left: 1em; padding-right: 1em; text-align: center\">sqft_above</th>\n",
       "        <th style=\"padding-left: 1em; padding-right: 1em; text-align: center\">sqft_basement</th>\n",
       "        <th style=\"padding-left: 1em; padding-right: 1em; text-align: center\">yr_built</th>\n",
       "        <th style=\"padding-left: 1em; padding-right: 1em; text-align: center\">yr_renovated</th>\n",
       "        <th style=\"padding-left: 1em; padding-right: 1em; text-align: center\">zipcode</th>\n",
       "        <th style=\"padding-left: 1em; padding-right: 1em; text-align: center\">lat</th>\n",
       "    </tr>\n",
       "    <tr>\n",
       "        <td style=\"padding-left: 1em; padding-right: 1em; text-align: center; vertical-align: top\">0</td>\n",
       "        <td style=\"padding-left: 1em; padding-right: 1em; text-align: center; vertical-align: top\">3</td>\n",
       "        <td style=\"padding-left: 1em; padding-right: 1em; text-align: center; vertical-align: top\">7</td>\n",
       "        <td style=\"padding-left: 1em; padding-right: 1em; text-align: center; vertical-align: top\">1180</td>\n",
       "        <td style=\"padding-left: 1em; padding-right: 1em; text-align: center; vertical-align: top\">0</td>\n",
       "        <td style=\"padding-left: 1em; padding-right: 1em; text-align: center; vertical-align: top\">1955</td>\n",
       "        <td style=\"padding-left: 1em; padding-right: 1em; text-align: center; vertical-align: top\">0</td>\n",
       "        <td style=\"padding-left: 1em; padding-right: 1em; text-align: center; vertical-align: top\">98178</td>\n",
       "        <td style=\"padding-left: 1em; padding-right: 1em; text-align: center; vertical-align: top\">47.51123398</td>\n",
       "    </tr>\n",
       "    <tr>\n",
       "        <td style=\"padding-left: 1em; padding-right: 1em; text-align: center; vertical-align: top\">0</td>\n",
       "        <td style=\"padding-left: 1em; padding-right: 1em; text-align: center; vertical-align: top\">3</td>\n",
       "        <td style=\"padding-left: 1em; padding-right: 1em; text-align: center; vertical-align: top\">7</td>\n",
       "        <td style=\"padding-left: 1em; padding-right: 1em; text-align: center; vertical-align: top\">2170</td>\n",
       "        <td style=\"padding-left: 1em; padding-right: 1em; text-align: center; vertical-align: top\">400</td>\n",
       "        <td style=\"padding-left: 1em; padding-right: 1em; text-align: center; vertical-align: top\">1951</td>\n",
       "        <td style=\"padding-left: 1em; padding-right: 1em; text-align: center; vertical-align: top\">1991</td>\n",
       "        <td style=\"padding-left: 1em; padding-right: 1em; text-align: center; vertical-align: top\">98125</td>\n",
       "        <td style=\"padding-left: 1em; padding-right: 1em; text-align: center; vertical-align: top\">47.72102274</td>\n",
       "    </tr>\n",
       "    <tr>\n",
       "        <td style=\"padding-left: 1em; padding-right: 1em; text-align: center; vertical-align: top\">0</td>\n",
       "        <td style=\"padding-left: 1em; padding-right: 1em; text-align: center; vertical-align: top\">3</td>\n",
       "        <td style=\"padding-left: 1em; padding-right: 1em; text-align: center; vertical-align: top\">6</td>\n",
       "        <td style=\"padding-left: 1em; padding-right: 1em; text-align: center; vertical-align: top\">770</td>\n",
       "        <td style=\"padding-left: 1em; padding-right: 1em; text-align: center; vertical-align: top\">0</td>\n",
       "        <td style=\"padding-left: 1em; padding-right: 1em; text-align: center; vertical-align: top\">1933</td>\n",
       "        <td style=\"padding-left: 1em; padding-right: 1em; text-align: center; vertical-align: top\">0</td>\n",
       "        <td style=\"padding-left: 1em; padding-right: 1em; text-align: center; vertical-align: top\">98028</td>\n",
       "        <td style=\"padding-left: 1em; padding-right: 1em; text-align: center; vertical-align: top\">47.73792661</td>\n",
       "    </tr>\n",
       "</table>\n",
       "<table frame=\"box\" rules=\"cols\">\n",
       "    <tr>\n",
       "        <th style=\"padding-left: 1em; padding-right: 1em; text-align: center\">long</th>\n",
       "        <th style=\"padding-left: 1em; padding-right: 1em; text-align: center\">sqft_living15</th>\n",
       "        <th style=\"padding-left: 1em; padding-right: 1em; text-align: center\">sqft_lot15</th>\n",
       "    </tr>\n",
       "    <tr>\n",
       "        <td style=\"padding-left: 1em; padding-right: 1em; text-align: center; vertical-align: top\">-122.25677536</td>\n",
       "        <td style=\"padding-left: 1em; padding-right: 1em; text-align: center; vertical-align: top\">1340.0</td>\n",
       "        <td style=\"padding-left: 1em; padding-right: 1em; text-align: center; vertical-align: top\">5650.0</td>\n",
       "    </tr>\n",
       "    <tr>\n",
       "        <td style=\"padding-left: 1em; padding-right: 1em; text-align: center; vertical-align: top\">-122.3188624</td>\n",
       "        <td style=\"padding-left: 1em; padding-right: 1em; text-align: center; vertical-align: top\">1690.0</td>\n",
       "        <td style=\"padding-left: 1em; padding-right: 1em; text-align: center; vertical-align: top\">7639.0</td>\n",
       "    </tr>\n",
       "    <tr>\n",
       "        <td style=\"padding-left: 1em; padding-right: 1em; text-align: center; vertical-align: top\">-122.23319601</td>\n",
       "        <td style=\"padding-left: 1em; padding-right: 1em; text-align: center; vertical-align: top\">2720.0</td>\n",
       "        <td style=\"padding-left: 1em; padding-right: 1em; text-align: center; vertical-align: top\">8062.0</td>\n",
       "    </tr>\n",
       "</table>\n",
       "[3 rows x 21 columns]<br/>\n",
       "</div>"
      ],
      "text/plain": [
       "Columns:\n",
       "\tid\tstr\n",
       "\tdate\tdatetime\n",
       "\tprice\tfloat\n",
       "\tbedrooms\tfloat\n",
       "\tbathrooms\tfloat\n",
       "\tsqft_living\tfloat\n",
       "\tsqft_lot\tint\n",
       "\tfloors\tstr\n",
       "\twaterfront\tint\n",
       "\tview\tint\n",
       "\tcondition\tint\n",
       "\tgrade\tint\n",
       "\tsqft_above\tint\n",
       "\tsqft_basement\tint\n",
       "\tyr_built\tint\n",
       "\tyr_renovated\tint\n",
       "\tzipcode\tstr\n",
       "\tlat\tfloat\n",
       "\tlong\tfloat\n",
       "\tsqft_living15\tfloat\n",
       "\tsqft_lot15\tfloat\n",
       "\n",
       "Rows: 3\n",
       "\n",
       "Data:\n",
       "+------------+---------------------------+----------+----------+-----------+\n",
       "|     id     |            date           |  price   | bedrooms | bathrooms |\n",
       "+------------+---------------------------+----------+----------+-----------+\n",
       "| 7129300520 | 2014-10-13 00:00:00+00:00 | 221900.0 |   3.0    |    1.0    |\n",
       "| 6414100192 | 2014-12-09 00:00:00+00:00 | 538000.0 |   3.0    |    2.25   |\n",
       "| 5631500400 | 2015-02-25 00:00:00+00:00 | 180000.0 |   2.0    |    1.0    |\n",
       "+------------+---------------------------+----------+----------+-----------+\n",
       "+-------------+----------+--------+------------+------+-----------+-------+------------+\n",
       "| sqft_living | sqft_lot | floors | waterfront | view | condition | grade | sqft_above |\n",
       "+-------------+----------+--------+------------+------+-----------+-------+------------+\n",
       "|    1180.0   |   5650   |   1    |     0      |  0   |     3     |   7   |    1180    |\n",
       "|    2570.0   |   7242   |   2    |     0      |  0   |     3     |   7   |    2170    |\n",
       "|    770.0    |  10000   |   1    |     0      |  0   |     3     |   6   |    770     |\n",
       "+-------------+----------+--------+------------+------+-----------+-------+------------+\n",
       "+---------------+----------+--------------+---------+-------------+\n",
       "| sqft_basement | yr_built | yr_renovated | zipcode |     lat     |\n",
       "+---------------+----------+--------------+---------+-------------+\n",
       "|       0       |   1955   |      0       |  98178  | 47.51123398 |\n",
       "|      400      |   1951   |     1991     |  98125  | 47.72102274 |\n",
       "|       0       |   1933   |      0       |  98028  | 47.73792661 |\n",
       "+---------------+----------+--------------+---------+-------------+\n",
       "+---------------+---------------+-----+\n",
       "|      long     | sqft_living15 | ... |\n",
       "+---------------+---------------+-----+\n",
       "| -122.25677536 |     1340.0    | ... |\n",
       "|  -122.3188624 |     1690.0    | ... |\n",
       "| -122.23319601 |     2720.0    | ... |\n",
       "+---------------+---------------+-----+\n",
       "[3 rows x 21 columns]"
      ]
     },
     "execution_count": 8,
     "metadata": {},
     "output_type": "execute_result"
    }
   ],
   "source": [
    "train_data.head(3)"
   ]
  },
  {
   "cell_type": "code",
   "execution_count": 9,
   "metadata": {},
   "outputs": [],
   "source": [
    "train_data['bedrooms_squared'] = train_data['bedrooms'].apply(lambda x: x**2)\n",
    "test_data['bedrooms_squared'] = test_data['bedrooms'].apply(lambda x: x**2)\n",
    "\n",
    "train_data['bed_bath'] = train_data['bedrooms']*train_data['bathrooms']\n",
    "test_data['bed_bath'] = test_data['bedrooms']*test_data['bathrooms']\n",
    "\n",
    "train_data['log_sqft_living']  = train_data['sqft_living'].apply(lambda x: log(x))\n",
    "test_data['log_sqft_living']  = test_data['sqft_living'].apply(lambda x: log(x))\n",
    "\n",
    "train_data['lat+long'] = train_data['lat'] + train_data['long']\n",
    "test_data['lat+long'] = test_data['lat'] + test_data['long']"
   ]
  },
  {
   "cell_type": "markdown",
   "metadata": {},
   "source": [
    "* Squaring bedrooms will increase the separation between not many bedrooms (e.g. 1) and lots of bedrooms (e.g. 4) since 1^2 = 1 but 4^2 = 16. Consequently this feature will mostly affect houses with many bedrooms.\n",
    "* bedrooms times bathrooms gives what's called an \"interaction\" feature. It is large when *both* of them are large.\n",
    "* Taking the log of squarefeet has the effect of bringing large values closer together and spreading out small values.\n",
    "* Adding latitude to longitude is totally non-sensical but we will do it anyway (you'll see why)"
   ]
  },
  {
   "cell_type": "markdown",
   "metadata": {},
   "source": [
    "### Checking linearity between features and target variable\n",
    "\n",
    "Before modeling we check that the target column (price) is linear with respect the attributes. We will plot here just three sample scatter plots."
   ]
  },
  {
   "cell_type": "code",
   "execution_count": 28,
   "metadata": {},
   "outputs": [
    {
     "data": {
      "text/plain": [
       "['id',\n",
       " 'date',\n",
       " 'price',\n",
       " 'bedrooms',\n",
       " 'bathrooms',\n",
       " 'sqft_living',\n",
       " 'sqft_lot',\n",
       " 'floors',\n",
       " 'waterfront',\n",
       " 'view',\n",
       " 'condition',\n",
       " 'grade',\n",
       " 'sqft_above',\n",
       " 'sqft_basement',\n",
       " 'yr_built',\n",
       " 'yr_renovated',\n",
       " 'zipcode',\n",
       " 'lat',\n",
       " 'long',\n",
       " 'sqft_living15',\n",
       " 'sqft_lot15',\n",
       " 'bedrooms_squared',\n",
       " 'bed_bath',\n",
       " 'log_sqft_living',\n",
       " 'lat+long']"
      ]
     },
     "execution_count": 28,
     "metadata": {},
     "output_type": "execute_result"
    }
   ],
   "source": [
    "train_data.column_names()"
   ]
  },
  {
   "cell_type": "code",
   "execution_count": 41,
   "metadata": {},
   "outputs": [
    {
     "data": {
      "application/javascript": [
       "$(\"head\").append($(\"<link/>\").attr({\n",
       "  rel:  \"stylesheet\",\n",
       "  type: \"text/css\",\n",
       "  href: \"//cdnjs.cloudflare.com/ajax/libs/font-awesome/4.1.0/css/font-awesome.min.css\"\n",
       "}));\n",
       "$(\"head\").append($(\"<link/>\").attr({\n",
       "  rel:  \"stylesheet\",\n",
       "  type: \"text/css\",\n",
       "  href: \"https://static.turi.com/products/graphlab-create/2.1/canvas/css/canvas.css\"\n",
       "}));\n",
       "\n",
       "            (function(){\n",
       "\n",
       "                var e = null;\n",
       "                if (typeof element == 'undefined') {\n",
       "                    var scripts = document.getElementsByTagName('script');\n",
       "                    var thisScriptTag = scripts[scripts.length-1];\n",
       "                    var parentDiv = thisScriptTag.parentNode;\n",
       "                    e = document.createElement('div');\n",
       "                    parentDiv.appendChild(e);\n",
       "                } else {\n",
       "                    e = element[0];\n",
       "                }\n",
       "\n",
       "                if (typeof requirejs !== 'undefined') {\n",
       "                    // disable load timeout; ipython_app.js is large and can take a while to load.\n",
       "                    requirejs.config({waitSeconds: 0});\n",
       "                }\n",
       "\n",
       "                require(['https://static.turi.com/products/graphlab-create/2.1/canvas/js/ipython_app.js'], function(IPythonApp){\n",
       "                    var app = new IPythonApp();\n",
       "                    app.attachView('sframe','Plots', {\"selected_variable\": {\"name\": [\"train_data\"], \"descriptives\": {\"rows\": 17384, \"columns\": 25}, \"view_component\": \"Plots\", \"view_file\": \"sframe\", \"view_params\": {\"y\": \"price\", \"x\": \"long\", \"columns\": [\"id\", \"date\", \"price\", \"bedrooms\", \"bathrooms\", \"sqft_living\", \"sqft_lot\", \"floors\", \"waterfront\", \"view\", \"condition\", \"grade\", \"sqft_above\", \"sqft_basement\", \"yr_built\", \"yr_renovated\", \"zipcode\", \"lat\", \"long\", \"sqft_living15\", \"sqft_lot15\", \"bedrooms_squared\", \"bed_bath\", \"log_sqft_living\", \"lat+long\"], \"view\": \"Scatter Plot\"}, \"view_components\": [\"Summary\", \"Table\", \"Bar Chart\", \"BoxWhisker Plot\", \"Line Chart\", \"Scatter Plot\", \"Heat Map\", \"Plots\"], \"type\": \"SFrame\", \"columns\": [{\"dtype\": \"str\", \"name\": \"id\"}, {\"dtype\": \"datetime\", \"name\": \"date\"}, {\"dtype\": \"float\", \"name\": \"price\"}, {\"dtype\": \"float\", \"name\": \"bedrooms\"}, {\"dtype\": \"float\", \"name\": \"bathrooms\"}, {\"dtype\": \"float\", \"name\": \"sqft_living\"}, {\"dtype\": \"int\", \"name\": \"sqft_lot\"}, {\"dtype\": \"str\", \"name\": \"floors\"}, {\"dtype\": \"int\", \"name\": \"waterfront\"}, {\"dtype\": \"int\", \"name\": \"view\"}, {\"dtype\": \"int\", \"name\": \"condition\"}, {\"dtype\": \"int\", \"name\": \"grade\"}, {\"dtype\": \"int\", \"name\": \"sqft_above\"}, {\"dtype\": \"int\", \"name\": \"sqft_basement\"}, {\"dtype\": \"int\", \"name\": \"yr_built\"}, {\"dtype\": \"int\", \"name\": \"yr_renovated\"}, {\"dtype\": \"str\", \"name\": \"zipcode\"}, {\"dtype\": \"float\", \"name\": \"lat\"}, {\"dtype\": \"float\", \"name\": \"long\"}, {\"dtype\": \"float\", \"name\": \"sqft_living15\"}, {\"dtype\": \"float\", \"name\": \"sqft_lot15\"}, {\"dtype\": \"float\", \"name\": \"bedrooms_squared\"}, {\"dtype\": \"float\", \"name\": \"bed_bath\"}, {\"dtype\": \"float\", \"name\": \"log_sqft_living\"}, {\"dtype\": \"float\", \"name\": \"lat+long\"}], \"column_identifiers\": [\"bathrooms\", \"sqft_above\", \"grade\", \"lat+long\", \"lat\", \"floors\", \"bedrooms_squared\", \"yr_renovated\", \"id\", \"zipcode\", \"long\", \"log_sqft_living\", \"sqft_basement\", \"yr_built\", \"sqft_lot\", \"sqft_lot15\", \"price\", \"bedrooms\", \"date\", \"bed_bath\", \"condition\", \"waterfront\", \"sqft_living15\", \"sqft_living\", \"view\"]}, \"complete\": 1, \"ipython\": true, \"progress\": 1.0, \"data\": [[-122.33194304, 366000.0], [-122.03062094, 473000.0], [-122.39456965, 340000.0], [-122.11298522, 280000.0], [-121.85759054, 820875.0], [-122.34708496, 355000.0], [-122.20850048, 319900.0], [-122.17637649, 326000.0], [-122.20974142, 325000.0], [-122.23946123, 572650.0], [-122.28038617, 1400000.0], [-122.29912323, 631000.0], [-122.38385337, 552000.0], [-122.35240432, 385000.0], [-121.96189859, 395000.0], [-122.28833209, 445000.0], [-122.3026199, 620000.0], [-122.33763242, 262000.0], [-122.39168906, 335000.0], [-122.32177612, 134000.0], [-122.26146611, 385000.0], [-122.35678931, 330000.0], [-122.38154628, 505000.0], [-122.35985573, 937000.0], [-122.29405305, 428000.0], [-121.87471532, 154000.0], [-122.39159723, 545000.0], [-122.3724483, 435000.0], [-122.40607623, 675000.0], [-122.38280572, 705000.0], [-122.17095469, 295000.0], [-122.28949677, 689950.0], [-122.28568522, 333000.0], [-122.3511487, 430000.0], [-122.26724053, 855000.0], [-122.05661108, 350000.0], [-122.15858804, 525000.0], [-122.22258344, 304000.0], [-122.09625728, 419500.0], [-122.04526363, 525000.0], [-122.16162938, 250000.0], [-122.38231292, 401750.0], [-122.03832351, 705000.0], [-122.13969741, 624000.0], [-122.19146411, 190000.0], [-122.12997086, 535000.0], [-122.19576518, 625000.0], [-122.28094872, 920000.0], [-122.17768464, 392000.0], [-122.3070482, 267950.0], [-122.35671159, 248500.0], [-122.31168228, 255000.0], [-121.82634705, 320000.0], [-122.18306179, 321000.0], [-122.02504006, 225000.0], [-122.35898201, 817000.0], [-122.28823806, 1050000.0], [-122.00793233, 165050.0], [-121.99123508, 697000.0], [-122.29007135, 1333000.0], [-122.28232904, 198000.0], [-122.23727774, 615000.0], [-122.33941272, 275000.0], [-121.84074244, 424950.0], [-122.34113156, 720000.0], [-122.16616735, 209900.0], [-122.26202854, 119900.0], [-122.28805146, 250000.0], [-122.28120131, 255000.0], [-122.00419554, 505000.0], [-122.29819662, 660000.0], [-122.18593381, 580000.0], [-122.37034755, 530000.0], [-121.74518745, 255000.0], [-122.18878047, 305000.0], [-122.16997215, 716125.0], [-122.06672697, 1060000.0], [-122.30579321, 495000.0], [-122.06862449, 825000.0], [-122.3536758, 309000.0], [-122.19461466, 441000.0], [-122.10789917, 318000.0], [-122.2018968, 340000.0], [-122.31691426, 172000.0], [-122.1725235, 575000.0], [-122.39507782, 337500.0], [-122.38535674, 995000.0], [-122.29823404, 242000.0], [-122.28911966, 355000.0], [-122.11755579, 350000.0], [-122.40601325, 652000.0], [-122.32324839, 375000.0], [-122.16779432, 475300.0], [-122.12359303, 635000.0], [-121.86819796, 455000.0], [-122.01598305, 570000.0], [-122.19301543, 250000.0], [-122.16321948, 310000.0], [-122.07630489, 655000.0], [-122.01057822, 290000.0], [-122.32852223, 720000.0], [-122.17203469, 935100.0], [-122.30294644, 171800.0], [-121.87753859, 356000.0], [-122.26373626, 541800.0], [-122.35816674, 585000.0], [-122.18252195, 385000.0], [-122.34905729, 249000.0], [-122.36017294, 210000.0], [-121.77150815, 372000.0], [-122.06207229, 324950.0], [-122.34627921, 674600.0], [-122.33077187, 515000.0], [-122.11225645, 665000.0], [-122.05263299, 246500.0], [-122.16382128, 218500.0], [-121.99827997, 453246.0], [-122.31617941, 1265000.0], [-122.36735604, 265000.0], [-122.19119464, 283500.0], [-122.00918814, 324360.0], [-122.35128451, 389000.0], [-122.07266792, 571000.0], [-122.17147889, 205000.0], [-122.27730026, 296500.0], [-122.25066161, 198000.0], [-122.38812926, 475000.0], [-122.20503512, 222000.0], [-122.22532693, 925000.0], [-122.38841921, 545000.0], [-122.35872581, 560000.0], [-122.27786568, 308000.0], [-122.1190164, 554000.0], [-122.09961634, 746000.0], [-122.3550856, 500000.0], [-122.18006917, 365000.0], [-122.09645382, 510000.0], [-121.78104013, 255000.0], [-122.10893082, 546800.0], [-122.13190312, 520000.0], [-122.30245256, 160000.0], [-122.18932337, 1420000.0], [-122.21249951, 623000.0], [-122.11666163, 230000.0], [-122.27667421, 263500.0], [-122.02346954, 390000.0], [-122.38385196, 657000.0], [-122.29350375, 585000.0], [-122.36419409, 455000.0], [-122.28848832, 234550.0], [-122.33634541, 358000.0], [-122.20207879, 299000.0], [-122.35214658, 519000.0], [-122.20980625, 325000.0], [-122.36250052, 392000.0], [-121.87434482, 605000.0], [-122.28863747, 235000.0], [-122.28993384, 246500.0], [-121.72703429, 560000.0], [-122.39890502, 204950.0], [-122.34287935, 696500.0], [-122.13287782, 412500.0], [-122.36390821, 234000.0], [-122.10422912, 843500.0], [-122.23510902, 425000.0], [-122.1928223, 1050000.0], [-122.28929702, 600000.0], [-122.09603494, 369900.0], [-122.30297046, 667000.0], [-121.80152972, 480000.0], [-122.37520982, 600000.0], [-122.27887793, 799950.0], [-122.39125971, 510000.0], [-122.32171548, 225000.0], [-121.98434004, 499950.0], [-122.35188545, 605000.0], [-122.07337221, 645000.0], [-122.3361015, 551000.0], [-122.1849852, 270000.0], [-122.03309053, 630000.0], [-121.89111222, 520000.0], [-122.30928219, 616500.0], [-122.09227207, 535000.0], [-122.35498363, 370000.0], [-122.16648925, 275000.0], [-122.08100252, 180000.0], [-122.39690309, 595000.0], [-122.33649101, 287500.0], [-122.14079376, 732500.0], [-122.34204305, 372500.0], [-122.37318137, 390000.0], [-122.37604725, 580000.0], [-122.02966646, 396480.0], [-122.11664846, 660000.0], [-122.26098214, 339950.0], [-122.33935356, 315000.0], [-122.41122919, 850000.0], [-122.37449809, 635000.0], [-122.09778479, 485000.0], [-122.30337888, 410000.0], [-122.14843507, 264000.0], [-122.32403399, 472000.0], [-122.17287662, 296000.0], [-122.11340532, 1615000.0], [-122.34842468, 332000.0], [-122.30860958, 237100.0], [-122.35206456, 485000.0], [-122.17704732, 553000.0], [-122.14996849, 405000.0], [-121.75356713, 353000.0], [-122.11687972, 650000.0], [-122.15470755, 1027500.0], [-122.05098147, 211000.0], [-122.19910142, 650000.0], [-122.35711355, 1289000.0], [-122.33099419, 720001.0], [-122.40276052, 605000.0], [-122.01193771, 860000.0], [-122.27945345, 281000.0], [-122.11592288, 390000.0], [-122.07948867, 214000.0], [-122.01643387, 615000.0], [-122.35471117, 780000.0], [-121.73547203, 535000.0], [-122.3038179, 1395713.0], [-122.20818043, 968000.0], [-122.12051194, 580000.0], [-122.04491529, 395000.0], [-122.38347819, 215000.0], [-122.11680281, 575000.0], [-121.87114857, 700000.0], [-122.47168491, 665000.0], [-122.35796412, 260000.0], [-121.98077891, 349950.0], [-122.12133026, 458500.0], [-122.2919804, 669000.0], [-122.20481276, 2230000.0], [-122.03629251, 790000.0], [-122.28693845, 385000.0], [-121.72051065, 750000.0], [-122.29698765, 180000.0], [-122.14588251, 907500.0], [-122.34334723, 389999.0], [-122.16970463, 386500.0], [-122.38895842, 735000.0], [-122.01748454, 879000.0], [-122.3777273, 423000.0], [-122.36156552, 337900.0], [-122.28696527, 760000.0], [-122.33992706, 752000.0], [-122.22338022, 659000.0], [-122.29024784, 423500.0], [-121.77562694, 324000.0], [-122.39618693, 593000.0], [-122.28196549, 207000.0], [-122.3050031, 235000.0], [-122.35107818, 325000.0], [-122.29188407, 629000.0], [-122.34079612, 270000.0], [-122.17816024, 402000.0], [-122.36188795, 265000.0], [-122.16842529, 588000.0], [-122.30367736, 204750.0], [-122.3527719, 215000.0], [-122.04759518, 775000.0], [-122.14427925, 625000.0], [-122.14187553, 525000.0], [-122.35226024, 240500.0], [-122.08607426, 815000.0], [-122.34022079, 290000.0], [-122.30687565, 1285000.0], [-122.12830532, 618000.0], [-122.30024989, 340000.0], [-122.39016587, 420000.0], [-122.04535487, 176000.0], [-121.88150454, 544000.0], [-122.40610236, 834500.0], [-122.24121529, 380000.0], [-122.37098703, 490000.0], [-122.2889895, 405000.0], [-122.15701988, 405000.0], [-121.8585125, 275000.0], [-122.2913488, 341780.0], [-122.12945938, 345000.0], [-122.3734927, 235000.0], [-122.14626712, 965000.0], [-122.28589893, 237000.0], [-122.33009543, 340000.0], [-122.15857395, 900000.0], [-122.37734966, 530000.0], [-122.08843525, 269950.0], [-122.10488774, 1200000.0], [-122.15593727, 822600.0], [-122.16579464, 215000.0], [-121.87035973, 527900.0], [-122.35948944, 673000.0], [-122.18482578, 456000.0], [-122.2713847, 750000.0], [-122.27132649, 552500.0], [-122.31964915, 482000.0], [-122.01727152, 307635.0], [-122.296148, 287000.0], [-122.26252215, 287500.0], [-122.28717525, 639000.0], [-122.1383603, 340000.0], [-122.11660663, 250000.0], [-122.10338878, 700000.0], [-122.0147425, 839000.0], [-122.36170824, 380000.0], [-122.14754691, 1350000.0], [-122.07243497, 909500.0], [-122.33724454, 230000.0], [-122.27843123, 2000000.0], [-122.14127757, 450000.0], [-122.07731775, 850000.0], [-122.18525373, 230000.0], [-122.10221686, 603000.0], [-122.2976448, 369500.0], [-122.35430075, 399990.0], [-121.93003325, 835000.0], [-122.3374567, 475000.0], [-122.36484896, 352000.0], [-122.29499548, 545500.0], [-122.39306275, 465000.0], [-122.21486644, 225000.0], [-122.38533798, 431500.0], [-122.04036286, 344000.0], [-122.37090383, 364000.0], [-122.02797968, 643000.0], [-122.39706433, 530000.0], [-122.05719517, 290000.0], [-122.27514329, 333800.0], [-122.32794157, 193000.0], [-122.143516, 392500.0], [-121.99554487, 914500.0], [-122.37777778, 525000.0], [-122.11347942, 1148000.0], [-122.33183803, 1311000.0], [-122.30421691, 410000.0], [-122.34557524, 275000.0], [-122.13488599, 435000.0], [-122.15556175, 328500.0], [-122.37558316, 275000.0], [-122.29527318, 546000.0], [-122.04148033, 568000.0], [-122.29652164, 710000.0], [-122.1986336, 285000.0], [-122.18964234, 340000.0], [-121.87927721, 459000.0], [-121.86569546, 535000.0], [-122.33926141, 301000.0], [-122.26520396, 600000.0], [-122.33867412, 290000.0], [-122.28249573, 476000.0], [-122.22194379, 990000.0], [-122.28560564, 525000.0], [-122.31412316, 310000.0], [-122.3489595, 232000.0], [-122.28054143, 463000.0], [-122.40141376, 733000.0], [-122.15117496, 1315000.0], [-122.27193746, 284200.0], [-122.05999007, 405000.0], [-122.16658255, 299999.0], [-122.34816645, 361810.0], [-122.00361856, 500000.0], [-122.37403623, 478000.0], [-122.2695212, 315000.0], [-122.29364295, 932800.0], [-122.38424129, 615000.0], [-122.10450136, 270000.0], [-122.35270922, 340000.0], [-122.37070806, 780000.0], [-122.14801884, 330000.0], [-122.3356163, 395000.0], [-122.21589289, 3000000.0], [-121.77949183, 1488000.0], [-122.30143377, 124000.0], [-122.33799774, 219900.0], [-122.36256229, 955500.0], [-122.1165403, 443000.0], [-122.38633426, 970000.0], [-122.34747619, 270000.0], [-122.29192449, 330000.0], [-122.13596412, 526500.0], [-121.40208948, 370000.0], [-122.36951295, 590000.0], [-122.20261631, 342000.0], [-122.19837035, 299000.0], [-121.98015735, 495000.0], [-122.19252257, 615000.0], [-122.32431446, 317500.0], [-122.21841023, 845000.0], [-122.16830833, 302200.0], [-122.05845215, 429000.0], [-122.19682542, 425000.0], [-121.98990065, 710000.0], [-122.13431404, 415000.0], [-122.16715541, 813500.0], [-121.98294311, 317000.0], [-122.2396936, 159075.0], [-122.19666696, 292500.0], [-122.13602523, 375000.0], [-122.29809636, 464000.0], [-122.05263876, 829995.0], [-122.21226782, 247200.0], [-122.34172676, 515000.0], [-122.0544802, 845000.0], [-122.26594438, 262500.0], [-121.84102229, 450000.0], [-122.19392208, 264950.0], [-122.22889612, 325000.0], [-122.0362414, 305000.0], [-122.15297801, 299900.0], [-122.37370798, 275000.0], [-122.30969693, 364500.0], [-122.28056767, 1675000.0], [-122.30541625, 365000.0], [-122.01723143, 646800.0], [-122.28626787, 240000.0], [-122.29110582, 570000.0], [-122.07117309, 970000.0], [-122.31304841, 200000.0], [-122.3552189, 672000.0], [-122.31074557, 299900.0], [-122.35945612, 165000.0], [-122.13857156, 473000.0], [-122.38075843, 525000.0], [-122.30690422, 934000.0], [-122.28226906, 1600000.0], [-122.31709094, 440000.0], [-122.01704014, 560200.0], [-122.15998023, 315000.0], [-122.09109151, 599990.0], [-122.23551876, 1550000.0], [-122.18313198, 825000.0], [-122.05565738, 458000.0], [-122.31149297, 485000.0], [-122.39146678, 246000.0], [-122.06268883, 460000.0], [-122.24531474, 326000.0], [-122.14091756, 310000.0], [-122.20201082, 785000.0], [-122.20420144, 1149000.0], [-122.05929208, 250000.0], [-122.38465537, 247000.0], [-122.28325033, 445500.0], [-122.14381663, 2525000.0], [-122.07130496, 361000.0], [-122.33244958, 412133.0], [-121.85794059, 615000.0], [-122.15487466, 279000.0], [-122.20944797, 479000.0], [-121.98436547, 587000.0], [-122.14267051, 302000.0], [-122.21573189, 300000.0], [-122.36862224, 309000.0], [-122.30784386, 459000.0], [-122.29715274, 618500.0], [-122.35090743, 350000.0], [-122.2693251, 387500.0], [-122.05321181, 975000.0], [-122.30709246, 640000.0], [-122.34008999, 299900.0], [-122.31072843, 815000.0], [-122.34267016, 290000.0], [-122.32655859, 738000.0], [-122.29045976, 280000.0], [-122.02315436, 419000.0], [-122.2992318, 1285000.0], [-122.38241667, 255000.0], [-121.91187291, 265000.0], [-122.05824674, 878000.0], [-122.11260234, 440000.0], [-122.16166006, 370000.0], [-122.10817719, 932808.0], [-122.0068487, 575000.0], [-122.34028078, 531000.0], [-122.38562545, 400000.0], [-122.0183591, 491500.0], [-121.88165191, 569000.0], [-122.24598718, 1700000.0], [-122.18047092, 250000.0], [-122.30560787, 275000.0], [-122.33031344, 280000.0], [-122.1280652, 714000.0], [-122.27785585, 305000.0], [-122.39372688, 523500.0], [-122.34104425, 320000.0], [-122.2205772, 294000.0], [-122.16562593, 720000.0], [-122.35776051, 259950.0], [-121.88697557, 802945.0], [-122.36787074, 800000.0], [-122.34676613, 700000.0], [-122.03808996, 691000.0], [-122.40226916, 1340000.0], [-122.02907094, 422500.0], [-122.37499633, 277950.0], [-122.28953546, 660000.0], [-122.39113528, 435000.0], [-122.29004093, 665000.0], [-122.16313548, 845000.0], [-122.15579894, 472000.0], [-122.22872341, 834800.0], [-122.02577238, 866000.0], [-122.02595907, 484000.0], [-122.34623658, 425000.0], [-122.40241689, 729500.0], [-122.10017818, 465000.0], [-122.2561008, 898000.0], [-122.33254361, 290000.0], [-122.30525104, 530000.0], [-122.02224, 559000.0], [-122.26899915, 285000.0], [-122.27080616, 429000.0], [-122.02678643, 461000.0], [-122.37649865, 299800.0], [-122.21168536, 715000.0], [-122.20419092, 245000.0], [-122.11378416, 845000.0], [-122.11507332, 437000.0], [-122.37724901, 285500.0], [-122.16974365, 424950.0], [-121.90853591, 310000.0], [-122.39784605, 550000.0], [-122.1804846, 526000.0], [-122.33610814, 305000.0], [-122.30358261, 496000.0], [-122.26471029, 575000.0], [-122.37911002, 535000.0], [-122.28764939, 380000.0], [-122.19981415, 215000.0], [-122.4698582, 585000.0], [-121.78478042, 280000.0], [-122.03809035, 650000.0], [-122.36015831, 734000.0], [-122.3624974, 685000.0], [-122.10778006, 404000.0], [-122.40913127, 690000.0], [-122.17269805, 470000.0], [-122.1455028, 915000.0], [-122.35795038, 585000.0], [-122.31485645, 402723.0], [-121.7721704, 410000.0], [-122.19982057, 424000.0], [-122.35177703, 359000.0], [-122.34226541, 556000.0], [-122.0738431, 273000.0], [-122.3530376, 700000.0], [-122.34613832, 239800.0], [-122.3098603, 665000.0], [-122.37348421, 413000.0], [-122.04373227, 562500.0], [-122.11843542, 605000.0], [-122.36327623, 435000.0], [-122.25397623, 603500.0], [-122.30434114, 270000.0], [-122.35536056, 335000.0], [-122.1651039, 310000.0], [-122.34810654, 425000.0], [-122.30150561, 599950.0], [-122.05559305, 549000.0], [-122.22274911, 189000.0], [-122.33150969, 319500.0], [-122.38290141, 549000.0], [-122.1839493, 335000.0], [-122.28440525, 2193000.0], [-122.2732413, 725000.0], [-122.28555037, 730000.0], [-122.17429693, 350500.0], [-122.03605551, 293000.0], [-122.40511308, 957000.0], [-122.30184654, 550000.0], [-121.96047708, 420000.0], [-122.00151815, 187000.0], [-122.30900756, 435000.0], [-122.25728808, 325000.0], [-122.31760834, 259000.0], [-122.11665356, 776000.0], [-122.39614634, 229000.0], [-121.9924257, 470000.0], [-122.17828481, 624950.0], [-122.3958091, 1010800.0], [-122.08705932, 712000.0], [-122.39695995, 494000.0], [-122.30424285, 402300.0], [-122.19654683, 338900.0], [-122.29823925, 235000.0], [-122.00423216, 537500.0], [-122.21022831, 1950000.0], [-122.37119264, 1070000.0], [-122.19338721, 1030000.0], [-122.20060502, 234300.0], [-122.30684425, 435000.0], [-122.28126582, 592500.0], [-122.28789139, 2890000.0], [-122.20140935, 485230.0], [-122.38789661, 1598888.0], [-122.35614577, 539950.0], [-122.12293495, 610000.0], [-122.05208211, 282000.0], [-122.11301166, 779380.0], [-122.22595754, 325000.0], [-122.33746653, 210000.0], [-122.33586735, 405000.0], [-122.31061287, 395000.0], [-122.17237476, 455000.0], [-122.06279348, 330000.0], [-122.19386039, 475000.0], [-121.98610474, 774000.0], [-122.19273703, 805500.0], [-122.04074315, 361500.0], [-122.06916323, 1769000.0], [-122.26556827, 449000.0], [-122.36446545, 413500.0], [-122.25156011, 328000.0], [-122.12462288, 650000.0], [-122.33665522, 304700.0], [-122.13851754, 615000.0], [-122.39191175, 565500.0], [-122.1150801, 522000.0], [-122.38392769, 532000.0], [-122.02553221, 929000.0], [-122.33266955, 411500.0], [-122.34750536, 357000.0], [-122.35086986, 271000.0], [-122.36773283, 160000.0], [-122.3670038, 489950.0], [-122.32515418, 299000.0], [-121.97394744, 293000.0], [-122.10234693, 905000.0], [-122.10643008, 1325000.0], [-121.86722145, 505000.0], [-122.38517747, 950000.0], [-122.18483569, 565000.0], [-122.29826808, 250000.0], [-122.16818603, 290000.0], [-122.30939729, 419000.0], [-122.17612144, 902000.0], [-122.15305231, 415000.0], [-122.12083465, 1442500.0], [-122.34053886, 248500.0], [-122.08177595, 332000.0], [-122.27666599, 170000.0], [-121.99553543, 625000.0], [-122.2739615, 425000.0], [-122.36093464, 481000.0], [-122.24608999, 445000.0], [-122.00203882, 420000.0], [-122.38632764, 587100.0], [-122.20232558, 1017000.0], [-122.28533917, 550000.0], [-122.36321019, 511718.0], [-122.17999228, 560000.0], [-122.30075095, 241500.0], [-122.17512123, 540000.0], [-122.12806257, 671500.0], [-122.27364294, 691500.0], [-122.40871436, 1650000.0], [-122.30731294, 320000.0], [-122.22355102, 614000.0], [-122.31633788, 690500.0], [-122.16850779, 255000.0], [-122.1112285, 1160000.0], [-122.11602986, 1075000.0], [-122.17744324, 1003000.0], [-122.02145785, 550000.0], [-122.19469956, 402000.0], [-122.20271121, 628000.0], [-122.2331424, 400000.0], [-122.27357863, 520000.0], [-122.13399179, 344950.0], [-122.01911707, 640000.0], [-122.05663181, 448000.0], [-122.3366244, 284700.0], [-122.01940048, 640000.0], [-122.32400238, 460000.0], [-122.24544609, 300000.0], [-122.29960499, 579000.0], [-122.30989436, 375000.0], [-122.1834241, 386000.0], [-122.27995776, 4500000.0], [-122.17481201, 386000.0], [-122.37566517, 542000.0], [-122.14692519, 1115000.0], [-122.02973699, 695000.0], [-122.19574491, 442000.0], [-122.36364143, 268450.0], [-122.3711751, 566000.0], [-122.08744831, 610000.0], [-122.35392066, 570000.0], [-122.21747418, 415000.0], [-122.03777449, 635000.0], [-122.01427006, 359782.0], [-122.21023638, 899000.0], [-122.09722322, 2200000.0], [-122.32647416, 650000.0], [-122.25183401, 270500.0], [-122.19266278, 320000.0], [-122.23364392, 431000.0], [-122.33349349, 466000.0], [-122.37623492, 449000.0], [-122.31846469, 1010000.0], [-122.28178576, 650000.0], [-122.11547952, 657000.0], [-122.01956979, 788500.0], [-122.33595942, 375000.0], [-122.18687947, 800000.0], [-121.98843046, 722000.0], [-122.16271516, 372000.0], [-122.35184477, 268500.0], [-122.38237175, 344000.0], [-122.3965218, 550000.0], [-121.99182355, 205500.0], [-121.82185771, 235000.0], [-122.0685481, 391000.0], [-122.27316309, 289950.0], [-122.30399978, 550000.0], [-122.16999065, 549800.0], [-122.18859793, 275000.0], [-122.25472072, 317000.0], [-122.05758847, 499000.0], [-122.27423117, 299000.0], [-122.20393005, 525000.0], [-122.02976494, 476000.0], [-122.04232943, 400000.0], [-122.31652786, 750500.0], [-122.34642405, 328000.0], [-122.00155275, 715000.0], [-122.00648304, 544000.0], [-122.05060442, 600000.0], [-122.30491885, 279000.0], [-122.26827596, 598200.0], [-122.34323354, 287000.0], [-122.08767943, 485000.0], [-122.30101151, 259950.0], [-122.01307333, 1150000.0], [-122.19956518, 1275000.0], [-122.19909548, 545000.0], [-122.31527856, 256000.0], [-122.05530712, 730100.0], [-122.40326274, 705000.0], [-122.02556679, 378000.0], [-121.88714587, 475000.0], [-122.35320019, 487000.0], [-122.40003875, 875000.0], [-122.11665227, 760000.0], [-122.20450008, 825000.0], [-122.12260357, 430000.0], [-122.2837153, 555000.0], [-122.32374943, 653500.0], [-122.04415174, 379950.0], [-122.34689669, 355000.0], [-122.12759687, 1093000.0], [-122.20458591, 354000.0], [-122.22274658, 439000.0], [-122.23036647, 353000.0], [-122.19530583, 272000.0], [-122.00396846, 536000.0], [-122.1785246, 550000.0], [-122.30460899, 385000.0], [-122.19727566, 375000.0], [-122.14543034, 562500.0], [-122.30075481, 307700.0], [-122.3776593, 457000.0], [-122.13228643, 818000.0], [-122.3751581, 585000.0], [-122.06316219, 365000.0], [-122.34837897, 660000.0], [-122.2062362, 482000.0], [-122.28847383, 303000.0], [-122.37552458, 387500.0], [-122.11812784, 291000.0], [-122.33821437, 445000.0], [-122.29267988, 666000.0], [-121.77382273, 255000.0], [-122.09223925, 873000.0], [-122.31106953, 217000.0], [-122.19032559, 305000.0], [-122.05022939, 251000.0], [-121.97083177, 852500.0], [-122.31763882, 187250.0], [-122.35977854, 579500.0], [-122.273695, 319000.0], [-122.27373575, 230000.0], [-122.05579349, 205000.0], [-122.26477343, 271920.0], [-122.19744, 157500.0], [-122.17409849, 640000.0], [-122.2539209, 406000.0], [-122.35264161, 885000.0], [-122.40956484, 380000.0], [-122.05845289, 730000.0], [-122.08995804, 588000.0], [-122.02731484, 520000.0], [-122.18601657, 550000.0], [-122.10161167, 730000.0], [-122.36790159, 215000.0], [-122.38415567, 560000.0], [-122.25872122, 485000.0], [-122.1231206, 327500.0], [-122.36263601, 309000.0], [-122.39039238, 300000.0], [-122.12585197, 928990.0], [-122.16321937, 871000.0], [-122.14538725, 475000.0], [-122.06615381, 335000.0], [-122.11220278, 839000.0], [-122.34303204, 307000.0], [-122.04299022, 368250.0], [-122.5090803, 181000.0], [-121.32487712, 160000.0], [-122.20215355, 478000.0], [-122.17556425, 315000.0], [-122.17622394, 1125000.0], [-122.21446077, 1605000.0], [-122.3698478, 270000.0], [-122.15961439, 395000.0], [-122.40609627, 290000.0], [-122.32486139, 520000.0], [-122.38354033, 550000.0], [-121.96510116, 1465000.0], [-122.11908494, 820000.0], [-122.27044621, 635000.0], [-122.34384951, 495000.0], [-122.18733823, 308000.0], [-122.28600545, 507000.0], [-122.30703961, 295000.0], [-122.23753138, 415000.0], [-122.29459399, 420000.0], [-122.38983198, 367000.0], [-122.13358751, 370000.0], [-122.19785264, 465000.0], [-122.39593377, 790000.0], [-122.29188595, 637800.0], [-122.38403427, 550000.0], [-122.29674281, 895000.0], [-122.1309087, 646000.0], [-122.22374715, 749950.0], [-122.21760317, 501000.0], [-122.29996527, 265000.0], [-122.30222749, 446800.0], [-122.01338659, 490000.0], [-122.37720696, 599950.0], [-122.19476247, 1450000.0], [-122.10551074, 832500.0], [-122.14258289, 500000.0], [-122.37114512, 218250.0], [-122.21849573, 557500.0], [-122.30245492, 248500.0], [-122.09108449, 265000.0], [-122.22064637, 459950.0], [-122.04611532, 257700.0], [-122.3642341, 575000.0], [-122.29343424, 515000.0], [-122.29219925, 320000.0], [-122.35516721, 364000.0], [-122.17915481, 259000.0], [-122.16996966, 435000.0], [-122.22227454, 825000.0], [-122.33474928, 645000.0], [-122.30251771, 242000.0], [-122.33944052, 710000.0], [-122.19877103, 465000.0], [-121.74654449, 278000.0], [-122.02058718, 275000.0], [-122.07936364, 798000.0], [-122.14301164, 327000.0], [-122.03176619, 623000.0], [-122.19084723, 730000.0], [-122.28170837, 221700.0], [-122.02506425, 889000.0], [-122.38707412, 419700.0], [-122.19054355, 280000.0], [-122.24015157, 360000.0], [-122.25726089, 259900.0], [-122.07248039, 570000.0], [-122.31942556, 348000.0], [-122.36366235, 319950.0], [-122.37262768, 609850.0], [-122.12252698, 425000.0], [-122.2663562, 359000.0], [-122.33697933, 352500.0], [-122.11844458, 525000.0], [-122.46254916, 295000.0], [-122.13014553, 406500.0], [-122.35044559, 325000.0], [-122.22260699, 111300.0], [-122.34890476, 212000.0], [-122.3748787, 468500.0], [-122.23165664, 445000.0], [-122.3271292, 465000.0], [-122.18029009, 315000.0], [-122.15527663, 581000.0], [-122.0398559, 195000.0], [-122.07284763, 554000.0], [-122.39074891, 930000.0], [-122.29720512, 622000.0], [-121.98609047, 635000.0], [-121.82709432, 286700.0], [-122.39468335, 610000.0], [-122.13972002, 450000.0], [-122.16507434, 205000.0], [-122.35552103, 499950.0], [-122.33719945, 310000.0], [-121.88265516, 388500.0], [-122.18029659, 289950.0], [-122.26985762, 220000.0], [-122.11593878, 738000.0], [-122.36412914, 275000.0], [-122.10434454, 555000.0], [-122.29596035, 975000.0], [-122.29154729, 420000.0], [-122.03849541, 1052000.0], [-122.30175524, 565000.0], [-122.16024193, 300000.0], [-122.3933085, 640000.0], [-122.30276884, 449950.0], [-122.11525652, 267500.0], [-122.30601013, 452000.0], [-121.91469941, 420000.0], [-122.30322688, 520000.0], [-122.39319166, 824000.0], [-122.17044638, 670000.0], [-122.37331383, 194000.0], [-122.17325137, 423000.0], [-122.17886998, 274700.0], [-122.14850009, 319000.0], [-122.08942009, 589950.0], [-122.39217681, 672500.0], [-122.14941747, 519000.0], [-122.26991937, 1265000.0], [-122.17291305, 565000.0], [-122.2703859, 367500.0], [-122.3676623, 749950.0], [-121.88587903, 633634.0], [-122.18186608, 230000.0], [-122.2947373, 496752.0], [-122.28112803, 429950.0], [-122.11257292, 593777.0], [-122.17874864, 402000.0], [-122.34556991, 610950.0], [-122.38549868, 299900.0], [-122.38441693, 439990.0], [-122.35924655, 260000.0], [-122.22370513, 188200.0], [-122.28352994, 184000.0], [-122.22943318, 1410000.0], [-122.37193289, 550000.0], [-122.22196403, 1150000.0], [-122.15884046, 314950.0], [-122.34362523, 340000.0], [-122.11826245, 507500.0], [-122.18769213, 310000.0], [-122.31123659, 640000.0], [-122.25893118, 160000.0], [-122.32968405, 318000.0], [-122.3993774, 604000.0], [-122.13579951, 479950.0], [-122.26262657, 480000.0], [-121.96535368, 480000.0], [-121.99872685, 478000.0], [-122.12650403, 335000.0], [-122.18439404, 455000.0], [-122.22422186, 785000.0], [-122.27858618, 175000.0], [-122.29146941, 303697.0], [-122.18602816, 365000.0], [-122.17585152, 130000.0], [-122.18778251, 321000.0], [-121.99857705, 419990.0], [-122.33441312, 504200.0], [-122.20293592, 950000.0], [-122.38662077, 500000.0], [-121.88936662, 425000.0], [-122.17409829, 657000.0], [-122.34597354, 104950.0], [-122.32147965, 485000.0], [-122.30449895, 574000.0], [-122.21166251, 1770000.0], [-122.28745504, 275000.0], [-122.33731568, 1030000.0], [-122.01361884, 555000.0], [-122.30095524, 300000.0], [-122.36905144, 880000.0], [-122.20684853, 2750000.0], [-122.04528842, 309000.0], [-122.17509659, 276900.0], [-121.80949241, 285000.0], [-122.38453053, 750000.0], [-122.35600589, 325000.0], [-122.08460061, 179000.0], [-122.37314747, 252000.0], [-122.00214573, 224000.0], [-122.20311591, 100000.0], [-122.10792367, 392000.0], [-122.26446832, 268300.0], [-122.18646824, 430000.0], [-122.22810751, 290500.0]], \"columns\": [{\"dtype\": \"str\", \"name\": \"id\"}, {\"dtype\": \"datetime\", \"name\": \"date\"}, {\"dtype\": \"float\", \"name\": \"price\"}, {\"dtype\": \"float\", \"name\": \"bedrooms\"}, {\"dtype\": \"float\", \"name\": \"bathrooms\"}, {\"dtype\": \"float\", \"name\": \"sqft_living\"}, {\"dtype\": \"int\", \"name\": \"sqft_lot\"}, {\"dtype\": \"str\", \"name\": \"floors\"}, {\"dtype\": \"int\", \"name\": \"waterfront\"}, {\"dtype\": \"int\", \"name\": \"view\"}, {\"dtype\": \"int\", \"name\": \"condition\"}, {\"dtype\": \"int\", \"name\": \"grade\"}, {\"dtype\": \"int\", \"name\": \"sqft_above\"}, {\"dtype\": \"int\", \"name\": \"sqft_basement\"}, {\"dtype\": \"int\", \"name\": \"yr_built\"}, {\"dtype\": \"int\", \"name\": \"yr_renovated\"}, {\"dtype\": \"str\", \"name\": \"zipcode\"}, {\"dtype\": \"float\", \"name\": \"lat\"}, {\"dtype\": \"float\", \"name\": \"long\"}, {\"dtype\": \"float\", \"name\": \"sqft_living15\"}, {\"dtype\": \"float\", \"name\": \"sqft_lot15\"}, {\"dtype\": \"float\", \"name\": \"bedrooms_squared\"}, {\"dtype\": \"float\", \"name\": \"bed_bath\"}, {\"dtype\": \"float\", \"name\": \"log_sqft_living\"}, {\"dtype\": \"float\", \"name\": \"lat+long\"}]}, e);\n",
       "                });\n",
       "            })();\n",
       "        "
      ]
     },
     "metadata": {},
     "output_type": "display_data"
    },
    {
     "data": {
      "application/javascript": [
       "$(\"head\").append($(\"<link/>\").attr({\n",
       "  rel:  \"stylesheet\",\n",
       "  type: \"text/css\",\n",
       "  href: \"//cdnjs.cloudflare.com/ajax/libs/font-awesome/4.1.0/css/font-awesome.min.css\"\n",
       "}));\n",
       "$(\"head\").append($(\"<link/>\").attr({\n",
       "  rel:  \"stylesheet\",\n",
       "  type: \"text/css\",\n",
       "  href: \"https://static.turi.com/products/graphlab-create/2.1/canvas/css/canvas.css\"\n",
       "}));\n",
       "\n",
       "            (function(){\n",
       "\n",
       "                var e = null;\n",
       "                if (typeof element == 'undefined') {\n",
       "                    var scripts = document.getElementsByTagName('script');\n",
       "                    var thisScriptTag = scripts[scripts.length-1];\n",
       "                    var parentDiv = thisScriptTag.parentNode;\n",
       "                    e = document.createElement('div');\n",
       "                    parentDiv.appendChild(e);\n",
       "                } else {\n",
       "                    e = element[0];\n",
       "                }\n",
       "\n",
       "                if (typeof requirejs !== 'undefined') {\n",
       "                    // disable load timeout; ipython_app.js is large and can take a while to load.\n",
       "                    requirejs.config({waitSeconds: 0});\n",
       "                }\n",
       "\n",
       "                require(['https://static.turi.com/products/graphlab-create/2.1/canvas/js/ipython_app.js'], function(IPythonApp){\n",
       "                    var app = new IPythonApp();\n",
       "                    app.attachView('sframe','Plots', {\"selected_variable\": {\"name\": [\"train_data\"], \"descriptives\": {\"rows\": 17384, \"columns\": 25}, \"view_component\": \"Plots\", \"view_file\": \"sframe\", \"view_params\": {\"y\": \"price\", \"x\": \"lat\", \"columns\": [\"id\", \"date\", \"price\", \"bedrooms\", \"bathrooms\", \"sqft_living\", \"sqft_lot\", \"floors\", \"waterfront\", \"view\", \"condition\", \"grade\", \"sqft_above\", \"sqft_basement\", \"yr_built\", \"yr_renovated\", \"zipcode\", \"lat\", \"long\", \"sqft_living15\", \"sqft_lot15\", \"bedrooms_squared\", \"bed_bath\", \"log_sqft_living\", \"lat+long\"], \"view\": \"Scatter Plot\"}, \"view_components\": [\"Summary\", \"Table\", \"Bar Chart\", \"BoxWhisker Plot\", \"Line Chart\", \"Scatter Plot\", \"Heat Map\", \"Plots\"], \"type\": \"SFrame\", \"columns\": [{\"dtype\": \"str\", \"name\": \"id\"}, {\"dtype\": \"datetime\", \"name\": \"date\"}, {\"dtype\": \"float\", \"name\": \"price\"}, {\"dtype\": \"float\", \"name\": \"bedrooms\"}, {\"dtype\": \"float\", \"name\": \"bathrooms\"}, {\"dtype\": \"float\", \"name\": \"sqft_living\"}, {\"dtype\": \"int\", \"name\": \"sqft_lot\"}, {\"dtype\": \"str\", \"name\": \"floors\"}, {\"dtype\": \"int\", \"name\": \"waterfront\"}, {\"dtype\": \"int\", \"name\": \"view\"}, {\"dtype\": \"int\", \"name\": \"condition\"}, {\"dtype\": \"int\", \"name\": \"grade\"}, {\"dtype\": \"int\", \"name\": \"sqft_above\"}, {\"dtype\": \"int\", \"name\": \"sqft_basement\"}, {\"dtype\": \"int\", \"name\": \"yr_built\"}, {\"dtype\": \"int\", \"name\": \"yr_renovated\"}, {\"dtype\": \"str\", \"name\": \"zipcode\"}, {\"dtype\": \"float\", \"name\": \"lat\"}, {\"dtype\": \"float\", \"name\": \"long\"}, {\"dtype\": \"float\", \"name\": \"sqft_living15\"}, {\"dtype\": \"float\", \"name\": \"sqft_lot15\"}, {\"dtype\": \"float\", \"name\": \"bedrooms_squared\"}, {\"dtype\": \"float\", \"name\": \"bed_bath\"}, {\"dtype\": \"float\", \"name\": \"log_sqft_living\"}, {\"dtype\": \"float\", \"name\": \"lat+long\"}], \"column_identifiers\": [\"bathrooms\", \"sqft_above\", \"grade\", \"lat+long\", \"lat\", \"floors\", \"bedrooms_squared\", \"yr_renovated\", \"id\", \"zipcode\", \"long\", \"log_sqft_living\", \"sqft_basement\", \"yr_built\", \"sqft_lot\", \"sqft_lot15\", \"price\", \"bedrooms\", \"date\", \"bed_bath\", \"condition\", \"waterfront\", \"sqft_living15\", \"sqft_living\", \"view\"]}, \"complete\": 1, \"ipython\": true, \"progress\": 1.0, \"data\": [[47.36686029, 288000.0], [47.60779855, 785000.0], [47.31725865, 232603.0], [47.38290294, 220000.0], [47.6771714, 782000.0], [47.56910663, 500000.0], [47.61472418, 260000.0], [47.7631717, 697000.0], [47.56832318, 620000.0], [47.36840673, 323000.0], [47.54868993, 599950.0], [47.64126579, 990000.0], [47.64244558, 850000.0], [47.33637823, 190000.0], [47.55987164, 850000.0], [47.30611286, 282000.0], [47.70890654, 692500.0], [47.61930514, 675000.0], [47.7568231, 565000.0], [47.68192335, 615500.0], [47.38010891, 215000.0], [47.67888927, 772000.0], [47.19441212, 277500.0], [47.69011206, 487000.0], [47.49783867, 275000.0], [47.54515491, 561000.0], [47.62138574, 503000.0], [47.50128976, 360000.0], [47.30982821, 288000.0], [47.67268978, 489000.0], [47.71423916, 390000.0], [47.53598439, 942500.0], [47.52832509, 235000.0], [47.33413014, 240000.0], [47.61118381, 430000.0], [47.39815515, 351000.0], [47.69548156, 587500.0], [47.5418989, 365000.0], [47.43458031, 295000.0], [47.54074513, 345000.0], [47.28987575, 208000.0], [47.6750992, 860000.0], [47.53594292, 875000.0], [47.5973965, 695000.0], [47.77297008, 493000.0], [47.63218248, 650000.0], [47.64417265, 834500.0], [47.62362335, 610000.0], [47.6223532, 500000.0], [47.48152664, 585000.0], [47.42480113, 419000.0], [47.61575559, 890000.0], [47.77744884, 395000.0], [47.50512013, 256000.0], [47.68933682, 565000.0], [47.68536882, 820000.0], [47.5293087, 435010.0], [47.37312629, 385000.0], [47.75092427, 458000.0], [47.61985454, 695000.0], [47.32794721, 359999.0], [47.44860533, 330000.0], [47.72488577, 442500.0], [47.74279933, 467000.0], [47.63260527, 434900.0], [47.54817459, 347000.0], [47.62117725, 635000.0], [47.47634859, 199000.0], [47.53962247, 569000.0], [47.73821435, 440000.0], [47.73160913, 600000.0], [47.67278746, 624000.0], [47.72641675, 315000.0], [47.49510061, 390000.0], [47.7304554, 434000.0], [47.68052679, 1165000.0], [47.72179866, 495000.0], [47.67182855, 590000.0], [47.43421672, 225000.0], [47.68520468, 899900.0], [47.69703415, 614306.0], [47.6902202, 545000.0], [47.41269968, 579000.0], [47.68234622, 403000.0], [47.3233877, 207500.0], [47.53551579, 561000.0], [47.33474855, 345000.0], [47.54481674, 445000.0], [47.25821789, 274950.0], [47.47487832, 218450.0], [47.46830443, 390000.0], [47.71144204, 800000.0], [47.27027101, 310000.0], [47.62727158, 550000.0], [47.59163603, 710000.0], [47.50220722, 294570.0], [47.53329491, 700000.0], [47.36240953, 272500.0], [47.65667892, 920000.0], [47.45351422, 368000.0], [47.74335844, 446000.0], [47.56111303, 415000.0], [47.53040433, 713000.0], [47.56291976, 395000.0], [47.49725936, 265000.0], [47.46882217, 518000.0], [47.53172946, 358000.0], [47.74166523, 350000.0], [47.61406372, 1450000.0], [47.34557399, 239999.0], [47.49317591, 110000.0], [47.49589271, 505000.0], [47.38451276, 402000.0], [47.47242372, 508000.0], [47.51327062, 249000.0], [47.68225944, 424950.0], [47.66074608, 774000.0], [47.27914046, 225000.0], [47.44997833, 249000.0], [47.66660593, 667000.0], [47.6041658, 589000.0], [47.62456191, 898000.0], [47.30350811, 233000.0], [47.77314041, 699000.0], [47.69629389, 416000.0], [47.77697483, 339000.0], [47.54178487, 300000.0], [47.56829863, 719521.0], [47.74013671, 284000.0], [47.40357885, 223000.0], [47.52741409, 615000.0], [47.57473643, 495000.0], [47.67706298, 455500.0], [47.75613497, 1680000.0], [47.39652438, 240000.0], [47.35253484, 775000.0], [47.61726259, 949990.0], [47.61147874, 548000.0], [47.72857816, 431000.0], [47.73060074, 321000.0], [47.70779681, 547000.0], [47.7218764, 475000.0], [47.29704684, 329950.0], [47.69498026, 695000.0], [47.37834373, 630000.0], [47.67602557, 1100000.0], [47.66878535, 602000.0], [47.67727749, 490000.0], [47.44318998, 230000.0], [47.55322241, 465000.0], [47.68277767, 778000.0], [47.63742724, 2890000.0], [47.7297158, 443000.0], [47.70853588, 518000.0], [47.38481924, 163500.0], [47.64430857, 640000.0], [47.55707753, 565000.0], [47.6470579, 700000.0], [47.53000006, 699950.0], [47.40843244, 365000.0], [47.47499019, 499950.0], [47.59056855, 750000.0], [47.57532012, 341000.0], [47.58867141, 472500.0], [47.64117712, 727000.0], [47.5119212, 265000.0], [47.4574005, 260000.0], [47.67903362, 400000.0], [47.38714419, 265000.0], [47.54463665, 690000.0], [47.49685408, 639983.0], [47.71123326, 695000.0], [47.67415363, 767250.0], [47.69069459, 399995.0], [47.35950043, 340000.0], [47.68288854, 330600.0], [47.70668835, 464000.0], [47.7312645, 315000.0], [47.57950205, 2095000.0], [47.4108705, 368000.0], [47.44592606, 375000.0], [47.70970474, 637000.0], [47.35603037, 425000.0], [47.58622978, 1610000.0], [47.39107995, 172040.0], [47.63026052, 633100.0], [47.58363406, 686000.0], [47.59146497, 641000.0], [47.69767287, 495000.0], [47.58107425, 725000.0], [47.66207234, 790000.0], [47.73328616, 429900.0], [47.45097774, 249000.0], [47.66926336, 861000.0], [47.67402455, 510000.0], [47.75450605, 344900.0], [47.36937847, 249900.0], [47.61865878, 359950.0], [47.361177, 275000.0], [47.44658089, 554820.0], [47.55945882, 589000.0], [47.68189255, 750000.0], [47.31725448, 225000.0], [47.62176473, 641200.0], [47.72279885, 500000.0], [47.32207374, 225000.0], [47.69359082, 1789950.0], [47.30764198, 363000.0], [47.74061661, 734000.0], [47.74900809, 430000.0], [47.54741257, 431000.0], [47.54004509, 740000.0], [47.34667119, 225000.0], [47.40119144, 350000.0], [47.60759158, 676000.0], [47.59644001, 1987500.0], [47.39908719, 267500.0], [47.68918945, 588000.0], [47.28477721, 364988.0], [47.44851494, 255000.0], [47.278148, 139950.0], [47.67959852, 510000.0], [47.59639228, 425000.0], [47.56511015, 1298000.0], [47.73484054, 285650.0], [47.68281942, 615000.0], [47.67842138, 663500.0], [47.42568415, 265000.0], [47.63656838, 425000.0], [47.6271789, 657500.0], [47.77562003, 339950.0], [47.62953203, 2250000.0], [47.37431027, 695000.0], [47.37221205, 380000.0], [47.48506568, 225000.0], [47.76267221, 401500.0], [47.39536553, 204000.0], [47.31093497, 449500.0], [47.73102314, 451000.0], [47.69253943, 399950.0], [47.5460513, 675000.0], [47.68970977, 445000.0], [47.57329486, 760000.0], [47.53175773, 730100.0], [47.57552394, 725000.0], [47.69888756, 600000.0], [47.54222803, 625000.0], [47.44233377, 392000.0], [47.31744768, 225000.0], [47.53780444, 399950.0], [47.49134057, 315000.0], [47.67013572, 390000.0], [47.62579345, 507000.0], [47.47491455, 314000.0], [47.4769609, 439950.0], [47.30302493, 196500.0], [47.63200813, 1445000.0], [47.74933283, 450000.0], [47.54133766, 299000.0], [47.52901552, 201000.0], [47.25838095, 345000.0], [47.37456008, 225205.0], [47.62294592, 605000.0], [47.72811897, 431000.0], [47.30405469, 335000.0], [47.50398781, 562000.0], [47.33585985, 415000.0], [47.36936925, 470000.0], [47.58065066, 569950.0], [47.59204031, 786000.0], [47.48223515, 200000.0], [47.60652037, 553000.0], [47.63890784, 515000.0], [47.40317216, 500000.0], [47.4986796, 82000.0], [47.69970196, 362500.0], [47.65886659, 585000.0], [47.28396299, 268000.0], [47.66514338, 490000.0], [47.60489339, 618000.0], [47.42444563, 379000.0], [47.34377994, 375000.0], [47.72527781, 991500.0], [47.44224648, 390000.0], [47.76277581, 375000.0], [47.5371736, 243800.0], [47.62135835, 405000.0], [47.70502953, 220000.0], [47.73010556, 330000.0], [47.37752374, 230000.0], [47.38764568, 249900.0], [47.71130024, 560000.0], [47.69034533, 515000.0], [47.69427924, 775000.0], [47.48529093, 465000.0], [47.68497445, 963990.0], [47.59966078, 465000.0], [47.63356502, 1034500.0], [47.478571, 542525.0], [47.75046656, 869000.0], [47.622707, 1190000.0], [47.47424615, 255000.0], [47.36053576, 300000.0], [47.3384953, 198000.0], [47.43315754, 330000.0], [47.70471961, 410000.0], [47.42388259, 665000.0], [47.31076724, 260000.0], [47.6632957, 530000.0], [47.67689867, 400000.0], [47.25576358, 250000.0], [47.72144692, 1085000.0], [47.77199779, 385000.0], [47.6443763, 1544500.0], [47.66909366, 679000.0], [47.72567763, 317000.0], [47.34377051, 379750.0], [47.73779364, 287000.0], [47.61957489, 831000.0], [47.53421761, 409316.0], [47.51597775, 412500.0], [47.55225014, 230000.0], [47.59265667, 1150000.0], [47.31027646, 335000.0], [47.65494812, 575000.0], [47.62470152, 813000.0], [47.34675037, 205000.0], [47.26421904, 799950.0], [47.48275973, 482000.0], [47.63488122, 1419000.0], [47.73102519, 329950.0], [47.5363505, 937500.0], [47.63874854, 1900000.0], [47.53372218, 469000.0], [47.68868548, 577000.0], [47.5878585, 398000.0], [47.61662328, 1262000.0], [47.57285103, 270000.0], [47.73886375, 237500.0], [47.72453515, 397000.0], [47.67352606, 469000.0], [47.71765158, 729000.0], [47.55866218, 430000.0], [47.4919832, 187000.0], [47.31035059, 268000.0], [47.77621791, 400000.0], [47.53423068, 310000.0], [47.5552345, 491000.0], [47.39271753, 270000.0], [47.26740333, 280000.0], [47.49693409, 340000.0], [47.68725376, 393820.0], [47.66079823, 354000.0], [47.5280112, 1200000.0], [47.63672793, 716000.0], [47.30752717, 184000.0], [47.32587964, 359950.0], [47.61417168, 903000.0], [47.46487055, 440000.0], [47.37355695, 274000.0], [47.59230187, 449000.0], [47.69041623, 331000.0], [47.74467811, 435000.0], [47.63704921, 783200.0], [47.49131099, 392000.0], [47.73489635, 343000.0], [47.50559555, 349170.0], [47.33051642, 359500.0], [47.72029168, 453000.0], [47.64994341, 80000.0], [47.73107344, 465000.0], [47.2683512, 342000.0], [47.73840107, 357000.0], [47.77420154, 434975.0], [47.59026641, 580000.0], [47.68582813, 588000.0], [47.64843471, 809950.0], [47.69812377, 415000.0], [47.56943063, 610000.0], [47.56941346, 500000.0], [47.70006418, 486700.0], [47.66237253, 1500000.0], [47.72450776, 468000.0], [47.56134564, 660000.0], [47.3834775, 350000.0], [47.66223424, 925000.0], [47.56169836, 668500.0], [47.15932775, 687000.0], [47.56452893, 1280000.0], [47.60212548, 448175.0], [47.6285186, 2479000.0], [47.71930506, 397500.0], [47.48172628, 295500.0], [47.68386805, 409950.0], [47.66924045, 765000.0], [47.51975627, 250000.0], [47.54020054, 743000.0], [47.70147607, 490000.0], [47.63964643, 720000.0], [47.61876056, 600000.0], [47.72776219, 485000.0], [47.73158154, 600000.0], [47.65057586, 580000.0], [47.69121733, 430000.0], [47.77344386, 525000.0], [47.56829863, 481000.0], [47.33640314, 309933.0], [47.37321321, 180000.0], [47.68058236, 635000.0], [47.67341156, 750000.0], [47.69029652, 390000.0], [47.49727796, 190000.0], [47.76197082, 180000.0], [47.4667007, 235000.0], [47.64815371, 625000.0], [47.63523355, 1625000.0], [47.19372313, 272950.0], [47.74263907, 620000.0], [47.38228411, 340000.0], [47.49042812, 395000.0], [47.29511555, 115000.0], [47.74992312, 535500.0], [47.67193409, 405000.0], [47.67651103, 525000.0], [47.65816772, 595000.0], [47.57071368, 1839900.0], [47.67307838, 910000.0], [47.42214421, 389950.0], [47.69135281, 450000.0], [47.71967592, 910000.0], [47.35060938, 379900.0], [47.74015313, 415000.0], [47.5900095, 593700.0], [47.50949723, 311000.0], [47.5884629, 705000.0], [47.74547992, 520000.0], [47.68716502, 355000.0], [47.7039534, 659000.0], [47.58146928, 1250000.0], [47.35505948, 300000.0], [47.32990001, 280000.0], [47.6772382, 1050000.0], [47.29530604, 404950.0], [47.55815883, 550000.0], [47.68159921, 635000.0], [47.65025377, 554729.0], [47.30576415, 359000.0], [47.56560103, 643500.0], [47.75239787, 350000.0], [47.73744842, 515000.0], [47.6359652, 625000.0], [47.6818774, 570000.0], [47.36034178, 282500.0], [47.33791817, 810000.0], [47.45774962, 225000.0], [47.67570134, 555000.0], [47.30621898, 180000.0], [47.7379344, 535000.0], [47.7317494, 559950.0], [47.6348103, 485000.0], [47.45099568, 440000.0], [47.60621424, 550000.0], [47.56644243, 380000.0], [47.67968666, 889000.0], [47.44139426, 345000.0], [47.54884921, 869000.0], [47.48308262, 447000.0], [47.72089203, 689800.0], [47.58574623, 649000.0], [47.67332709, 551000.0], [47.56965297, 499950.0], [47.65004617, 640000.0], [47.73369176, 310000.0], [47.70416133, 449250.0], [47.5582697, 490000.0], [47.32012214, 128000.0], [47.77397099, 615000.0], [47.63638354, 625000.0], [47.31851527, 420000.0], [47.65989583, 749000.0], [47.45031752, 270000.0], [47.63724837, 650000.0], [47.44964158, 364950.0], [47.59000664, 2298000.0], [47.55587371, 870000.0], [47.69006916, 475000.0], [47.6340129, 2200000.0], [47.51495255, 348140.0], [47.31277837, 210000.0], [47.31962412, 286000.0], [47.70892479, 432100.0], [47.37809668, 250000.0], [47.65029228, 758000.0], [47.60188668, 485000.0], [47.49604722, 289500.0], [47.35609649, 349990.0], [47.30029808, 139000.0], [47.58655658, 1075000.0], [47.67888869, 635500.0], [47.6589607, 1295000.0], [47.63805799, 438000.0], [47.69353752, 507000.0], [47.38168975, 180500.0], [47.32206327, 214000.0], [47.32931911, 420000.0], [47.52767303, 480000.0], [47.76849552, 625000.0], [47.44839213, 325000.0], [47.63028679, 3065000.0], [47.62029648, 400000.0], [47.65823604, 990000.0], [47.67795698, 475000.0], [47.25991166, 313000.0], [47.35032695, 291500.0], [47.5281324, 312000.0], [47.73463605, 408000.0], [47.49112645, 259000.0], [47.28727128, 205000.0], [47.19665119, 369000.0], [47.74081823, 350000.0], [47.35417254, 432000.0], [47.76867966, 330000.0], [47.68182731, 630000.0], [47.58727089, 1155000.0], [47.70524841, 1550000.0], [47.68424771, 350000.0], [47.54455007, 635000.0], [47.73170885, 364500.0], [47.63588048, 525000.0], [47.4909086, 324950.0], [47.54326544, 390000.0], [47.35154826, 378000.0], [47.51581907, 325000.0], [47.30447361, 285000.0], [47.70929029, 477000.0], [47.66397028, 753000.0], [47.4342368, 360000.0], [47.37618361, 381500.0], [47.58701535, 1425000.0], [47.71989968, 381000.0], [47.64826467, 1008000.0], [47.32010119, 245000.0], [47.55761945, 515000.0], [47.50398059, 360000.0], [47.66100465, 480000.0], [47.54405571, 507000.0], [47.53967732, 345000.0], [47.37689532, 340000.0], [47.49376126, 178000.0], [47.56759417, 610000.0], [47.72625945, 515000.0], [47.42600991, 287000.0], [47.5397953, 1140000.0], [47.5896913, 472000.0], [47.65688168, 1690000.0], [47.66961941, 519000.0], [47.73165613, 325000.0], [47.73090587, 395000.0], [47.38951505, 574000.0], [47.63078613, 1555000.0], [47.59495146, 870000.0], [47.69556182, 520000.0], [47.38872663, 260000.0], [47.26988296, 183500.0], [47.67855762, 628000.0], [47.6284796, 639000.0], [47.49789641, 235000.0], [47.2207367, 397000.0], [47.41984896, 267500.0], [47.58141706, 675000.0], [47.48515091, 220000.0], [47.59816132, 750000.0], [47.42111665, 246500.0], [47.31244028, 359000.0], [47.26501657, 383150.0], [47.58665891, 810000.0], [47.68861715, 698000.0], [47.685703, 549000.0], [47.66619656, 637250.0], [47.71494709, 1122500.0], [47.54956581, 311000.0], [47.31013447, 200000.0], [47.29059981, 265000.0], [47.36744557, 365000.0], [47.30039877, 270000.0], [47.60325693, 397500.0], [47.47887922, 335000.0], [47.67549585, 529950.0], [47.46143094, 435000.0], [47.72597919, 520000.0], [47.68457853, 667000.0], [47.54214274, 395000.0], [47.76771453, 389000.0], [47.31861221, 321027.0], [47.70853631, 705000.0], [47.48832089, 285000.0], [47.62365248, 945000.0], [47.68047854, 575000.0], [47.68993318, 525000.0], [47.76982912, 460000.0], [47.55505058, 465000.0], [47.53568546, 343000.0], [47.62160578, 560000.0], [47.29501547, 315000.0], [47.52033515, 480000.0], [47.66622933, 492000.0], [47.70490455, 932990.0], [47.60417728, 3278000.0], [47.55299493, 648000.0], [47.67971659, 450000.0], [47.48023828, 269950.0], [47.52736832, 357000.0], [47.54341468, 500000.0], [47.33419837, 357500.0], [47.47496152, 305000.0], [47.62089677, 1650000.0], [47.38623511, 266750.0], [47.32574259, 339999.0], [47.31085886, 218000.0], [47.36292704, 275000.0], [47.56213075, 415000.0], [47.72607829, 525000.0], [47.5008177, 490000.0], [47.30238252, 178000.0], [47.43376964, 345000.0], [47.43836584, 925000.0], [47.62517982, 735000.0], [47.48375742, 499990.0], [47.66034076, 411000.0], [47.67215019, 705000.0], [47.42788629, 339950.0], [47.38929633, 372000.0], [47.70838827, 775000.0], [47.53523602, 399950.0], [47.7368462, 402000.0], [47.7464174, 675000.0], [47.74562469, 373000.0], [47.32141121, 272000.0], [47.27035612, 418200.0], [47.5576368, 570000.0], [47.56022639, 2400000.0], [47.63640397, 707000.0], [47.33255492, 255000.0], [47.68779421, 605000.0], [47.71316994, 500000.0], [47.25971124, 325000.0], [47.6451868, 1440000.0], [47.60245211, 630000.0], [47.53847053, 269000.0], [47.2558401, 305000.0], [47.58000061, 745000.0], [47.71875872, 240000.0], [47.70460395, 899000.0], [47.6825687, 650000.0], [47.52453269, 295000.0], [47.43369216, 235000.0], [47.32168688, 279950.0], [47.69527339, 805000.0], [47.61334449, 858000.0], [47.63476687, 691000.0], [47.71764972, 419950.0], [47.54597657, 815000.0], [47.63310991, 546500.0], [47.65450588, 800000.0], [47.54687157, 302860.0], [47.53326489, 389950.0], [47.55239064, 680000.0], [47.68663858, 450500.0], [47.68152015, 535000.0], [47.69203736, 687500.0], [47.30085206, 498000.0], [47.73358453, 482000.0], [47.57377646, 496600.0], [47.69987355, 375000.0], [47.738433, 620000.0], [47.73543286, 490000.0], [47.48290582, 370500.0], [47.31852085, 215000.0], [47.48097248, 255000.0], [47.53808836, 452500.0], [47.50647182, 156000.0], [47.55001874, 361280.0], [47.73526149, 550000.0], [47.26575067, 280000.0], [47.58717311, 549800.0], [47.50444276, 300000.0], [47.68456447, 635000.0], [47.65690679, 1250000.0], [47.59623148, 642450.0], [47.58114088, 2050000.0], [47.68664997, 429000.0], [47.64583433, 443500.0], [47.56112515, 860000.0], [47.63671626, 1169000.0], [47.43227661, 272450.0], [47.35860875, 229000.0], [47.47829125, 235000.0], [47.7004325, 414900.0], [47.70455112, 534950.0], [47.56880732, 577288.0], [47.19557452, 279000.0], [47.5128249, 308000.0], [47.37961699, 291000.0], [47.35602363, 370000.0], [47.52792809, 174900.0], [47.55114331, 1785000.0], [47.61343433, 715000.0], [47.74940373, 250000.0], [47.69161501, 730000.0], [47.67085061, 672324.0], [47.20556509, 240000.0], [47.51372118, 413900.0], [47.65385569, 586500.0], [47.54919296, 200000.0], [47.4614115, 300000.0], [47.63747938, 726000.0], [47.74540813, 455000.0], [47.5202008, 430000.0], [47.34996119, 330000.0], [47.3574246, 770000.0], [47.7054788, 355000.0], [47.38329919, 270000.0], [47.63650572, 840500.0], [47.61089438, 1160000.0], [47.72264214, 415000.0], [47.74667531, 625000.0], [47.44831333, 458000.0], [47.56703186, 750000.0], [47.45992985, 290000.0], [47.60495733, 515000.0], [47.52563475, 575000.0], [47.74310217, 880000.0], [47.54633976, 789888.0], [47.64186945, 740000.0], [47.6322243, 610000.0], [47.69949246, 1490000.0], [47.73659757, 460000.0], [47.67535459, 600000.0], [47.6940426, 529100.0], [47.52318442, 600000.0], [47.55486181, 385000.0], [47.33518225, 321000.0], [47.4286026, 370000.0], [47.57745866, 575000.0], [47.66525447, 565000.0], [47.73934501, 420000.0], [47.25991383, 329995.0], [47.57059265, 960000.0], [47.70011055, 495000.0], [47.74103809, 650000.0], [47.52997902, 599000.0], [47.6856961, 810000.0], [47.59166554, 825000.0], [47.38160284, 199000.0], [47.70123174, 601000.0], [47.64998172, 815000.0], [47.73470661, 334000.0], [47.74708818, 383900.0], [47.52263796, 395000.0], [47.52884205, 360000.0], [47.33784128, 210000.0], [47.62204205, 1450000.0], [47.60735835, 787000.0], [47.55026993, 602000.0], [47.74098108, 331292.0], [47.39781267, 386000.0], [47.60602842, 592500.0], [47.54767039, 394950.0], [47.53822085, 590000.0], [47.47803198, 324450.0], [47.27925402, 329950.0], [47.63907156, 605000.0], [47.35420751, 419000.0], [47.71118954, 400000.0], [47.68743352, 350000.0], [47.68465248, 895990.0], [47.67549866, 576250.0], [47.65672383, 557800.0], [47.34836804, 269950.0], [47.63072368, 615000.0], [47.73365314, 385000.0], [47.40204331, 314000.0], [47.54344611, 815000.0], [47.42944913, 755000.0], [47.76731016, 405000.0], [47.19372865, 325000.0], [47.5816003, 585444.0], [47.33836419, 306000.0], [47.5035907, 1410000.0], [47.75074113, 450000.0], [47.68325444, 415000.0], [47.64630142, 1225000.0], [47.67912332, 1000000.0], [47.6396067, 588000.0], [47.35647391, 358000.0], [47.70952889, 818000.0], [47.32252402, 289000.0], [47.53194056, 1050000.0], [47.65805761, 550000.0], [47.52428759, 539950.0], [47.5646136, 1038000.0], [47.68067386, 563000.0], [47.56657137, 490000.0], [47.52191997, 750000.0], [47.59263881, 450000.0], [47.71394451, 375000.0], [47.41195543, 800000.0], [47.61362557, 670000.0], [47.37190138, 300000.0], [47.52421908, 439900.0], [47.74215688, 316000.0], [47.51297233, 320000.0], [47.27518419, 429900.0], [47.6212619, 500000.0], [47.76749931, 284900.0], [47.73208894, 455000.0], [47.40884847, 503000.0], [47.53998342, 425000.0], [47.3374704, 234950.0], [47.37792407, 176000.0], [47.33607696, 515000.0], [47.55908053, 1550000.0], [47.60735862, 404000.0], [47.53107956, 316500.0], [47.50914707, 320000.0], [47.75180727, 328000.0], [47.46968595, 268950.0], [47.3811848, 267000.0], [47.43745961, 890000.0], [47.73349294, 385000.0], [47.63444365, 583000.0], [47.55930262, 800000.0], [47.60753416, 610000.0], [47.5478739, 402000.0], [47.58314996, 1400000.0], [47.68013203, 747000.0], [47.53816125, 600000.0], [47.63116318, 1802750.0], [47.35149884, 310000.0], [47.39415713, 344900.0], [47.33305608, 199000.0], [47.74008041, 480000.0], [47.7479182, 979500.0], [47.51534785, 544999.0], [47.71698201, 440000.0], [47.53513902, 285000.0], [47.34865501, 375000.0], [47.44872101, 462000.0], [47.49221758, 579950.0], [47.77107063, 949000.0], [47.68269827, 369950.0], [47.70975517, 205000.0], [47.68519724, 481450.0], [47.6466617, 784000.0], [47.55557262, 320000.0], [47.29254436, 549900.0], [47.36723736, 279900.0], [47.67919062, 707900.0], [47.55875643, 762400.0], [47.52930128, 305000.0], [47.50200128, 825000.0], [47.61220366, 580000.0], [47.5850689, 645000.0], [47.19830174, 224500.0], [47.32623334, 269000.0], [47.61307265, 552000.0], [47.72590614, 699000.0], [47.56864638, 590000.0], [47.45578479, 2510000.0], [47.6930551, 520000.0], [47.74199932, 305000.0], [47.48478753, 194000.0], [47.67906131, 850000.0], [47.44585685, 355000.0], [47.57674229, 648752.0], [47.46446842, 350000.0], [47.66307648, 543000.0], [47.53843554, 410000.0], [47.61833835, 581000.0], [47.49807885, 350000.0], [47.39250022, 255000.0], [47.41547627, 452500.0], [47.68093246, 665000.0], [47.55095611, 325000.0], [47.60542685, 525000.0], [47.52598681, 1250000.0], [47.65115089, 565000.0], [47.49430524, 220000.0], [47.67125249, 550000.0], [47.70103833, 367000.0], [47.58302528, 659000.0], [47.55565052, 975000.0], [47.33229471, 390000.0], [47.50966813, 255000.0], [47.72650427, 324950.0], [47.36913694, 293000.0], [47.45741985, 775000.0], [47.70163007, 780000.0], [47.65116141, 705000.0], [47.4497035, 255500.0], [47.56548362, 635000.0], [47.33330613, 476000.0], [47.46425491, 307000.0], [47.33849044, 360000.0], [47.68970876, 535000.0], [47.66689548, 716125.0], [47.59162797, 620000.0], [47.30543175, 235000.0], [47.76425334, 380000.0], [47.35902188, 286000.0], [47.61108369, 651000.0], [47.52693137, 1335000.0], [47.39838643, 525000.0], [47.71476556, 415000.0], [47.64915317, 490000.0], [47.33703205, 460000.0], [47.54203467, 389000.0], [47.66643055, 930800.0], [47.39186, 305000.0], [47.51745731, 500000.0], [47.45261025, 280000.0], [47.56579674, 625000.0], [47.50493391, 424950.0], [47.54426113, 341000.0], [47.71861723, 245000.0], [47.5671717, 625000.0], [47.52581262, 350000.0], [47.48293941, 265000.0], [47.56109948, 235000.0], [47.5898245, 615000.0], [47.65027636, 824000.0], [47.61078726, 640000.0], [47.32292222, 219000.0], [47.5398535, 675000.0], [47.49473365, 230000.0], [47.53881293, 589000.0], [47.64976002, 626000.0], [47.38090186, 332000.0], [47.77355493, 399950.0], [47.68682423, 440500.0], [47.20886043, 329990.0], [47.67287234, 540000.0], [47.29531817, 453000.0], [47.44294821, 320000.0], [47.68958707, 559000.0], [47.63791623, 2225000.0], [47.43245073, 220000.0], [47.61776066, 922755.0], [47.38109416, 357000.0], [47.43182151, 360000.0], [47.43184805, 239975.0], [47.51220536, 329000.0], [47.66762914, 1237500.0], [47.38885458, 292500.0], [47.67462505, 655100.0], [47.36381619, 215000.0], [47.35235755, 386000.0], [47.62540051, 553650.0], [47.56460748, 459900.0], [47.72612971, 650000.0], [47.56413508, 1030000.0], [47.57611953, 1610000.0], [47.67538076, 705000.0], [47.7484341, 500000.0], [47.35939152, 284000.0], [47.54931054, 575000.0], [47.6771241, 818900.0], [47.28813164, 212000.0], [47.64519886, 800000.0], [47.54176753, 224000.0], [47.3651335, 230000.0], [47.45980453, 465000.0], [47.76043368, 347000.0], [47.56196176, 680000.0], [47.59994075, 1050000.0], [47.30782172, 280500.0], [47.73751519, 460000.0], [47.74780431, 510000.0], [47.55235375, 413565.0], [47.69258501, 450000.0], [47.48575588, 915000.0], [47.71913288, 559000.0], [47.57549039, 602500.0], [47.68609169, 650000.0], [47.75201463, 374150.0], [47.54203265, 243500.0], [47.49382782, 315000.0], [47.66805026, 460000.0], [47.66238052, 580000.0], [47.73965903, 485000.0], [47.68903131, 799900.0], [47.5530714, 311000.0], [47.47357561, 545000.0], [47.65113092, 567500.0], [47.70382711, 335000.0], [47.67369925, 567000.0], [47.25841015, 355000.0], [47.67596579, 465000.0], [47.51502254, 165000.0], [47.64795093, 547000.0]], \"columns\": [{\"dtype\": \"str\", \"name\": \"id\"}, {\"dtype\": \"datetime\", \"name\": \"date\"}, {\"dtype\": \"float\", \"name\": \"price\"}, {\"dtype\": \"float\", \"name\": \"bedrooms\"}, {\"dtype\": \"float\", \"name\": \"bathrooms\"}, {\"dtype\": \"float\", \"name\": \"sqft_living\"}, {\"dtype\": \"int\", \"name\": \"sqft_lot\"}, {\"dtype\": \"str\", \"name\": \"floors\"}, {\"dtype\": \"int\", \"name\": \"waterfront\"}, {\"dtype\": \"int\", \"name\": \"view\"}, {\"dtype\": \"int\", \"name\": \"condition\"}, {\"dtype\": \"int\", \"name\": \"grade\"}, {\"dtype\": \"int\", \"name\": \"sqft_above\"}, {\"dtype\": \"int\", \"name\": \"sqft_basement\"}, {\"dtype\": \"int\", \"name\": \"yr_built\"}, {\"dtype\": \"int\", \"name\": \"yr_renovated\"}, {\"dtype\": \"str\", \"name\": \"zipcode\"}, {\"dtype\": \"float\", \"name\": \"lat\"}, {\"dtype\": \"float\", \"name\": \"long\"}, {\"dtype\": \"float\", \"name\": \"sqft_living15\"}, {\"dtype\": \"float\", \"name\": \"sqft_lot15\"}, {\"dtype\": \"float\", \"name\": \"bedrooms_squared\"}, {\"dtype\": \"float\", \"name\": \"bed_bath\"}, {\"dtype\": \"float\", \"name\": \"log_sqft_living\"}, {\"dtype\": \"float\", \"name\": \"lat+long\"}]}, e);\n",
       "                });\n",
       "            })();\n",
       "        "
      ]
     },
     "metadata": {},
     "output_type": "display_data"
    },
    {
     "data": {
      "application/javascript": [
       "$(\"head\").append($(\"<link/>\").attr({\n",
       "  rel:  \"stylesheet\",\n",
       "  type: \"text/css\",\n",
       "  href: \"//cdnjs.cloudflare.com/ajax/libs/font-awesome/4.1.0/css/font-awesome.min.css\"\n",
       "}));\n",
       "$(\"head\").append($(\"<link/>\").attr({\n",
       "  rel:  \"stylesheet\",\n",
       "  type: \"text/css\",\n",
       "  href: \"https://static.turi.com/products/graphlab-create/2.1/canvas/css/canvas.css\"\n",
       "}));\n",
       "\n",
       "            (function(){\n",
       "\n",
       "                var e = null;\n",
       "                if (typeof element == 'undefined') {\n",
       "                    var scripts = document.getElementsByTagName('script');\n",
       "                    var thisScriptTag = scripts[scripts.length-1];\n",
       "                    var parentDiv = thisScriptTag.parentNode;\n",
       "                    e = document.createElement('div');\n",
       "                    parentDiv.appendChild(e);\n",
       "                } else {\n",
       "                    e = element[0];\n",
       "                }\n",
       "\n",
       "                if (typeof requirejs !== 'undefined') {\n",
       "                    // disable load timeout; ipython_app.js is large and can take a while to load.\n",
       "                    requirejs.config({waitSeconds: 0});\n",
       "                }\n",
       "\n",
       "                require(['https://static.turi.com/products/graphlab-create/2.1/canvas/js/ipython_app.js'], function(IPythonApp){\n",
       "                    var app = new IPythonApp();\n",
       "                    app.attachView('sframe','Plots', {\"selected_variable\": {\"name\": [\"train_data\"], \"descriptives\": {\"rows\": 17384, \"columns\": 25}, \"view_component\": \"Plots\", \"view_file\": \"sframe\", \"view_params\": {\"y\": \"price\", \"x\": \"sqft_lot\", \"columns\": [\"id\", \"date\", \"price\", \"bedrooms\", \"bathrooms\", \"sqft_living\", \"sqft_lot\", \"floors\", \"waterfront\", \"view\", \"condition\", \"grade\", \"sqft_above\", \"sqft_basement\", \"yr_built\", \"yr_renovated\", \"zipcode\", \"lat\", \"long\", \"sqft_living15\", \"sqft_lot15\", \"bedrooms_squared\", \"bed_bath\", \"log_sqft_living\", \"lat+long\"], \"view\": \"Scatter Plot\"}, \"view_components\": [\"Summary\", \"Table\", \"Bar Chart\", \"BoxWhisker Plot\", \"Line Chart\", \"Scatter Plot\", \"Heat Map\", \"Plots\"], \"type\": \"SFrame\", \"columns\": [{\"dtype\": \"str\", \"name\": \"id\"}, {\"dtype\": \"datetime\", \"name\": \"date\"}, {\"dtype\": \"float\", \"name\": \"price\"}, {\"dtype\": \"float\", \"name\": \"bedrooms\"}, {\"dtype\": \"float\", \"name\": \"bathrooms\"}, {\"dtype\": \"float\", \"name\": \"sqft_living\"}, {\"dtype\": \"int\", \"name\": \"sqft_lot\"}, {\"dtype\": \"str\", \"name\": \"floors\"}, {\"dtype\": \"int\", \"name\": \"waterfront\"}, {\"dtype\": \"int\", \"name\": \"view\"}, {\"dtype\": \"int\", \"name\": \"condition\"}, {\"dtype\": \"int\", \"name\": \"grade\"}, {\"dtype\": \"int\", \"name\": \"sqft_above\"}, {\"dtype\": \"int\", \"name\": \"sqft_basement\"}, {\"dtype\": \"int\", \"name\": \"yr_built\"}, {\"dtype\": \"int\", \"name\": \"yr_renovated\"}, {\"dtype\": \"str\", \"name\": \"zipcode\"}, {\"dtype\": \"float\", \"name\": \"lat\"}, {\"dtype\": \"float\", \"name\": \"long\"}, {\"dtype\": \"float\", \"name\": \"sqft_living15\"}, {\"dtype\": \"float\", \"name\": \"sqft_lot15\"}, {\"dtype\": \"float\", \"name\": \"bedrooms_squared\"}, {\"dtype\": \"float\", \"name\": \"bed_bath\"}, {\"dtype\": \"float\", \"name\": \"log_sqft_living\"}, {\"dtype\": \"float\", \"name\": \"lat+long\"}], \"column_identifiers\": [\"bathrooms\", \"sqft_above\", \"grade\", \"lat+long\", \"lat\", \"floors\", \"bedrooms_squared\", \"yr_renovated\", \"id\", \"zipcode\", \"long\", \"log_sqft_living\", \"sqft_basement\", \"yr_built\", \"sqft_lot\", \"sqft_lot15\", \"price\", \"bedrooms\", \"date\", \"bed_bath\", \"condition\", \"waterfront\", \"sqft_living15\", \"sqft_living\", \"view\"]}, \"complete\": 1, \"ipython\": true, \"progress\": 1.0, \"data\": [[6000, 875000.0], [36360, 635000.0], [3785, 660000.0], [3978, 549000.0], [50965, 890000.0], [7400, 666570.0], [10182, 250000.0], [48993, 515000.0], [4520, 451555.0], [6050, 749950.0], [9182, 750000.0], [8280, 550500.0], [4411, 324000.0], [4512, 475226.0], [1046, 375000.0], [4000, 410000.0], [8792, 760000.0], [5400, 405000.0], [12500, 225000.0], [44867, 2000000.0], [7700, 250000.0], [8400, 425000.0], [998, 415000.0], [25995, 545000.0], [15330, 164950.0], [15151, 935000.0], [4087, 709000.0], [5339, 705000.0], [8797, 260000.0], [6908, 245000.0], [9081, 202000.0], [11816, 570000.0], [35127, 285000.0], [1545, 700000.0], [4089, 834000.0], [5000, 575000.0], [1800, 425000.0], [5702, 325000.0], [14560, 475000.0], [4560, 629000.0], [8400, 499990.0], [8800, 248000.0], [4800, 785000.0], [4080, 450000.0], [14800, 470000.0], [8694, 3650000.0], [7333, 360000.0], [3916, 333490.0], [6256, 587000.0], [10500, 687500.0], [7601, 368500.0], [7641, 339950.0], [21235, 650000.0], [9000, 560000.0], [4200, 568500.0], [13144, 555000.0], [8400, 425000.0], [7775, 345000.0], [7800, 327500.0], [10150, 589000.0], [16819, 252000.0], [6250, 155000.0], [5760, 670000.0], [7919, 280000.0], [7334, 165000.0], [5497, 750000.0], [10000, 360000.0], [5007, 775000.0], [8610, 265000.0], [5510, 495000.0], [1638, 325000.0], [10450, 2200000.0], [11070, 479950.0], [7800, 329950.0], [1140, 355000.0], [5000, 635000.0], [2040, 215000.0], [189486, 400000.0], [6353, 1099880.0], [10010, 465000.0], [14110, 270000.0], [7282, 189000.0], [7275, 330000.0], [3960, 857500.0], [88426, 452500.0], [9360, 368500.0], [9470, 1100000.0], [4750, 570000.0], [4030, 457500.0], [1598, 385000.0], [6856, 835000.0], [6900, 190000.0], [32670, 238000.0], [4911, 834950.0], [10207, 998000.0], [10005, 423000.0], [11340, 185000.0], [9905, 621000.0], [10521, 199000.0], [4675, 429900.0], [12741, 1050000.0], [8997, 219950.0], [14237, 725000.0], [15600, 543200.0], [44093, 397500.0], [8372, 595000.0], [7953, 600000.0], [7280, 535000.0], [136290, 718000.0], [2046, 299900.0], [8811, 260000.0], [6000, 240000.0], [18901, 825000.0], [5957, 505000.0], [1540, 385000.0], [8856, 466200.0], [10920, 1580000.0], [11198, 345950.0], [5220, 329950.0], [1662, 368000.0], [11798, 298000.0], [7242, 350000.0], [5416, 600000.0], [4635, 475000.0], [8149, 220000.0], [315374, 921500.0], [4500, 564000.0], [12096, 250000.0], [17652, 240000.0], [9282, 224950.0], [4980, 419000.0], [61419, 696500.0], [747, 355000.0], [8892, 480000.0], [25245, 650000.0], [7500, 320000.0], [7198, 247000.0], [9760, 460000.0], [7053, 347500.0], [8111, 485000.0], [4845, 353500.0], [8100, 1075000.0], [4080, 778100.0], [9072, 600000.0], [35192, 1268888.0], [42200, 585000.0], [7912, 313000.0], [33460, 805000.0], [1120, 391000.0], [6820, 782000.0], [10316, 359500.0], [1020, 515000.0], [8720, 269950.0], [25697, 1500000.0], [6420, 375000.0], [7475, 333500.0], [10800, 855000.0], [5000, 552000.0], [1618, 372977.0], [39449, 486000.0], [53882, 357000.0], [987, 358000.0], [9546, 217500.0], [12668, 1900000.0], [5701, 385000.0], [11430, 227950.0], [8000, 270000.0], [8325, 269900.0], [4084, 465000.0], [9344, 204950.0], [8160, 334500.0], [4800, 700000.0], [4600, 350000.0], [5845, 296000.0], [2130, 400000.0], [21336, 281000.0], [17622, 695000.0], [19513, 2125000.0], [40752, 350000.0], [8190, 345000.0], [4532, 520000.0], [7410, 355300.0], [8800, 430000.0], [3889, 760000.0], [7800, 385000.0], [7658, 323800.0], [6561, 263700.0], [4720, 256000.0], [7500, 787000.0], [8312, 749950.0], [7500, 390000.0], [3444, 1365000.0], [9000, 320000.0], [4640, 426500.0], [3794, 720168.0], [7610, 529219.0], [5612, 383000.0], [36769, 335000.0], [11200, 395000.0], [2700, 365000.0], [221284, 800000.0], [4900, 313000.0], [4000, 392000.0], [8182, 352500.0], [5000, 455000.0], [8627, 325000.0], [7276, 269500.0], [2875, 512500.0], [4332, 620000.0], [4600, 450000.0], [82764, 300000.0], [8250, 597326.0], [7231, 698000.0], [5277, 561000.0], [2199, 1450000.0], [4242, 355000.0], [8400, 756450.0], [10762, 226500.0], [19275, 555000.0], [13090, 340000.0], [3930, 540000.0], [15002, 560000.0], [15760, 987500.0], [7563, 400000.0], [3851, 360000.0], [4480, 625000.0], [4000, 675000.0], [1436, 289950.0], [7560, 215000.0], [7538, 436000.0], [3780, 427000.0], [4800, 780000.0], [4510, 365000.0], [9990, 686000.0], [1089, 386950.0], [42966, 200000.0], [4785, 359950.0], [8666, 370000.0], [5264, 406000.0], [8856, 259000.0], [5111, 565000.0], [21303, 385000.0], [1243, 474800.0], [17377, 545000.0], [7506, 420000.0], [9435, 230000.0], [5000, 906000.0], [9267, 609000.0], [6648, 535000.0], [6909, 345000.0], [4600, 1550000.0], [7480, 255000.0], [9907, 179950.0], [1269, 410000.0], [3240, 690000.0], [7200, 525000.0], [4058, 419000.0], [1803, 187000.0], [21727, 291970.0], [4840, 275000.0], [15624, 365500.0], [7748, 263000.0], [11525, 360500.0], [5350, 675000.0], [5040, 333000.0], [10200, 207000.0], [2750, 430000.0], [3125, 595000.0], [4553, 322000.0], [8400, 610000.0], [10105, 960000.0], [8064, 326000.0], [65340, 427000.0], [3850, 350000.0], [6875, 569995.0], [4419, 300000.0], [44866, 450000.0], [7184, 277500.0], [11400, 242000.0], [5818, 240000.0], [6250, 565000.0], [6691, 422000.0], [9100, 230000.0], [6180, 233000.0], [8400, 286000.0], [11585, 507000.0], [3900, 738000.0], [8050, 466000.0], [7175, 179000.0], [6632, 284200.0], [2200, 630000.0], [5250, 795000.0], [6180, 425000.0], [1262, 650000.0], [1196, 280000.0], [5800, 1225000.0], [1312, 530000.0], [13468, 450000.0], [13292, 875909.0], [8100, 575000.0], [920423, 1998000.0], [4200, 415000.0], [8504, 545000.0], [5642, 308000.0], [7333, 560000.0], [6684, 268000.0], [2400, 230000.0], [10000, 3278000.0], [5400, 1500000.0], [5827, 610000.0], [3381, 300000.0], [6371, 459950.0], [12600, 315500.0], [12440, 418500.0], [9300, 490000.0], [10392, 740000.0], [4000, 690000.0], [10800, 640000.0], [10464, 1155000.0], [8239, 205000.0], [6600, 292000.0], [8840, 222000.0], [10200, 339950.0], [10631, 338000.0], [7175, 215000.0], [3825, 1059500.0], [36974, 855000.0], [3036, 435000.0], [6166, 658000.0], [7334, 540000.0], [35012, 605000.0], [8465, 995500.0], [361548, 979500.0], [56628, 229000.0], [8653, 679990.0], [4000, 1015000.0], [10327, 612000.0], [5100, 551000.0], [6360, 316500.0], [11400, 238950.0], [1516, 324950.0], [9540, 396000.0], [3568, 168000.0], [1184, 399950.0], [1540, 465000.0], [70567, 550388.0], [982278, 790000.0], [1211, 336000.0], [1115, 340000.0], [5562, 610360.0], [10716, 290000.0], [934, 427500.0], [43332, 425000.0], [11200, 581000.0], [9078, 248000.0], [3000, 295000.0], [11056, 830000.0], [8400, 280000.0], [6703, 580000.0], [12196, 490000.0], [10043, 1250000.0], [7991, 345000.0], [5000, 286000.0], [14150, 1245000.0], [8001, 770000.0], [7200, 718000.0], [12039, 865950.0], [94089, 455000.0], [11000, 870000.0], [6978, 710000.0], [4500, 525000.0], [7187, 476000.0], [853, 378000.0], [9160, 710000.0], [8800, 225900.0], [11780, 450000.0], [7500, 299995.0], [9310, 230000.0], [36820, 710800.0], [7800, 295000.0], [7475, 425000.0], [17853, 1557600.0], [1123, 365000.0], [6000, 1385000.0], [7725, 295000.0], [4200, 326989.0], [5000, 207950.0], [2506, 395000.0], [3600, 760000.0], [7964, 273000.0], [8640, 253400.0], [5027, 305000.0], [1916, 280000.0], [1472, 608000.0], [6150, 660000.0], [32379, 440000.0], [1268, 208400.0], [5000, 575000.0], [8612, 269000.0], [49709, 575000.0], [5470, 355000.0], [9255, 438000.0], [4200, 480000.0], [1189, 582000.0], [16800, 620000.0], [8160, 374950.0], [10585, 377000.0], [6031, 475000.0], [7800, 359950.0], [7209, 295000.0], [14986, 2458000.0], [1991, 412000.0], [7220, 225205.0], [12420, 936000.0], [7194, 310000.0], [6530, 262000.0], [4270, 555000.0], [1028, 366000.0], [5200, 720000.0], [5633, 372000.0], [21980, 339000.0], [76230, 970000.0], [6750, 500000.0], [8268, 452000.0], [17707, 690000.0], [14599, 937500.0], [10723, 285000.0], [6740, 360000.0], [5000, 825000.0], [7290, 550000.0], [3292, 384205.0], [3800, 525000.0], [12523, 835000.0], [8582, 654300.0], [6380, 250000.0], [8136, 340000.0], [6012, 680000.0], [15531, 275000.0], [214750, 678500.0], [5515, 577500.0], [9067, 203000.0], [12028, 693000.0], [4113, 266490.0], [10350, 300000.0], [9840, 616000.0], [25661, 230000.0], [8993, 260000.0], [2772, 639888.0], [8031, 510000.0], [7056, 269500.0], [137565, 437000.0], [15360, 550000.0], [9100, 185000.0], [12000, 305000.0], [1263, 240000.0], [7781, 600000.0], [4060, 330000.0], [8173, 415000.0], [10608, 264000.0], [895, 305000.0], [1050, 792000.0], [8002, 252500.0], [5850, 320000.0], [130244, 652500.0], [13040, 500000.0], [5367, 339995.0], [4800, 260000.0], [31705, 630000.0], [3207, 289000.0], [1850, 713000.0], [35273, 930000.0], [10455, 975000.0], [10125, 137000.0], [8118, 2250000.0], [4175, 475999.0], [5248, 335000.0], [9473, 453000.0], [6448, 219950.0], [6000, 175000.0], [8256, 440000.0], [13475, 305000.0], [8548, 250000.0], [7620, 515000.0], [7320, 292500.0], [4750, 785000.0], [9096, 272950.0], [9414, 525000.0], [904, 324000.0], [11757, 998000.0], [7198, 227000.0], [10733, 415000.0], [5000, 336000.0], [10023, 169500.0], [5200, 174500.0], [9652, 680000.0], [4356, 915000.0], [23373, 1959000.0], [40392, 570000.0], [7125, 320000.0], [37264, 550000.0], [13085, 250000.0], [9671, 1450000.0], [7924, 1060000.0], [8560, 370900.0], [4611, 497000.0], [7210, 200000.0], [6120, 550000.0], [6473, 515000.0], [219106, 865000.0], [6699, 430000.0], [6720, 495000.0], [5000, 420000.0], [6260, 275000.0], [17500, 218000.0], [3427, 615000.0], [977, 935000.0], [6000, 715000.0], [7000, 389000.0], [4755, 390000.0], [6318, 198000.0], [5751, 315000.0], [6000, 425000.0], [5510, 398000.0], [7700, 424000.0], [15240, 360000.0], [9200, 1075000.0], [8820, 274950.0], [10176, 170000.0], [12150, 479900.0], [28014, 898000.0], [5000, 514000.0], [9600, 280000.0], [4800, 465000.0], [11200, 340768.0], [5368, 420000.0], [9928, 471000.0], [7198, 444000.0], [12094, 424240.0], [11983, 312500.0], [5250, 265000.0], [45302, 334200.0], [38448, 775000.0], [5674, 330000.0], [6846, 445000.0], [6600, 290000.0], [6318, 599950.0], [6000, 560000.0], [3400, 500000.0], [11646, 320000.0], [8904, 1038000.0], [4400, 869900.0], [1245, 465000.0], [7200, 827500.0], [5200, 230000.0], [87555, 849000.0], [6583, 560000.0], [572, 250000.0], [6060, 250000.0], [5202, 645500.0], [5703, 325000.0], [4128, 339000.0], [7204, 284000.0], [8500, 325000.0], [6032, 239950.0], [3600, 285000.0], [5040, 316000.0], [1860, 491234.0], [7405, 334000.0], [10800, 210000.0], [13034, 323000.0], [11900, 660000.0], [8384, 121800.0], [9686, 224950.0], [8476, 335000.0], [265716, 568000.0], [4798, 1250000.0], [7098, 347500.0], [8436, 800000.0], [12415, 300000.0], [7200, 435000.0], [3565, 540000.0], [8325, 375000.0], [5909, 259000.0], [5451, 360000.0], [4324, 404000.0], [8187, 620000.0], [5223, 399950.0], [13530, 670000.0], [9800, 375000.0], [18564, 1905000.0], [10489, 683000.0], [4900, 565000.0], [3000, 825000.0], [6600, 699800.0], [108464, 985000.0], [10576, 913000.0], [5650, 315000.0], [11824, 320000.0], [5796, 325000.0], [7616, 272000.0], [8449, 314000.0], [6194, 255000.0], [5974, 733000.0], [9652, 215000.0], [6099, 760000.0], [7313, 460000.0], [13059, 744000.0], [7315, 263000.0], [6000, 710000.0], [43186, 427500.0], [29308, 261000.0], [7260, 568000.0], [12000, 725000.0], [43995, 600000.0], [4060, 285000.0], [7392, 775000.0], [11970, 310000.0], [11150, 310000.0], [1112, 305000.0], [5400, 750000.0], [5761, 408200.0], [6383, 445000.0], [13402, 1780000.0], [11000, 1355000.0], [6180, 325000.0], [3600, 677915.0], [7941, 247000.0], [1304, 394950.0], [3267, 465000.0], [4800, 340000.0], [6000, 445000.0], [5450, 1160000.0], [7806, 500000.0], [4056, 750000.0], [5754, 295000.0], [7875, 590000.0], [9040, 339950.0], [2261, 550000.0], [45514, 685000.0], [45100, 2525000.0], [9430, 529900.0], [8475, 406000.0], [55847, 541500.0], [21400, 1070000.0], [8919, 246500.0], [11904, 1650000.0], [10505, 285000.0], [8960, 1987500.0], [3920, 680000.0], [7760, 1174660.0], [4052, 286950.0], [12000, 300000.0], [10400, 440000.0], [8250, 400000.0], [6509, 270000.0], [7851, 515000.0], [10112, 230000.0], [8764, 579000.0], [8830, 425000.0], [4635, 230000.0], [19141, 368500.0], [4366, 183000.0], [9158, 822000.0], [13747, 775000.0], [8400, 600000.0], [35287, 330000.0], [2670, 462370.0], [7520, 222000.0], [9600, 324950.0], [7590, 200000.0], [7923, 441000.0], [11447, 490600.0], [4000, 570000.0], [12086, 440000.0], [5193, 587000.0], [9898, 368000.0], [3503, 525000.0], [4072, 245000.0], [13260, 450000.0], [5376, 970000.0], [4400, 675000.0], [5212, 565000.0], [2750, 840000.0], [29597, 350000.0], [12637, 925000.0], [13440, 340000.0], [15000, 441000.0], [15139, 1544500.0], [10875, 267000.0], [1416, 461000.0], [9010, 610000.0], [10514, 785000.0], [5440, 280000.0], [3202, 515000.0], [5000, 812000.0], [9720, 545000.0], [14138, 1360000.0], [6820, 375000.0], [6000, 415000.0], [18000, 297000.0], [9775, 545000.0], [8155, 500000.0], [6800, 695000.0], [1407, 646800.0], [1994, 439990.0], [18900, 475000.0], [3740, 310000.0], [7500, 385000.0], [13360, 486940.0], [12247, 425000.0], [43645, 525000.0], [14000, 263500.0], [13592, 839900.0], [3480, 320000.0], [4234, 389950.0], [5756, 210000.0], [7264, 465000.0], [5026, 159995.0], [5750, 550000.0], [4305, 642000.0], [7200, 280000.0], [5000, 750000.0], [6884, 734990.0], [7986, 354000.0], [1075, 420000.0], [9900, 129888.0], [10870, 380000.0], [10320, 270000.0], [7700, 290000.0], [15030, 419000.0], [1164794, 190000.0], [21312, 365000.0], [7000, 419900.0], [43995, 539000.0], [2191, 415000.0], [4592, 419000.0], [7266, 490000.0], [4760, 300000.0], [4682, 572800.0], [7810, 239000.0], [7614, 240000.0], [7350, 272000.0], [8592, 335000.0], [4650, 378000.0], [5250, 708000.0], [2658, 770000.0], [6766, 570000.0], [8881, 1100000.0], [3797, 392000.0], [4080, 725000.0], [4770, 371000.0], [5500, 92000.0], [15600, 400000.0], [4800, 464000.0], [11313, 252000.0], [35040, 610000.0], [7000, 205000.0], [5801, 1142000.0], [7538, 750000.0], [4280, 599000.0], [10519, 265000.0], [5700, 290000.0], [4832, 616200.0], [23723, 1680000.0], [3855, 300000.0], [11454, 740000.0], [1178, 515000.0], [8540, 639000.0], [7860, 455000.0], [43216, 840000.0], [4815, 613000.0], [3060, 549000.0], [5577, 283500.0], [29985, 405000.0], [8333, 315000.0], [2850, 525000.0], [56628, 575000.0], [5832, 1000000.0], [8415, 175000.0], [3760, 570000.0], [13736, 410000.0], [5188, 675000.0], [5000, 320000.0], [7580, 319900.0], [403693, 495000.0], [8100, 158550.0], [3060, 295000.0], [4600, 370000.0], [3800, 481203.0], [48037, 1050000.0], [5100, 500000.0], [32565, 597500.0], [5760, 353900.0], [20917, 199950.0], [14258, 400000.0], [10800, 230000.0], [27820, 580379.0], [6270, 325900.0], [8320, 258000.0], [14270, 299000.0], [12000, 287500.0], [10358, 457000.0], [37096, 375000.0], [6000, 630000.0], [217800, 540000.0], [9600, 1350000.0], [15681, 275000.0], [3600, 429000.0], [13391, 819000.0], [4000, 570000.0], [4517, 425000.0], [14190, 480000.0], [10943, 502000.0], [47045, 283000.0], [21810, 840000.0], [10500, 246000.0], [1051, 579000.0], [6046, 247500.0], [5000, 216300.0], [10800, 279900.0], [2754, 579100.0], [5060, 567500.0], [4802, 342000.0], [3000, 385000.0], [11782, 780000.0], [4500, 526000.0], [932, 455000.0], [1369, 420000.0], [2200, 415000.0], [4920, 1345000.0], [8614, 245000.0], [13315, 452000.0], [11900, 330000.0], [8862, 465000.0], [11599, 264950.0], [5700, 671000.0], [8008, 305000.0], [15685, 460000.0], [7620, 330000.0], [7314, 237950.0], [5100, 600000.0], [957, 499000.0], [4350, 328000.0], [10611, 590000.0], [4338, 515000.0], [4237, 268500.0], [20063, 240000.0], [10032, 538000.0], [6111, 338500.0], [8276, 583000.0], [10752, 409000.0], [7200, 291000.0], [3139, 650000.0], [7500, 532500.0], [1756, 690000.0], [11875, 313100.0], [41900, 320000.0], [5000, 356700.0], [8450, 333000.0], [1712, 323000.0], [8469, 552321.0], [5188, 359900.0], [4816, 554950.0], [9766, 396000.0], [37034, 1150000.0], [8947, 515000.0], [10500, 464550.0], [13261, 985000.0], [19850, 1025000.0], [6320, 330000.0], [7051, 950000.0], [1600, 353250.0], [7300, 430000.0], [4979, 748000.0], [23000, 157340.0], [12559, 225000.0], [40946, 420850.0], [5186, 571000.0], [17652, 415500.0], [7537, 400000.0], [118483, 589000.0], [30605, 399950.0], [7500, 230000.0], [16471, 1900000.0], [167869, 1950000.0], [159865, 362950.0], [24663, 930000.0], [10688, 455000.0], [16200, 1646000.0], [4770, 495000.0], [8442, 489000.0], [32780, 620000.0], [10350, 530000.0], [13629, 285000.0], [7350, 221000.0], [10490, 442500.0], [2258, 160000.0], [5002, 815000.0], [4268, 470000.0], [9440, 278000.0], [9253, 288000.0], [9176, 402000.0], [9514, 285000.0], [10078, 670000.0], [5758, 485000.0], [426450, 390500.0], [7700, 620000.0], [22144, 454000.0], [14398, 617450.0], [7920, 235000.0], [4000, 399990.0], [1796, 350000.0], [4777, 740000.0], [13000, 300000.0], [2185, 620000.0], [5500, 625000.0], [8580, 350000.0], [5100, 395000.0], [4440, 341780.0], [5000, 762000.0], [7749, 1750000.0], [5000, 448000.0], [10656, 535000.0], [7149, 539950.0], [10858, 1034500.0], [3740, 389000.0], [4750, 160000.0], [12032, 490000.0], [26266, 425000.0], [7870, 495000.0], [217800, 440000.0], [7700, 580000.0], [14141, 390000.0], [9600, 510000.0], [43124, 330000.0], [11752, 415000.0], [7311, 364000.0], [11095, 463000.0], [18730, 207000.0], [2550, 415000.0], [40608, 635000.0], [12040, 330000.0], [12540, 505000.0], [5635, 685000.0], [5000, 515000.0], [3750, 390000.0], [7881, 352500.0], [5171, 277500.0], [10677, 627250.0], [109336, 375000.0], [9211, 400000.0], [5500, 1740000.0], [54450, 475000.0], [4800, 235000.0], [5400, 590000.0], [2980, 319000.0], [7012, 860000.0], [6930, 755000.0], [7210, 280000.0], [13170, 1150000.0], [7500, 315000.0], [7111, 360000.0], [360241, 617000.0], [45738, 550000.0], [5100, 410000.0], [9301, 400000.0], [2541, 249900.0], [2003, 457500.0], [3500, 500000.0], [6300, 611206.0], [1347, 350000.0], [4000, 825000.0], [7200, 538000.0], [14000, 427000.0], [3000, 780000.0], [7711, 268000.0], [11805, 325000.0], [8100, 295000.0], [7350, 279000.0], [5000, 464000.0], [8000, 420000.0], [3713, 550000.0], [6000, 639000.0], [12714, 373000.0], [4000, 417200.0], [11250, 354000.0], [10720, 450000.0], [7307, 482000.0], [11070, 685000.0], [5325, 215000.0], [5598, 489000.0], [5800, 1335000.0], [881, 265000.0], [324086, 765000.0], [7350, 386500.0], [5805, 295700.0], [5000, 870000.0], [8000, 203000.0], [9000, 465000.0], [3840, 360000.0]], \"columns\": [{\"dtype\": \"str\", \"name\": \"id\"}, {\"dtype\": \"datetime\", \"name\": \"date\"}, {\"dtype\": \"float\", \"name\": \"price\"}, {\"dtype\": \"float\", \"name\": \"bedrooms\"}, {\"dtype\": \"float\", \"name\": \"bathrooms\"}, {\"dtype\": \"float\", \"name\": \"sqft_living\"}, {\"dtype\": \"int\", \"name\": \"sqft_lot\"}, {\"dtype\": \"str\", \"name\": \"floors\"}, {\"dtype\": \"int\", \"name\": \"waterfront\"}, {\"dtype\": \"int\", \"name\": \"view\"}, {\"dtype\": \"int\", \"name\": \"condition\"}, {\"dtype\": \"int\", \"name\": \"grade\"}, {\"dtype\": \"int\", \"name\": \"sqft_above\"}, {\"dtype\": \"int\", \"name\": \"sqft_basement\"}, {\"dtype\": \"int\", \"name\": \"yr_built\"}, {\"dtype\": \"int\", \"name\": \"yr_renovated\"}, {\"dtype\": \"str\", \"name\": \"zipcode\"}, {\"dtype\": \"float\", \"name\": \"lat\"}, {\"dtype\": \"float\", \"name\": \"long\"}, {\"dtype\": \"float\", \"name\": \"sqft_living15\"}, {\"dtype\": \"float\", \"name\": \"sqft_lot15\"}, {\"dtype\": \"float\", \"name\": \"bedrooms_squared\"}, {\"dtype\": \"float\", \"name\": \"bed_bath\"}, {\"dtype\": \"float\", \"name\": \"log_sqft_living\"}, {\"dtype\": \"float\", \"name\": \"lat+long\"}]}, e);\n",
       "                });\n",
       "            })();\n",
       "        "
      ]
     },
     "metadata": {},
     "output_type": "display_data"
    }
   ],
   "source": [
    "train_data.show(x='long',y='price',view='Scatter Plot')\n",
    "train_data.show(x='lat',y='price',view='Scatter Plot')\n",
    "train_data.show(x='sqft_lot',y='price',view='Scatter Plot')"
   ]
  },
  {
   "cell_type": "markdown",
   "metadata": {},
   "source": [
    "## Learning Multiple Models"
   ]
  },
  {
   "cell_type": "markdown",
   "metadata": {},
   "source": [
    "Now we will learn the weights for three (nested) models for predicting house prices. The first model will have the fewest features the second model will add one more feature and the third will add a few more:\n",
    "* Model 1: squarefeet, # bedrooms, # bathrooms, latitude & longitude\n",
    "* Model 2: add bedrooms\\*bathrooms\n",
    "* Model 3: Add log squarefeet, bedrooms squared, and the (nonsensical) latitude + longitude"
   ]
  },
  {
   "cell_type": "code",
   "execution_count": 10,
   "metadata": {},
   "outputs": [],
   "source": [
    "model_1_features = ['sqft_living', 'bedrooms', 'bathrooms', 'lat', 'long']\n",
    "model_2_features = model_1_features + ['bed_bath']\n",
    "model_3_features = model_2_features + ['bedrooms_squared', 'log_sqft_living', 'lat+long']"
   ]
  },
  {
   "cell_type": "markdown",
   "metadata": {},
   "source": [
    "Now that we have the features, we learn the weights for the three different models for predicting target = 'price' using graphlab.linear_regression.create() and look at the value of the weights/coefficients:"
   ]
  },
  {
   "cell_type": "code",
   "execution_count": 11,
   "metadata": {},
   "outputs": [],
   "source": [
    "# Learn the three models: (don't forget to set validation_set = None)\n",
    "\n",
    "model1 = graphlab.linear_regression.create(train_data,target='price',features=model_1_features,validation_set=None,verbose=False)\n",
    "model2 = graphlab.linear_regression.create(train_data,target='price',features=model_2_features,validation_set=None,verbose=False)\n",
    "model3 = graphlab.linear_regression.create(train_data,target='price',features=model_3_features,validation_set=None,verbose=False)\n"
   ]
  },
  {
   "cell_type": "code",
   "execution_count": 12,
   "metadata": {},
   "outputs": [
    {
     "name": "stdout",
     "output_type": "stream",
     "text": [
      "+-------------+-------+----------------+---------------+\n",
      "|     name    | index |     value      |     stderr    |\n",
      "+-------------+-------+----------------+---------------+\n",
      "| (intercept) |  None | -56140675.7444 | 1649985.42028 |\n",
      "| sqft_living |  None | 310.263325778  | 3.18882960408 |\n",
      "|   bedrooms  |  None | -59577.1160682 | 2487.27977322 |\n",
      "|  bathrooms  |  None | 13811.8405418  | 3593.54213297 |\n",
      "|     lat     |  None | 629865.789485  | 13120.7100323 |\n",
      "|     long    |  None | -214790.285186 | 13284.2851607 |\n",
      "+-------------+-------+----------------+---------------+\n",
      "[6 rows x 4 columns]\n",
      "\n",
      "+-------------+-------+----------------+---------------+\n",
      "|     name    | index |     value      |     stderr    |\n",
      "+-------------+-------+----------------+---------------+\n",
      "| (intercept) |  None | -54410676.1152 | 1650405.16541 |\n",
      "| sqft_living |  None | 304.449298057  | 3.20217535637 |\n",
      "|   bedrooms  |  None | -116366.043231 | 4805.54966546 |\n",
      "|  bathrooms  |  None | -77972.3305135 | 7565.05991091 |\n",
      "|     lat     |  None | 625433.834953  | 13058.3530972 |\n",
      "|     long    |  None | -203958.60296  | 13268.1283711 |\n",
      "|   bed_bath  |  None | 26961.6249092  | 1956.36561555 |\n",
      "+-------------+-------+----------------+---------------+\n",
      "[7 rows x 4 columns]\n",
      "\n",
      "+------------------+-------+----------------+---------------+\n",
      "|       name       | index |     value      |     stderr    |\n",
      "+------------------+-------+----------------+---------------+\n",
      "|   (intercept)    |  None | -52974974.0602 |  1615194.9439 |\n",
      "|   sqft_living    |  None | 529.196420564  | 7.69913498511 |\n",
      "|     bedrooms     |  None | 28948.5277313  | 9395.72889106 |\n",
      "|    bathrooms     |  None |  65661.207231  | 10795.3380703 |\n",
      "|       lat        |  None | 704762.148408  | 1292011141.66 |\n",
      "|       long       |  None | -137780.01994  | 1292011141.57 |\n",
      "|     bed_bath     |  None | -8478.36410518 | 2858.95391257 |\n",
      "| bedrooms_squared |  None | -6072.38466067 | 1494.97042777 |\n",
      "| log_sqft_living  |  None | -563467.784269 | 17567.8230814 |\n",
      "|     lat+long     |  None | -83217.1979248 | 1292011141.58 |\n",
      "+------------------+-------+----------------+---------------+\n",
      "[10 rows x 4 columns]\n",
      "\n"
     ]
    }
   ],
   "source": [
    "# Examine/extract each model's coefficients:\n",
    "\n",
    "print model1.get('coefficients')\n",
    "print model2.get('coefficients')\n",
    "print model3.get('coefficients')\n"
   ]
  },
  {
   "cell_type": "markdown",
   "metadata": {},
   "source": [
    "### Comparing multiple models\n",
    "\n",
    "Now that we've learned three models and extracted the model weights we want to evaluate which model is best."
   ]
  },
  {
   "cell_type": "markdown",
   "metadata": {},
   "source": [
    "W compute the RSS on TRAINING Data for each of the three models."
   ]
  },
  {
   "cell_type": "code",
   "execution_count": 15,
   "metadata": {},
   "outputs": [
    {
     "name": "stdout",
     "output_type": "stream",
     "text": [
      "rss 1 train 9.71328233544e+14\n",
      "rss 2 train 9.61592067856e+14\n",
      "rss 3 train 9.05276314555e+14\n"
     ]
    }
   ],
   "source": [
    "# Compute the RSS on TRAINING data for each of the three models and record the values:\n",
    "\n",
    "rss_model1_train = get_residual_sum_of_squares(model1, train_data, train_data['price'])\n",
    "rss_model2_train = get_residual_sum_of_squares(model2, train_data, train_data['price'])\n",
    "rss_model3_train = get_residual_sum_of_squares(model3, train_data, train_data['price'])\n",
    "\n",
    "print 'rss 1 train', rss_model1_train\n",
    "print 'rss 2 train', rss_model2_train\n",
    "print 'rss 3 train', rss_model3_train"
   ]
  },
  {
   "cell_type": "markdown",
   "metadata": {},
   "source": [
    "Now we compute the RSS on on TEST data for each of the three models."
   ]
  },
  {
   "cell_type": "code",
   "execution_count": 16,
   "metadata": {},
   "outputs": [
    {
     "name": "stdout",
     "output_type": "stream",
     "text": [
      "rss 1 test 2.26568089093e+14\n",
      "rss 2 test 2.24368799994e+14\n",
      "rss 3 test 2.51829318952e+14\n"
     ]
    }
   ],
   "source": [
    "# Compute the RSS on TESTING data for each of the three models and record the values:\n",
    "\n",
    "rss_model1_test = get_residual_sum_of_squares(model1, test_data, test_data['price'])\n",
    "rss_model2_test = get_residual_sum_of_squares(model2, test_data, test_data['price'])\n",
    "rss_model3_test = get_residual_sum_of_squares(model3, test_data, test_data['price'])\n",
    "\n",
    "print 'rss 1 test', rss_model1_test\n",
    "print 'rss 2 test', rss_model2_test\n",
    "print 'rss 3 test', rss_model3_test"
   ]
  },
  {
   "cell_type": "markdown",
   "metadata": {
    "collapsed": true
   },
   "source": [
    "## Gradient decent approach to multiple regression"
   ]
  },
  {
   "cell_type": "code",
   "execution_count": 17,
   "metadata": {},
   "outputs": [],
   "source": [
    "import numpy as np"
   ]
  },
  {
   "cell_type": "code",
   "execution_count": 18,
   "metadata": {},
   "outputs": [],
   "source": [
    "def get_numpy_data(data_sframe, features, output):\n",
    "    # to get data from features and output in numpy arrays\n",
    "    data_sframe['constant'] = 1 \n",
    "    features = ['constant'] + features \n",
    "   \n",
    "    # select the columns of data_SFrame given by the features list into the SFrame features_sframe (now including constant):\n",
    "    features_sframe = data_sframe[features]\n",
    "    feature_matrix = features_sframe.to_numpy()\n",
    "    # assign the column of data_sframe associated with the output to the SArray output_sarray\n",
    "    output_sarray = data_sframe[output]\n",
    "    output_array = output_sarray.to_numpy()\n",
    "    \n",
    "    return(feature_matrix, output_array)"
   ]
  },
  {
   "cell_type": "code",
   "execution_count": 19,
   "metadata": {},
   "outputs": [
    {
     "name": "stdout",
     "output_type": "stream",
     "text": [
      "[1.00e+00 1.18e+03]\n",
      "221900.0\n"
     ]
    }
   ],
   "source": [
    "(example_features, example_output) = get_numpy_data(sales, ['sqft_living'], 'price') # the [] around 'sqft_living' makes it a list\n",
    "print example_features[0,:] # this accesses the first row of the data the ':' indicates 'all columns'\n",
    "print example_output[0] # and the corresponding output"
   ]
  },
  {
   "cell_type": "markdown",
   "metadata": {},
   "source": [
    "Using weights:"
   ]
  },
  {
   "cell_type": "code",
   "execution_count": 20,
   "metadata": {},
   "outputs": [
    {
     "name": "stdout",
     "output_type": "stream",
     "text": [
      "1181.0\n"
     ]
    }
   ],
   "source": [
    "my_weights = np.array([1., 1.]) # the example weights\n",
    "my_features = example_features[0,] # we'll use the first data point\n",
    "predicted_value = np.dot(my_features, my_weights)\n",
    "print predicted_value"
   ]
  },
  {
   "cell_type": "code",
   "execution_count": 21,
   "metadata": {},
   "outputs": [],
   "source": [
    "def predict_output(feature_matrix, weights):\n",
    "    predictions = np.dot(feature_matrix,weights)\n",
    "\n",
    "    return(predictions)"
   ]
  },
  {
   "cell_type": "code",
   "execution_count": 22,
   "metadata": {},
   "outputs": [
    {
     "name": "stdout",
     "output_type": "stream",
     "text": [
      "1181.0\n",
      "2571.0\n"
     ]
    }
   ],
   "source": [
    "test_predictions = predict_output(example_features, my_weights)\n",
    "print test_predictions[0] # should be 1181.0\n",
    "print test_predictions[1] # should be 2571.0"
   ]
  },
  {
   "cell_type": "markdown",
   "metadata": {},
   "source": [
    "## Computing the derivative"
   ]
  },
  {
   "cell_type": "markdown",
   "metadata": {},
   "source": [
    "We are now going to move to computing the derivative of the regression cost function. Recall that the cost function is the sum over the data points of the squared difference between an observed output and a predicted output.\n",
    "\n",
    "Since the derivative of a sum is the sum of the derivatives we can compute the derivative for a single data point and then sum over data points. We can write the squared difference between the observed output and predicted output for a single point as follows:\n",
    "\n",
    "(w[0]\\*[CONSTANT] + w[1]\\*[feature_1] + ... + w[i] \\*[feature_i] + ... +  w[k]\\*[feature_k] - output)^2\n",
    "\n",
    "Where we have k features and a constant. So the derivative with respect to weight w[i] by the chain rule is:\n",
    "\n",
    "2\\*(w[0]\\*[CONSTANT] + w[1]\\*[feature_1] + ... + w[i] \\*[feature_i] + ... +  w[k]\\*[feature_k] - output)\\* [feature_i]\n",
    "\n",
    "The term inside the paranethesis is just the error (difference between prediction and output). So we can re-write this as:\n",
    "\n",
    "2\\*error\\*[feature_i] \n",
    "\n",
    "That is, the derivative for the weight for feature i is the sum (over data points) of 2 times the product of the error and the feature itself. In the case of the constant then this is just twice the sum of the errors!\n",
    "\n",
    "Recall that twice the sum of the product of two vectors is just twice the dot product of the two vectors. Therefore the derivative for the weight for feature_i is just two times the dot product between the values of feature_i and the current errors. \n",
    "\n",
    "With this in mind complete the following derivative function which computes the derivative of the weight given the value of the feature (over all data points) and the errors (over all data points)."
   ]
  },
  {
   "cell_type": "code",
   "execution_count": 23,
   "metadata": {},
   "outputs": [],
   "source": [
    "def feature_derivative(errors, feature):\n",
    "    \n",
    "    import numpy as np\n",
    "    \n",
    "    der = 2* (np.dot(errors,feature))\n",
    "\n",
    "    return(der)"
   ]
  },
  {
   "cell_type": "code",
   "execution_count": 24,
   "metadata": {},
   "outputs": [
    {
     "name": "stdout",
     "output_type": "stream",
     "text": [
      "-23345850022.0\n",
      "-23345850022.0\n"
     ]
    }
   ],
   "source": [
    "#testing the above\n",
    "(example_features, example_output) = get_numpy_data(sales, ['sqft_living'], 'price') \n",
    "my_weights = np.array([0., 0.]) # this makes all the predictions 0\n",
    "test_predictions = predict_output(example_features, my_weights) \n",
    "errors = test_predictions - example_output # prediction errors in this case is just the -example_output\n",
    "feature = example_features[:,0] # let's compute the derivative with respect to 'constant', the \":\" indicates \"all rows\"\n",
    "\n",
    "derivative = feature_derivative(errors,feature)\n",
    "print derivative\n",
    "\n",
    "print -np.sum(example_output)*2 # should be the same as derivative"
   ]
  },
  {
   "cell_type": "markdown",
   "metadata": {},
   "source": [
    "## Gradient descent"
   ]
  },
  {
   "cell_type": "markdown",
   "metadata": {},
   "source": [
    "\n",
    "Now we will write a function that performs a gradient descent. The basic premise is simple. Given a starting point we update the current weights by moving in the negative gradient direction. Recall that the gradient is the direction of *increase* and therefore the negative gradient is the direction of *decrease* and we're trying to *minimize* a cost function. \n",
    "\n",
    "The amount by which we move in the negative gradient *direction*  is called the 'step size'. We stop when we are 'sufficiently close' to the optimum. We define this by requiring that the magnitude (length) of the gradient vector to be smaller than a fixed 'tolerance'."
   ]
  },
  {
   "cell_type": "code",
   "execution_count": 25,
   "metadata": {},
   "outputs": [],
   "source": [
    "from math import sqrt"
   ]
  },
  {
   "cell_type": "code",
   "execution_count": 26,
   "metadata": {},
   "outputs": [],
   "source": [
    "def regression_gradient_descent(feature_matrix, output, initial_weights, step_size, tolerance):\n",
    "    converged = False \n",
    "    weights = np.array(initial_weights) # make sure it's a numpy array\n",
    "    while not converged:\n",
    "        # compute the predictions based on feature_matrix and weights using your predict_output() function\n",
    "        predictions = predict_output(feature_matrix,weights)\n",
    "\n",
    "        # compute the errors as predictions - output\n",
    "        errors = predictions - output\n",
    "        \n",
    "        gradient_sum_squares = 0 # initialize the gradient sum of squares\n",
    "        \n",
    "        # while we haven't reached the tolerance yet, update each feature's weight\n",
    "        for i in range(len(weights)): # loop over each weight\n",
    "            # Recall that feature_matrix[:, i] is the feature column associated with weights[i]\n",
    "            # compute the derivative for weight[i]:\n",
    "            derivative = feature_derivative(errors, feature_matrix[:,i])\n",
    "            \n",
    "\n",
    "            # add the squared value of the derivative to the gradient sum of squares (for assessing convergence)\n",
    "            gradient_sum_squares += derivative*derivative\n",
    "\n",
    "            # subtract the step size times the derivative from the current weight\n",
    "            weights[i] = weights[i] - step_size*derivative\n",
    "            \n",
    "        # compute the square-root of the gradient sum of squares to get the gradient magnitude:\n",
    "        gradient_magnitude = sqrt(gradient_sum_squares)\n",
    "        if gradient_magnitude < tolerance:\n",
    "            converged = True\n",
    "    return(weights)"
   ]
  },
  {
   "cell_type": "markdown",
   "metadata": {},
   "source": [
    "## Running the Gradient Descent as Simple Regression"
   ]
  },
  {
   "cell_type": "code",
   "execution_count": 27,
   "metadata": {},
   "outputs": [],
   "source": [
    "train_data,test_data = sales.random_split(.8,seed=0)"
   ]
  },
  {
   "cell_type": "markdown",
   "metadata": {},
   "source": [
    "Although the gradient descent is designed for multiple regression since the constant is now a feature we can use the gradient descent function to estimat the parameters in the simple regression on squarefeet. The following cell sets up the feature_matrix, output, initial weights and step size for the first model:"
   ]
  },
  {
   "cell_type": "code",
   "execution_count": 28,
   "metadata": {},
   "outputs": [],
   "source": [
    "# let's test out the gradient descent\n",
    "simple_features = ['sqft_living']\n",
    "my_output = 'price'\n",
    "(simple_feature_matrix, output) = get_numpy_data(train_data, simple_features, my_output)\n",
    "initial_weights = np.array([-47000., 1.])\n",
    "step_size = 7e-12\n",
    "tolerance = 2.5e7"
   ]
  },
  {
   "cell_type": "code",
   "execution_count": 29,
   "metadata": {},
   "outputs": [
    {
     "name": "stdout",
     "output_type": "stream",
     "text": [
      "[-46999.88716555    281.91211912]\n"
     ]
    }
   ],
   "source": [
    "updated_weight_simple = regression_gradient_descent(simple_feature_matrix, output, initial_weights, step_size, tolerance)\n",
    "print updated_weight_simple"
   ]
  },
  {
   "cell_type": "markdown",
   "metadata": {},
   "source": [
    "To get predictions:"
   ]
  },
  {
   "cell_type": "code",
   "execution_count": 30,
   "metadata": {},
   "outputs": [
    {
     "data": {
      "text/plain": [
       "array([356134.44317093, 784640.86422788, 435069.83652353, ...,\n",
       "       663418.65300782, 604217.10799338, 240550.4743332 ])"
      ]
     },
     "execution_count": 30,
     "metadata": {},
     "output_type": "execute_result"
    }
   ],
   "source": [
    "(simple_feature_matrix_test, output_test) = get_numpy_data(test_data, simple_features, my_output)\n",
    "predict_output(simple_feature_matrix_test, updated_weight_simple)"
   ]
  },
  {
   "cell_type": "markdown",
   "metadata": {},
   "source": [
    "## Running a multiple regression"
   ]
  },
  {
   "cell_type": "code",
   "execution_count": 31,
   "metadata": {},
   "outputs": [],
   "source": [
    "model_features = ['sqft_living', 'sqft_living15'] # sqft_living15 is the average squarefeet for the nearest 15 neighbors. \n",
    "my_output = 'price'\n",
    "(feature_matrix_2, output) = get_numpy_data(train_data, model_features, my_output)\n",
    "initial_weights = np.array([-100000., 1., 1.])\n",
    "step_size = 4e-12\n",
    "tolerance = 1e9"
   ]
  },
  {
   "cell_type": "code",
   "execution_count": 32,
   "metadata": {},
   "outputs": [
    {
     "name": "stdout",
     "output_type": "stream",
     "text": [
      "[-9.99999688e+04  2.45072603e+02  6.52795277e+01]\n"
     ]
    }
   ],
   "source": [
    "updated_weight_2= regression_gradient_descent(feature_matrix_2, output, initial_weights, step_size, tolerance)\n",
    "print updated_weight_2"
   ]
  },
  {
   "cell_type": "code",
   "execution_count": 33,
   "metadata": {},
   "outputs": [
    {
     "data": {
      "text/plain": [
       "array([366651.41203656, 762662.39786164, 386312.09499712, ...,\n",
       "       682087.39928241, 585579.27865729, 216559.20396617])"
      ]
     },
     "execution_count": 33,
     "metadata": {},
     "output_type": "execute_result"
    }
   ],
   "source": [
    "(feature_matrix_2_test, output_test) = get_numpy_data(test_data, model_features, my_output)\n",
    "predict_output(feature_matrix_2_test, updated_weight_2)"
   ]
  },
  {
   "cell_type": "code",
   "execution_count": 34,
   "metadata": {},
   "outputs": [
    {
     "data": {
      "text/plain": [
       "dtype: float\n",
       "Rows: 3\n",
       "[310000.0, 650000.0, 233000.0]"
      ]
     },
     "execution_count": 34,
     "metadata": {},
     "output_type": "execute_result"
    }
   ],
   "source": [
    "test_data['price'].head(3)"
   ]
  },
  {
   "cell_type": "code",
   "execution_count": 35,
   "metadata": {},
   "outputs": [],
   "source": [
    "def rss2(feature_matrix, weights,output):\n",
    "    \n",
    "    prediction = predict_output(feature_matrix, weights)\n",
    "    error = prediction - output\n",
    "    \n",
    "    return (np.dot(error, error))"
   ]
  },
  {
   "cell_type": "code",
   "execution_count": 36,
   "metadata": {},
   "outputs": [
    {
     "name": "stdout",
     "output_type": "stream",
     "text": [
      "1201918394833304.0\n",
      "1186978098009575.8\n"
     ]
    }
   ],
   "source": [
    "print rss2(simple_feature_matrix,updated_weight_simple,output)\n",
    "print rss2(feature_matrix_2, updated_weight_2,output)"
   ]
  },
  {
   "cell_type": "code",
   "execution_count": null,
   "metadata": {},
   "outputs": [],
   "source": []
  }
 ],
 "metadata": {
  "kernelspec": {
   "display_name": "Python 2",
   "language": "python",
   "name": "python2"
  },
  "language_info": {
   "codemirror_mode": {
    "name": "ipython",
    "version": 2
   },
   "file_extension": ".py",
   "mimetype": "text/x-python",
   "name": "python",
   "nbconvert_exporter": "python",
   "pygments_lexer": "ipython2",
   "version": "2.7.16"
  }
 },
 "nbformat": 4,
 "nbformat_minor": 1
}
