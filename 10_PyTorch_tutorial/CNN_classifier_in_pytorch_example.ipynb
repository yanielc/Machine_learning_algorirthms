{
 "metadata": {
  "language_info": {
   "codemirror_mode": {
    "name": "ipython",
    "version": 3
   },
   "file_extension": ".py",
   "mimetype": "text/x-python",
   "name": "python",
   "nbconvert_exporter": "python",
   "pygments_lexer": "ipython3",
   "version": "3.8.5-final"
  },
  "orig_nbformat": 2,
  "kernelspec": {
   "name": "python3",
   "display_name": "Python 3",
   "language": "python"
  }
 },
 "nbformat": 4,
 "nbformat_minor": 2,
 "cells": [
  {
   "cell_type": "code",
   "execution_count": 3,
   "metadata": {},
   "outputs": [],
   "source": [
    "import numpy as np\n",
    "import matplotlib.pyplot as plt\n",
    "from mpl_toolkits.axes_grid1 import ImageGrid\n",
    "import matplotlib.animation as animation\n",
    "\n",
    "# Pytorch packages\n",
    "import torch\n",
    "import torch.nn as nn\n",
    "from torch.utils.data import DataLoader\n",
    "from torch.utils.data import sampler\n",
    "from torchvision import datasets, transforms\n",
    "from torchvision.utils import save_image, make_grid\n",
    "import torch.nn.functional as F"
   ]
  },
  {
   "source": [
    "## Setting up the GPU if available"
   ],
   "cell_type": "markdown",
   "metadata": {}
  },
  {
   "cell_type": "code",
   "execution_count": 4,
   "metadata": {},
   "outputs": [
    {
     "output_type": "stream",
     "name": "stdout",
     "text": [
      "The device that will be used is: cpu\n"
     ]
    }
   ],
   "source": [
    "# Device selection\n",
    "\n",
    "GPU = True\n",
    "device_idx = 0\n",
    "if GPU:\n",
    "    device = torch.device('cuda'+str(device_idx) if torch.cuda.is_available() else 'cpu')\n",
    "else:\n",
    "    print('please first activate the GPU by going Runtime>Change Runtime type')\n",
    "    device = torch.device('cpu')\n",
    "print('The device that will be used is:',device)"
   ]
  },
  {
   "cell_type": "code",
   "execution_count": 6,
   "metadata": {},
   "outputs": [],
   "source": [
    "transform = transforms.Compose(\n",
    "    [\n",
    "    transforms.Resize(256),\n",
    "    transforms.CenterCrop(256),\n",
    "    transforms.ToTensor(),\n",
    "    transforms.Normalize([0.5, 0.5, 0.5], [0.5, 0.5, 0.5]),\n",
    "    ]\n",
    ")\n",
    "\n",
    "'''\n",
    "torchvision.datasets.ImageFolder is a generic data loader where the images are arranged in this way:\n",
    "\n",
    "root/dog/xxx.png\n",
    "root/dog/xxy.png\n",
    "root/dog/xxz.png\n",
    "\n",
    "root/cat/123.png\n",
    "root/cat/nsdf3.png\n",
    "root/cat/asd932_.png'''\n",
    "\n",
    "path = './NaturalImageNet'\n",
    "dataset = datasets.ImageFolder(root=path, transform=transform)"
   ]
  },
  {
   "cell_type": "code",
   "execution_count": 7,
   "metadata": {},
   "outputs": [],
   "source": [
    "# Create train test split\n",
    "n = len(dataset)\n",
    "n_test = 1000 # use 1000 images as test set\n",
    "\n",
    "train_set, test_set = torch.utils.data.random_split(dataset, [n-n_test, n_test])\n",
    "\n",
    "# The number of image to processs in one go. If you run out of GPU memory reduce this number\n",
    "batch_size = 128\n",
    "\n",
    "loader_train = DataLoader(train_set, batch_size=batch_size, shuffle=True, num_workers=4)\n",
    "loader_test = DataLoader(test_set, batch_size=batch_size, shuffle=True, num_workers=4)"
   ]
  },
  {
   "cell_type": "code",
   "execution_count": null,
   "metadata": {},
   "outputs": [],
   "source": []
  }
 ]
}